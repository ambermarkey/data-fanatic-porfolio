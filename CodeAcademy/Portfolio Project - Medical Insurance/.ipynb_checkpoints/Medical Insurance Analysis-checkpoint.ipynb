{
 "cells": [
  {
   "cell_type": "code",
   "execution_count": 1,
   "id": "1211425f",
   "metadata": {},
   "outputs": [],
   "source": [
    "import csv"
   ]
  },
  {
   "cell_type": "code",
   "execution_count": 11,
   "id": "666dd19e",
   "metadata": {},
   "outputs": [],
   "source": [
    "with open('insurance.csv') as insurance_data:\n",
    "    insurance_dict = csv.DictReader(insurance_data)\n",
    "    # unpacking the insurance dictionary\n",
    "    insurance_list = []\n",
    "    for item in insurance_dict: #actually creating a usable dictionary once the file is closed...\n",
    "        insurance_list.append({key:value for key, value in item.items()})"
   ]
  },
  {
   "cell_type": "code",
   "execution_count": 12,
   "id": "c2841088",
   "metadata": {},
   "outputs": [
    {
     "ename": "IndentationError",
     "evalue": "expected an indented block (1181789785.py, line 2)",
     "output_type": "error",
     "traceback": [
      "\u001b[1;36m  Input \u001b[1;32mIn [12]\u001b[1;36m\u001b[0m\n\u001b[1;33m    for item in dictionary:\u001b[0m\n\u001b[1;37m                           ^\u001b[0m\n\u001b[1;31mIndentationError\u001b[0m\u001b[1;31m:\u001b[0m expected an indented block\n"
     ]
    }
   ],
   "source": [
    "def get_sex_count(dictionary):\n",
    "    for item in dictionary:\n",
    "        "
   ]
  },
  {
   "cell_type": "code",
   "execution_count": null,
   "id": "7113c082",
   "metadata": {},
   "outputs": [],
   "source": []
  }
 ],
 "metadata": {
  "kernelspec": {
   "display_name": "Python 3 (ipykernel)",
   "language": "python",
   "name": "python3"
  },
  "language_info": {
   "codemirror_mode": {
    "name": "ipython",
    "version": 3
   },
   "file_extension": ".py",
   "mimetype": "text/x-python",
   "name": "python",
   "nbconvert_exporter": "python",
   "pygments_lexer": "ipython3",
   "version": "3.9.12"
  }
 },
 "nbformat": 4,
 "nbformat_minor": 5
}
