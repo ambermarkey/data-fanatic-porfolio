{
 "cells": [
  {
   "cell_type": "code",
   "execution_count": 10,
   "id": "3d12c473",
   "metadata": {},
   "outputs": [],
   "source": [
    "import csv"
   ]
  },
  {
   "cell_type": "markdown",
   "id": "8088563b",
   "metadata": {},
   "source": [
    "## Step 1 - Importing the data"
   ]
  },
  {
   "cell_type": "code",
   "execution_count": 82,
   "id": "a273c52e",
   "metadata": {},
   "outputs": [
    {
     "name": "stdout",
     "output_type": "stream",
     "text": [
      "1338\n"
     ]
    }
   ],
   "source": [
    "with open('insurance.csv') as insurance_data:\n",
    "    insurance_dict = csv.DictReader(insurance_data)\n",
    "    # unpacking the insurance dictionary\n",
    "    insurance_list = []\n",
    "    count = 0\n",
    "    for item in insurance_dict: #actually creating a usable dictionary once the file is closed...\n",
    "        insurance_list.append({key:value for key, value in item.items()})\n",
    "        count +=1\n",
    "    print(count)"
   ]
  },
  {
   "cell_type": "markdown",
   "id": "6414890c",
   "metadata": {},
   "source": [
    "## Step 2 -  Let's explore the data and ensure we have the correct datatypes.\n",
    "* Age should be int\n",
    "* BMI should be float\n",
    "* number of children should be int\n",
    "\n",
    "<em> Looks like the data types need to be converted, so lets do that first!</em>\n",
    "* {'age': '19', 'sex': 'female', 'bmi': '27.9', 'children': '0', 'smoker': 'yes', 'region': 'southwest', 'charges': '16884.924'}"
   ]
  },
  {
   "cell_type": "code",
   "execution_count": 83,
   "id": "93f4d304",
   "metadata": {},
   "outputs": [],
   "source": [
    "def conversion_func(dictionary):\n",
    "    #in this function, we are going to convert datatypes\n",
    "    for item in dictionary:\n",
    "        # reset the datatypes here:\n",
    "        item['age'] = int(item['age'])\n",
    "        item['bmi'] = float(item['bmi'])\n",
    "        item['children'] = int(item['children'])\n",
    "        item['charges'] = float(item['charges'])\n",
    "    return dictionary\n",
    "new_insurance_dict = conversion_func(insurance_list)\n",
    "#print(new_insurance_dict)\n",
    "# now we have the correct data types to work with! \n",
    "# {'age': 19, 'sex': 'female', 'bmi': 27.9, 'children': 0, 'smoker': 'yes', 'region': 'southwest', 'charges': 16884.924}"
   ]
  },
  {
   "cell_type": "markdown",
   "id": "9a09e0b4",
   "metadata": {},
   "source": [
    "## Step 3 - Defining a bunch of functions to slice the data into different categories\n",
    "From these categories, one could then run additional analyses to determine average costs, etc. Each function can be modified easily to return the counts from each category and sub-category.\n",
    "\n",
    "### Step 3.a - Break the data down into Males and Females"
   ]
  },
  {
   "cell_type": "code",
   "execution_count": 84,
   "id": "c489e8f7",
   "metadata": {},
   "outputs": [
    {
     "name": "stdout",
     "output_type": "stream",
     "text": [
      "There are 662 women in the dataset and 676 men.\n"
     ]
    }
   ],
   "source": [
    "def gender_breakdown(dictionary):\n",
    "    \n",
    "    # initiate the new dictionary with two sub-dictionaries\n",
    "    gender_dict = {'males':[], 'females':[]}\n",
    "    \n",
    "    # while we're at it, let's get a count of how many men and women are included in the dataset.\n",
    "    male_count = 0\n",
    "    female_count = 0\n",
    "    \n",
    "    # iterate through the dictionary of data to separate records for men and women into two sub-dictionaries.\n",
    "    for item in dictionary:\n",
    "        if item['sex'] == 'male':\n",
    "            gender_dict['males'].append(item)\n",
    "            male_count += 1\n",
    "        elif item['sex'] == 'female':\n",
    "            gender_dict['females'].append(item)\n",
    "            female_count += 1\n",
    "    print('There are ' + str(female_count) +' women in the dataset and ' + str(male_count) + ' men.')\n",
    "    return gender_dict\n",
    "\n",
    "by_gender_dict = gender_breakdown(new_insurance_dict)\n",
    "# print(by_gender_dict['females']) # double check that the separation worked as expected. "
   ]
  },
  {
   "cell_type": "markdown",
   "id": "4ef559d8",
   "metadata": {},
   "source": [
    "### Step 3.b - Let's look at representation by region"
   ]
  },
  {
   "cell_type": "code",
   "execution_count": 96,
   "id": "aa6c3332",
   "metadata": {},
   "outputs": [
    {
     "name": "stdout",
     "output_type": "stream",
     "text": [
      "Broken down by region, there are 324 in the NE, 364 in the SE, 325 in the NW, and 325 in the SW.\n"
     ]
    }
   ],
   "source": [
    "def region_breakdown(dictionary):\n",
    "    \n",
    "    # here is a dictionary of the regions. Not sure a dictinary is necessary, but digging working w/ these things.\n",
    "    regions = {1: 'northeast', 2: 'southeast', 3: 'northwest', 4: 'southwest'}\n",
    "    \n",
    "    # creating a new dictionary for people in each region. \n",
    "    region_dict = {'Northeast': [], 'Southeast':[], 'Northwest':[], 'Southwest':[]}\n",
    "    \n",
    "    # Let's get a count of each. \n",
    "    region1_count = 0\n",
    "    region2_count = 0\n",
    "    region3_count = 0\n",
    "    region4_count = 0\n",
    "    \n",
    "    # let's check to see which dictionary is input. If the high-level dictionary, we need to handle it differently than a broken down dict.\n",
    "    for item in dictionary:\n",
    "        \n",
    "        # If a dictionary of dictionaries (Such as by_gender_dict)\n",
    "        if (type(item) is str):\n",
    "            for line in dictionary[item]:\n",
    "                if regions[1] in line['region']:\n",
    "                    region_dict['Northeast'].append(line)\n",
    "                    region1_count += 1\n",
    "                elif regions[2] in line['region']:\n",
    "                    region_dict['Southeast'].append(line)\n",
    "                    region2_count += 1\n",
    "                elif regions[3] in line['region']:\n",
    "                    region_dict['Northwest'].append(line)\n",
    "                    region3_count += 1\n",
    "                elif regions[4] in line['region']:\n",
    "                    region_dict['Southwest'].append(line)\n",
    "                    region4_count += 1\n",
    "        \n",
    "        # if not, it's the main dictionary\n",
    "        elif type(item) is dict:\n",
    "            if regions[1] in item['region']:\n",
    "                region_dict['Northeast'].append(item)\n",
    "                region1_count += 1\n",
    "            elif regions[2] in item['region']:\n",
    "                region_dict['Southeast'].append(item)\n",
    "                region2_count += 1\n",
    "            elif regions[3] in item['region']:\n",
    "                region_dict['Northwest'].append(item)\n",
    "                region3_count += 1\n",
    "            elif regions[4] in item['region']:\n",
    "                region_dict['Southwest'].append(item)\n",
    "                region4_count += 1\n",
    "    print('Broken down by region, there are ' + str(region1_count) + ' in the NE, ' + str(region2_count) + ' in the SE, ' + str(region3_count) +' in the NW, and ' + str(region4_count) +' in the SW.')\n",
    "    return region_dict\n",
    "\n",
    "by_region_dict = region_breakdown(by_gender_dict)\n"
   ]
  },
  {
   "cell_type": "markdown",
   "id": "745f0d05",
   "metadata": {},
   "source": [
    "### Step 3.c - Looking at Representation by Age Group"
   ]
  },
  {
   "cell_type": "code",
   "execution_count": 86,
   "id": "be32039a",
   "metadata": {},
   "outputs": [
    {
     "name": "stdout",
     "output_type": "stream",
     "text": [
      "Broken down by age group, the counts are in order of {'19 to 24': [], '25 to 29':[], '30 to 34':[], '35 to 39':[], '40 to 44':[], '45 to 49':[], '50 to 54':[], '55 to 59':[], '60 to 64':[]} 278,139,132,125,135,144,143,128,114\n"
     ]
    }
   ],
   "source": [
    "def agegroup_breakdown(dictionary):\n",
    "    \n",
    "    # here is a dictionary of the regions. Not sure a dictinary is necessary, but digging working w/ these things.\n",
    "    age_groups = {1: 24, 2: 29, 3: 34, 4: 39, 5: 44, 6: 49, 7: 54, 8: 59, 9: 64}\n",
    "    \n",
    "    # creating a new dictionary for people in each region. \n",
    "    agegroup_dict = {'19 to 24': [], '25 to 29':[], '30 to 34':[], '35 to 39':[], '40 to 44':[], '45 to 49':[], '50 to 54':[], '55 to 59':[], '60 to 64':[]}\n",
    "    \n",
    "    # Let's get a count of each. \n",
    "    group1_count = 0\n",
    "    group2_count = 0\n",
    "    group3_count = 0\n",
    "    group4_count = 0\n",
    "    group5_count = 0\n",
    "    group6_count = 0\n",
    "    group7_count = 0\n",
    "    group8_count = 0\n",
    "    group9_count = 0\n",
    "    \n",
    "    # let's check to see which dictionary is input. If the high-level dictionary, we need to handle it differently than a broken down dict.\n",
    "    for item in dictionary:\n",
    "        \n",
    "        # If a dictionary of dictionaries (Such as by_gender_dict)\n",
    "        if (type(item) is str):\n",
    "            for line in dictionary[item]:\n",
    "                if line['age'] <= age_groups[1]:\n",
    "                    agegroup_dict['19 to 24'].append(line)\n",
    "                    group1_count += 1\n",
    "                elif line['age'] <= age_groups [2] and line['age'] > age_groups[1]:\n",
    "                    agegroup_dict['25 to 29'].append(line)\n",
    "                    group2_count += 1\n",
    "                elif line['age'] <= age_groups [3] and line['age']> age_groups[2]:\n",
    "                    agegroup_dict['30 to 34'].append(line)\n",
    "                    group3_count += 1\n",
    "                elif line['age'] <= age_groups [4] and line['age']> age_groups[3]:\n",
    "                    agegroup_dict['35 to 39'].append(line)\n",
    "                    group4_count += 1\n",
    "                elif line['age'] <= age_groups [5] and line['age']> age_groups[4]:\n",
    "                    agegroup_dict['40 to 44'].append(line)\n",
    "                    group5_count += 1\n",
    "                elif line['age'] <= age_groups [6] and line['age']> age_groups[5]:\n",
    "                    agegroup_dict['45 to 49'].append(line)\n",
    "                    group6_count += 1\n",
    "                elif line['age'] <= age_groups [7] and line['age']> age_groups[6]:\n",
    "                    agegroup_dict['50 to 54'].append(line)\n",
    "                    group7_count += 1\n",
    "                elif line['age'] <= age_groups [8] and line['age']> age_groups[7]:\n",
    "                    agegroup_dict['55 to 59'].append(line)\n",
    "                    group8_count += 1\n",
    "                elif line['age'] <= age_groups [9] and line['age']> age_groups[8]:\n",
    "                    agegroup_dict['60 to 64'].append(line)\n",
    "                    group9_count += 1\n",
    "        \n",
    "        # if not, it's the main dictionary\n",
    "        elif type(item) is dict:\n",
    "            if item['age'] <= age_groups[1]:\n",
    "                agegroup_dict['19 to 24'].append(line)\n",
    "                group1_count += 1\n",
    "            elif item['age'] <= age_groups [2] and item['age'] > age_groups[1]:\n",
    "                agegroup_dict['25 to 29'].append(line)\n",
    "                group2_count += 1\n",
    "            elif item['age'] <= age_groups [3] and item['age'] > age_groups[2]:\n",
    "                agegroup_dict['30 to 34'].append(line)\n",
    "                group3_count += 1\n",
    "            elif item['age'] <= age_groups [4] and item['age']> age_groups[3]:\n",
    "                agegroup_dict['35 to 39'].append(line)\n",
    "                group4_count += 1\n",
    "            elif item['age'] <= age_groups [5] and item['age']> age_groups[4]:\n",
    "                agegroup_dict['40 to 44'].append(line)\n",
    "                group5_count += 1\n",
    "            elif item['age'] <= age_groups [6] and item['age']> age_groups[5]:\n",
    "                agegroup_dict['45 to 49'].append(line)\n",
    "                group6_count += 1\n",
    "            elif item['age'] <= age_groups [7] and item['age']> age_groups[6]:\n",
    "                agegroup_dict['50 to 54'].append(line)\n",
    "                group7_count += 1\n",
    "            elif item['age'] <= age_groups [8] and item['age']> age_groups[7]:\n",
    "                agegroup_dict['55 to 59'].append(line)\n",
    "                group8_count += 1\n",
    "            elif item['age'] <= age_groups [9] and item['age']> age_groups[8]:\n",
    "                agegroup_dict['60 to 64'].append(line)\n",
    "                group9_count += 1\n",
    "    print(\"Broken down by age group, the counts are in order of {'19 to 24': [], '25 to 29':[], '30 to 34':[], '35 to 39':[], '40 to 44':[], '45 to 49':[], '50 to 54':[], '55 to 59':[], '60 to 64':[]} \" + str(group1_count) + ','+str(group2_count) +','+  str(group3_count)+','+ str(group4_count) +','+str(group5_count) +','+str(group6_count)+','+str(group7_count)+','+str(group8_count)+','+str(group9_count))\n",
    "    return agegroup_dict\n",
    "\n",
    "by_age_dict = agegroup_breakdown(by_gender_dict)"
   ]
  },
  {
   "cell_type": "markdown",
   "id": "50c870a8",
   "metadata": {},
   "source": [
    "## Step 4 - Analyzing the Data to determine which group(s) have highest insurance costs\n",
    "\n",
    "### Step 4.a - Average cost of insurance by BMI group"
   ]
  },
  {
   "cell_type": "code",
   "execution_count": 112,
   "id": "d4b88bf7",
   "metadata": {},
   "outputs": [
    {
     "name": "stdout",
     "output_type": "stream",
     "text": [
      "The overall average is $13270.422265141253.\n",
      "    The average cost for an underweight person in the selected population is: $8657.620652380954.\n",
      "    The average cost for a healthy person is: $10404.900083891405.\n",
      "    The average cost for an overweight person is: $11006.80998941842.\n",
      "    The average cost for an obese person is: $15491.542238184353.\n",
      "\n",
      "The total insurance charges are $17755824.990758996.\n",
      "    For the population provided, there are $21 underweight individuals with total insurance charges of 181810.03370000003.\n",
      "    There are 221 healthy individuals with total charges of $2299482.9185400004.\n",
      "    There are 380 overweight individuals with total charges of $4182587.7959789997.\n",
      "    There are 716 obese individuals with total charges of $11091944.242539996.\n",
      "\n"
     ]
    },
    {
     "data": {
      "text/plain": [
       "('The overall average is $13270.422265141253.\\n    The average cost for an underweight person in the selected population is: $8657.620652380954.\\n    The average cost for a healthy person is: $10404.900083891405.\\n    The average cost for an overweight person is: $11006.80998941842.\\n    The average cost for an obese person is: $15491.542238184353.\\n',\n",
       " 'The total insurance charges are $17755824.990758996.\\n    For the population provided, there are $21 underweight individuals with total insurance charges of 181810.03370000003.\\n    There are 221 healthy individuals with total charges of $2299482.9185400004.\\n    There are 380 overweight individuals with total charges of $4182587.7959789997.\\n    There are 716 obese individuals with total charges of $11091944.242539996.\\n')"
      ]
     },
     "execution_count": 112,
     "metadata": {},
     "output_type": "execute_result"
    }
   ],
   "source": [
    "def get_BMI_cost(dictionary):\n",
    "    \"\"\"If calling this function, please use the main-level dictionary created when importing the data. Otherwise, the\n",
    "    funtion will throw an error. Alternatively, for other datasets, you can call the function with a sub-dictionary! Thanks!\"\"\"\n",
    "        \n",
    "    # initialize the counting variables:\n",
    "    underweight = 0\n",
    "    un_ct = 0\n",
    "    healthy = 0\n",
    "    he_ct = 0\n",
    "    overweight = 0\n",
    "    ov_ct = 0\n",
    "    obese = 0\n",
    "    ob_ct = 0\n",
    "    bmi_groups = {'underweight': 18.5, 'Healthy': 24.9, 'Overweight': 29.9} # Obese = 30.0 and above\n",
    "    \n",
    "    # run through the data to find the totals for charges and counts for people in each group.\n",
    "    for item in dictionary:\n",
    "        if item['bmi'] <= bmi_groups['underweight']:\n",
    "            underweight += item['charges']\n",
    "            un_ct += 1\n",
    "        elif item['bmi'] > bmi_groups['underweight'] and item['bmi'] <= bmi_groups['Healthy']:\n",
    "            healthy += item['charges']\n",
    "            he_ct += 1\n",
    "        elif item['bmi'] > bmi_groups['Healthy'] and item['bmi'] <= bmi_groups['Overweight']:\n",
    "            overweight += item['charges']\n",
    "            ov_ct += 1\n",
    "        elif item['bmi'] > bmi_groups['Overweight']:\n",
    "            obese += item['charges']\n",
    "            ob_ct += 1\n",
    "    # Averaging the data\n",
    "    if un_ct > 0:\n",
    "        av_cost_un = underweight / un_ct\n",
    "    else:\n",
    "        av_cost_un = 'n/a'\n",
    "    av_cost_he = healthy / he_ct\n",
    "    av_cost_ov = overweight / ov_ct\n",
    "    av_cost_ob = obese / ob_ct\n",
    "    tot = (underweight + healthy + overweight + obese)\n",
    "    av = (tot)/(un_ct + he_ct + ov_ct + ob_ct)\n",
    "    \n",
    "    # Create the report text\n",
    "    report = \"\"\"The overall average is ${average}.\n",
    "    The average cost for an underweight person in the selected population is: ${under}.\n",
    "    The average cost for a healthy person is: ${healthy}.\n",
    "    The average cost for an overweight person is: ${overweight}.\n",
    "    The average cost for an obese person is: ${obese}.\\n\"\"\"\n",
    "    \n",
    "    report_2 = \"\"\"The total insurance charges are ${total}.\n",
    "    For the population provided, there are ${under} underweight individuals with total insurance charges of {under_total}.\n",
    "    There are {healthy} healthy individuals with total charges of ${healthy_total}.\n",
    "    There are {overweight} overweight individuals with total charges of ${over_total}.\n",
    "    There are {obese} obese individuals with total charges of ${obese_total}.\\n\"\"\"\n",
    "    \n",
    "    final_report = report.format(average = av, under = av_cost_un, healthy = av_cost_he, overweight = av_cost_ov, obese = av_cost_ob)\n",
    "    final_report2 = report_2.format(total = tot, under = un_ct, under_total = underweight, healthy = he_ct, healthy_total = healthy, overweight = ov_ct, over_total = overweight, obese = ob_ct, obese_total = obese)\n",
    "    \n",
    "    # Print using string methods\n",
    "    print(final_report)\n",
    "    print(final_report2)\n",
    "    return final_report, final_report2\n",
    "\n",
    "get_BMI_cost(new_insurance_dict)"
   ]
  },
  {
   "cell_type": "code",
   "execution_count": null,
   "id": "0b0e50b4",
   "metadata": {},
   "outputs": [],
   "source": [
    "def get_children(dictionary):\n",
    "    \"\"\"Suggestions for calling this function effectively:\n",
    "    * Use the main-level dictionary created when importing the data.\n",
    "    * Use a dictionary created by the region, age group or gender functions by iterating over the sub-dicts in a for loop.\"\"\"\n",
    "    \n",
    "    "
   ]
  },
  {
   "cell_type": "markdown",
   "id": "cef9491b",
   "metadata": {},
   "source": [
    "## BONUS!"
   ]
  },
  {
   "cell_type": "markdown",
   "id": "c0101da4",
   "metadata": {},
   "source": [
    "### B.1 For this bonus round, I want to explore one of the following:\n",
    "* Organize your findings into dictionaries, lists, or another convenient datatype.\n",
    "* Make predictions about what features are the most influential for an individual’s medical insurance charges based on your analysis.\n",
    "* Explore areas where the data may include bias and how that would impact potential use cases."
   ]
  },
  {
   "cell_type": "markdown",
   "id": "cc20a788",
   "metadata": {},
   "source": [
    "### B.2 For this second bonus round, I want to write a function that will interate through a given dictionary and provide average values for the insurance costs based on the keys of the dictionary and sub-dicts."
   ]
  },
  {
   "cell_type": "markdown",
   "id": "4f12bc0a",
   "metadata": {},
   "source": [
    "### B.3 Write results to a new file!"
   ]
  },
  {
   "cell_type": "code",
   "execution_count": 111,
   "id": "5036a8ed",
   "metadata": {},
   "outputs": [
    {
     "name": "stdout",
     "output_type": "stream",
     "text": [
      "The overall average is $13406.384516385804.\n",
      "    The average cost for an underweight person in the selected population is: $8914.42392.\n",
      "    The average cost for a healthy person is: $11151.782012222224.\n",
      "    The average cost for an overweight person is: $10818.593626928576.\n",
      "    The average cost for an obese person is: $16606.762942986108.\n",
      "\n",
      "The total insurance charges are $4343668.583309.\n",
      "    For the population provided, there are 10 underweight individuals with total insurance charges of 89144.2392.\n",
      "    There are 72 healthy individuals with total charges of 802928.3048800001.\n",
      "    There are 98 overweight individuals with total charges of 1060222.1754390004.\n",
      "    There are 144 obese individuals with total charges of 2391373.8637899994.\n",
      "\n",
      "The overall average is $14735.411437609893.\n",
      "    The average cost for an underweight person in the selected population is: $n/a.\n",
      "    The average cost for a healthy person is: $13286.808262250002.\n",
      "    The average cost for an overweight person is: $10846.202292000002.\n",
      "    The average cost for an obese person is: $16139.567312851408.\n",
      "\n",
      "The total insurance charges are $5363689.763290001.\n",
      "    For the population provided, there are 0 underweight individuals with total insurance charges of 0.\n",
      "    There are 40 healthy individuals with total charges of 531472.3304900001.\n",
      "    There are 75 overweight individuals with total charges of 813465.1719000001.\n",
      "    There are 249 obese individuals with total charges of 4018752.2609000006.\n",
      "\n",
      "The overall average is $12417.57537396923.\n",
      "    The average cost for an underweight person in the selected population is: $9223.351214285714.\n",
      "    The average cost for a healthy person is: $10032.506793064516.\n",
      "    The average cost for an overweight person is: $11503.928782735848.\n",
      "    The average cost for an obese person is: $14198.111105999998.\n",
      "\n",
      "The total insurance charges are $4035711.9965399997.\n",
      "    For the population provided, there are 7 underweight individuals with total insurance charges of 64563.4585.\n",
      "    There are 62 healthy individuals with total charges of 622015.42117.\n",
      "    There are 106 overweight individuals with total charges of 1219416.45097.\n",
      "    There are 150 obese individuals with total charges of 2129716.6659.\n",
      "\n",
      "The overall average is $12346.93737729231.\n",
      "    The average cost for an underweight person in the selected population is: $7025.584.\n",
      "    The average cost for a healthy person is: $7299.294936170213.\n",
      "    The average cost for an overweight person is: $10786.970273960396.\n",
      "    The average cost for an obese person is: $14752.031514161854.\n",
      "\n",
      "The total insurance charges are $4012754.647620001.\n",
      "    For the population provided, there are 4 underweight individuals with total insurance charges of 28102.336.\n",
      "    There are 47 healthy individuals with total charges of 343066.862.\n",
      "    There are 101 overweight individuals with total charges of 1089483.99767.\n",
      "    There are 173 obese individuals with total charges of 2552101.4519500006.\n",
      "\n"
     ]
    }
   ],
   "source": [
    "regions = {1: 'Northeast', 2: 'Southeast', 3: 'Northwest', 4: 'Southwest'}\n",
    "\n",
    "for region in regions:\n",
    "    with open('Insurance_results.txt', 'a') as f:\n",
    "        report, report_2 = get_BMI_cost(by_region_dict[regions[region]])\n",
    "        string = '\\nThe following is for the {region} population in the insurance dataset.\\n'\n",
    "        \n",
    "        f.write(string.format(region = regions[region]))\n",
    "        f.writelines(report)\n",
    "        f.writelines(report_2)"
   ]
  },
  {
   "cell_type": "code",
   "execution_count": null,
   "id": "bd856e3a",
   "metadata": {},
   "outputs": [],
   "source": []
  }
 ],
 "metadata": {
  "kernelspec": {
   "display_name": "Python 3 (ipykernel)",
   "language": "python",
   "name": "python3"
  },
  "language_info": {
   "codemirror_mode": {
    "name": "ipython",
    "version": 3
   },
   "file_extension": ".py",
   "mimetype": "text/x-python",
   "name": "python",
   "nbconvert_exporter": "python",
   "pygments_lexer": "ipython3",
   "version": "3.9.12"
  }
 },
 "nbformat": 4,
 "nbformat_minor": 5
}
