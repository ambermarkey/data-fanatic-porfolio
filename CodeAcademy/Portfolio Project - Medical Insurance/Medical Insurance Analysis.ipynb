{
 "cells": [
  {
   "cell_type": "code",
   "execution_count": 1,
   "id": "3d12c473",
   "metadata": {},
   "outputs": [],
   "source": [
    "import csv"
   ]
  },
  {
   "cell_type": "code",
   "execution_count": 11,
   "id": "a273c52e",
   "metadata": {},
   "outputs": [],
   "source": [
    "with open('insurance.csv') as insurance_data:\n",
    "    insurance_dict = csv.DictReader(insurance_data)\n",
    "    # unpacking the insurance dictionary\n",
    "    insurance_list = []\n",
    "    for item in insurance_dict: #actually creating a usable dictionary once the file is closed...\n",
    "        insurance_list.append({key:value for key, value in item.items()})"
   ]
  },
  {
   "cell_type": "code",
   "execution_count": null,
   "id": "5f7c4425",
   "metadata": {},
   "outputs": [],
   "source": [
    "# clean data - look for any null values and .pop into a list\n",
    "# clean data - look for any misspelled 'male', 'female', 'smoker', 'non-smoker', or region data.\n",
    "#------> can use string methods to look for partial spellings?"
   ]
  },
  {
   "cell_type": "code",
   "execution_count": 12,
   "id": "e3b47788",
   "metadata": {},
   "outputs": [
    {
     "ename": "IndentationError",
     "evalue": "expected an indented block (1181789785.py, line 2)",
     "output_type": "error",
     "traceback": [
      "\u001b[1;36m  Input \u001b[1;32mIn [12]\u001b[1;36m\u001b[0m\n\u001b[1;33m    for item in dictionary:\u001b[0m\n\u001b[1;37m                           ^\u001b[0m\n\u001b[1;31mIndentationError\u001b[0m\u001b[1;31m:\u001b[0m expected an indented block\n"
     ]
    }
   ],
   "source": [
    "\"\"\"Defining a function to quantify the representation of males, females \n",
    "within age, BMI, number of children, and smoker categories\"\"\"\n",
    "\n",
    "def get_sex_count(dictionary):\n",
    "    for item in dictionary:\n",
    "        "
   ]
  },
  {
   "cell_type": "code",
   "execution_count": null,
   "id": "93f4d304",
   "metadata": {},
   "outputs": [],
   "source": []
  }
 ],
 "metadata": {
  "kernelspec": {
   "display_name": "Python 3 (ipykernel)",
   "language": "python",
   "name": "python3"
  },
  "language_info": {
   "codemirror_mode": {
    "name": "ipython",
    "version": 3
   },
   "file_extension": ".py",
   "mimetype": "text/x-python",
   "name": "python",
   "nbconvert_exporter": "python",
   "pygments_lexer": "ipython3",
   "version": "3.9.12"
  }
 },
 "nbformat": 4,
 "nbformat_minor": 5
}
