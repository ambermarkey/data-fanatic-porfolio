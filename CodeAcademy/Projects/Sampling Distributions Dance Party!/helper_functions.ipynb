{
 "cells": [
  {
   "cell_type": "code",
   "execution_count": 2,
   "id": "91a19135",
   "metadata": {},
   "outputs": [],
   "source": [
    "import numpy as np\n",
    "import pandas as pd\n",
    "import matplotlib.pyplot as plt\n",
    "from scipy import stats\n",
    "import seaborn as sns\n",
    "\n",
    "\n",
    "def choose_statistic(x, sample_stat_text):\n",
    "  # calculate mean if the text is \"Mean\"\n",
    "  if sample_stat_text == \"Mean\":\n",
    "    return np.mean(x)\n",
    "  # calculate minimum if the text is \"Minimum\"\n",
    "  elif sample_stat_text == \"Minimum\":\n",
    "    return np.min(x)\n",
    "  # calculate variance if the text is \"Variance\"\n",
    "  elif sample_stat_text == \"Variance\":\n",
    "    return np.var(x)\n",
    "  # if you want to add an extra stat\n",
    "  # raise error if sample_stat_text is not \"Mean\", \"Minimum\", or \"Variance\"\n",
    "  else:\n",
    "    raise Exception('Make sure to input \"Mean\", \"Minimum\", or \"Variance\"')\n",
    "\n",
    "def population_distribution(population_data):\n",
    "  # plot the population distribution\n",
    "  sns.histplot(population_data, stat='density')\n",
    "  # informative title for the distribution \n",
    "  plt.title(f\"Population Distribution\")\n",
    "  # remove None label\n",
    "  plt.xlabel('')\n",
    "  plt.show()\n",
    "  plt.clf()\n",
    "\n",
    "def sampling_distribution(population_data, samp_size, stat):\n",
    "  # list that will hold all the sample statistics\n",
    "  sample_stats = []\n",
    "  for i in range(500):\n",
    "    # get a random sample from the population of size samp_size\n",
    "    samp = np.random.choice(population_data, samp_size, replace = False)\n",
    "    # calculate the chosen statistic (mean, minimum, or variance) of the sample\n",
    "    sample_stat = choose_statistic(samp, stat)\n",
    "    # add sample_stat to the sample_stats list\n",
    "    sample_stats.append(sample_stat)\n",
    "  \n",
    "  pop_statistic = round(choose_statistic(population_data, stat),2)\n",
    "  # plot the sampling distribution\n",
    "  sns.histplot(sample_stats, stat='density')\n",
    "  # informative title for the sampling distribution\n",
    "  plt.title(f\"Sampling Distribution of the {stat} \\nMean of the Sample {stat}s: {round(np.mean(sample_stats), 2)} \\n Population {stat}: {pop_statistic}\")\n",
    "  plt.axvline(pop_statistic,color='g',linestyle='dashed', label=f'Population {stat}')\n",
    "  # plot the mean of the chosen sample statistic for the sampling distribution\n",
    "  plt.axvline(np.mean(sample_stats),color='orange',linestyle='dashed', label=f'Mean of the Sample {stat}s')\n",
    "  plt.legend()\n",
    "  plt.show()\n",
    "  plt.clf()"
   ]
  },
  {
   "cell_type": "code",
   "execution_count": null,
   "id": "810c5c51",
   "metadata": {},
   "outputs": [],
   "source": []
  }
 ],
 "metadata": {
  "kernelspec": {
   "display_name": "Python 3 (ipykernel)",
   "language": "python",
   "name": "python3"
  },
  "language_info": {
   "codemirror_mode": {
    "name": "ipython",
    "version": 3
   },
   "file_extension": ".py",
   "mimetype": "text/x-python",
   "name": "python",
   "nbconvert_exporter": "python",
   "pygments_lexer": "ipython3",
   "version": "3.9.12"
  }
 },
 "nbformat": 4,
 "nbformat_minor": 5
}
