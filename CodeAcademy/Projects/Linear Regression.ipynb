{
 "cells": [
  {
   "cell_type": "markdown",
   "id": "0cfe5602",
   "metadata": {},
   "source": [
    "# Reggie's Linear Regression"
   ]
  },
  {
   "cell_type": "code",
   "execution_count": 1,
   "id": "3ac62786",
   "metadata": {},
   "outputs": [
    {
     "name": "stdout",
     "output_type": "stream",
     "text": [
      "True\n",
      "True\n"
     ]
    }
   ],
   "source": [
    "# Task 1\n",
    "# Write your get_y() function here\n",
    "def get_y(m, b, x):\n",
    "    y = m*x + b\n",
    "    return y\n",
    "# Uncomment each print() statement to check your work. Each of the following should print True\n",
    "print(get_y(1, 0, 7) == 7)\n",
    "print(get_y(5, 10, 3) == 25)"
   ]
  },
  {
   "cell_type": "code",
   "execution_count": 2,
   "id": "9ce51801",
   "metadata": {},
   "outputs": [],
   "source": [
    "def calculate_error(m, b, point):\n",
    "    x_point = point[0]\n",
    "    y_point = point[1]\n",
    "    y_by_x = get_y(m, b, x_point)\n",
    "    diff = y_by_x - y_point \n",
    "    return abs(diff) #Error value between the two y values"
   ]
  },
  {
   "cell_type": "code",
   "execution_count": 6,
   "id": "51ca9434",
   "metadata": {},
   "outputs": [
    {
     "name": "stdout",
     "output_type": "stream",
     "text": [
      "0\n",
      "1\n",
      "1\n",
      "5\n"
     ]
    }
   ],
   "source": [
    "# Task 4\n",
    "# Uncomment each print() statement and check the output against the expected result\n",
    "\n",
    "# this is a line that looks like y = x, so (3, 3) should lie on it. thus, error should be 0:\n",
    "print(calculate_error(1, 0, (3, 3)))\n",
    "\n",
    "# the point (3, 4) should be 1 unit away from the line y = x:\n",
    "print(calculate_error(1, 0, (3, 4)))\n",
    "\n",
    "# the point (3, 3) should be 1 unit away from the line y = x - 1:\n",
    "print(calculate_error(1, -1, (3, 3)))\n",
    "\n",
    "# the point (3, 3) should be 5 units away from the line y = -x + 1:\n",
    "print(calculate_error(-1, 1, (3, 3)))"
   ]
  },
  {
   "cell_type": "code",
   "execution_count": 7,
   "id": "7886d707",
   "metadata": {},
   "outputs": [],
   "source": [
    "def calculate_all_error(m, b, points):\n",
    "    error = 0\n",
    "    for point in points:\n",
    "        error += calculate_error(m, b, point)\n",
    "    return error"
   ]
  },
  {
   "cell_type": "code",
   "execution_count": 19,
   "id": "7485823a",
   "metadata": {},
   "outputs": [
    {
     "name": "stdout",
     "output_type": "stream",
     "text": [
      "0\n",
      "4\n",
      "4\n",
      "18\n"
     ]
    }
   ],
   "source": [
    "# Task 6\n",
    "# Uncomment each print() statement and check the output against the expected result\n",
    "#datapoints = [(1, 1), (3, 3), (5, 5), (-1, -1)]\n",
    "\n",
    "# every point in this dataset lies upon y=x, so the total error should be zero:\n",
    "print(calculate_all_error(1, 0, datapoints))\n",
    "\n",
    "# every point in this dataset is 1 unit away from y = x + 1, so the total error should be 4:\n",
    "print(calculate_all_error(1, 1, datapoints))\n",
    "\n",
    "# every point in this dataset is 1 unit away from y = x - 1, so the total error should be 4:\n",
    "print(calculate_all_error(1, -1, datapoints))\n",
    "\n",
    "# the points in this dataset are 1, 5, 9, and 3 units away from y = -x + 1, respectively, so total error should be\n",
    "# 1 + 5 + 9 + 3 = 18\n",
    "print(calculate_all_error(-1, 1, datapoints))"
   ]
  },
  {
   "cell_type": "code",
   "execution_count": 21,
   "id": "ffde3aa1",
   "metadata": {},
   "outputs": [],
   "source": [
    "# Using List comprehension to generate a list of possible m and b values\n",
    "possible_ms = [x/10 for x in range(-100, 101, 1)] # -10 to 10 inclusive\n",
    "possible_bs = [x/10 for x in range(-200, 201, 1)] # -20 to 20 inclusive"
   ]
  },
  {
   "cell_type": "code",
   "execution_count": 27,
   "id": "5856f172",
   "metadata": {},
   "outputs": [
    {
     "name": "stdout",
     "output_type": "stream",
     "text": [
      "The best value for b is 1.6 and the best value for m is 0.4 which results in an Error value of 5.0\n"
     ]
    }
   ],
   "source": [
    "# Now we are going to find the combination of b, m that has the smallest error value.\n",
    "\n",
    "smallest_error = float('inf') # any error generated should be smaller than infinity \n",
    "best_m = 0\n",
    "best_b = 0\n",
    "datapoints = [(1, 2), (2, 0), (3, 4), (4, 4), (5, 3)]\n",
    "\n",
    "for m in possible_ms:\n",
    "    for b in possible_bs:\n",
    "        error = calculate_all_error(m, b, datapoints)\n",
    "        if error < smallest_error:\n",
    "            smallest_error = error\n",
    "            best_m = m\n",
    "            best_b = b\n",
    "\n",
    "print(\"The best value for b is \" + str(best_b) + \" and the best value for m is \" + str(best_m) + \" which results in an Error value of \" + str(smallest_error))"
   ]
  },
  {
   "cell_type": "code",
   "execution_count": 29,
   "id": "39b07544",
   "metadata": {},
   "outputs": [
    {
     "name": "stdout",
     "output_type": "stream",
     "text": [
      "3.5\n"
     ]
    }
   ],
   "source": [
    "y_6 = get_y(m = 0.3, b = 1.7, x = 6) # codeacademy's answers...hmm\n",
    "print(y_6)"
   ]
  },
  {
   "cell_type": "code",
   "execution_count": null,
   "id": "e2e26410",
   "metadata": {},
   "outputs": [],
   "source": []
  }
 ],
 "metadata": {
  "kernelspec": {
   "display_name": "Python 3 (ipykernel)",
   "language": "python",
   "name": "python3"
  },
  "language_info": {
   "codemirror_mode": {
    "name": "ipython",
    "version": 3
   },
   "file_extension": ".py",
   "mimetype": "text/x-python",
   "name": "python",
   "nbconvert_exporter": "python",
   "pygments_lexer": "ipython3",
   "version": "3.9.12"
  }
 },
 "nbformat": 4,
 "nbformat_minor": 5
}
