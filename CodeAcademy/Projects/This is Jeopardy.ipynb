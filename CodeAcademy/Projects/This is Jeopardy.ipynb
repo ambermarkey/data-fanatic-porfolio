{
 "cells": [
  {
   "cell_type": "markdown",
   "metadata": {},
   "source": [
    "# This is Jeopardy!"
   ]
  },
  {
   "cell_type": "markdown",
   "metadata": {},
   "source": [
    "#### Overview"
   ]
  },
  {
   "cell_type": "markdown",
   "metadata": {},
   "source": [
    "This project is slightly different than others you have encountered thus far. Instead of a step-by-step tutorial, this project contains a series of open-ended requirements which describe the project you'll be building. There are many possible ways to correctly fulfill all of these requirements, and you should expect to use the internet, Codecademy, and/or other resources when you encounter a problem that you cannot easily solve."
   ]
  },
  {
   "cell_type": "markdown",
   "metadata": {},
   "source": [
    "#### Project Goals"
   ]
  },
  {
   "cell_type": "markdown",
   "metadata": {},
   "source": [
    "You will work to write several functions that investigate a dataset of _Jeopardy!_ questions and answers. Filter the dataset for topics that you're interested in, compute the average difficulty of those questions, and train to become the next Jeopardy champion!"
   ]
  },
  {
   "cell_type": "markdown",
   "metadata": {},
   "source": [
    "## Prerequisites"
   ]
  },
  {
   "cell_type": "markdown",
   "metadata": {},
   "source": [
    "In order to complete this project, you should have completed the Pandas lessons in the <a href=\"https://www.codecademy.com/learn/paths/analyze-data-with-python\">Analyze Data with Python Skill Path</a>. You can also find those lessons in the <a href=\"https://www.codecademy.com/learn/data-processing-pandas\">Data Analysis with Pandas course</a> or the <a href=\"https://www.codecademy.com/learn/paths/data-science/\">Data Scientist Career Path</a>.\n",
    "\n",
    "Finally, the <a href=\"https://www.codecademy.com/learn/practical-data-cleaning\">Practical Data Cleaning</a> course may also be helpful."
   ]
  },
  {
   "cell_type": "markdown",
   "metadata": {},
   "source": [
    "## Project Requirements"
   ]
  },
  {
   "cell_type": "markdown",
   "metadata": {},
   "source": [
    "1. We've provided a csv file containing data about the game show _Jeopardy!_ in a file named `jeopardy.csv`. Load the data into a DataFrame and investigate its contents. Try to print out specific columns.\n",
    "\n",
    "   Note that in order to make this project as \"real-world\" as possible, we haven't modified the data at all - we're giving it to you exactly how we found it. As a result, this data isn't as \"clean\" as the datasets you normally find on Codecademy. More specifically, there's something odd about the column names. After you figure out the problem with the column names, you may want to rename them to make your life easier for the rest of the project.\n",
    "   \n",
    "   In order to display the full contents of a column, we've added this line of code for you:\n",
    "   \n",
    "   ```py\n",
    "   pd.set_option('display.max_colwidth', None)\n",
    "   ```"
   ]
  },
  {
   "cell_type": "code",
   "execution_count": 10,
   "metadata": {},
   "outputs": [],
   "source": [
    "import pandas as pd\n",
    "import numpy as np\n",
    "import re\n",
    "pd.set_option('display.max_colwidth', None)"
   ]
  },
  {
   "cell_type": "code",
   "execution_count": 178,
   "metadata": {},
   "outputs": [],
   "source": [
    "# Import the data into a dataframe\n",
    "jeopardy = pd.read_csv('jeopardy.csv', skipinitialspace=True) #delete any leading spaces in columns\n",
    "#print(jeopardy.head(5))"
   ]
  },
  {
   "cell_type": "code",
   "execution_count": null,
   "metadata": {},
   "outputs": [],
   "source": [
    "#Let's take a look at the column names\n",
    "columns = list(jeopardy.columns)\n",
    "print(columns)\n",
    "\n",
    "#convert middle spaces in column names to '_'\n",
    "for index in range(0,len(columns)):\n",
    "    columns[index] = columns[index].replace(' ','_')\n",
    "    print(columns[index])\n",
    "jeopardy.columns = columns\n",
    "print(jeopardy.columns)\n",
    "print(jeopardy.dtypes)\n",
    "print(jeopardy.head(5))"
   ]
  },
  {
   "cell_type": "code",
   "execution_count": 189,
   "metadata": {},
   "outputs": [
    {
     "name": "stdout",
     "output_type": "stream",
     "text": [
      "Show_Number             int64\n",
      "Air_Date       datetime64[ns]\n",
      "Round                  object\n",
      "Category               object\n",
      "Value                 float64\n",
      "Question               object\n",
      "Answer                 object\n",
      "Year                    int64\n",
      "dtype: object\n"
     ]
    }
   ],
   "source": [
    "# Convert the Air_Date data to datetime format\n",
    "jeopardy['Air_Date'] = pd.to_datetime(jeopardy['Air_Date'], yearfirst=True, format=\"%Y-%m-%d\")\n",
    "jeopardy['Year'] = pd.DatetimeIndex(jeopardy.Air_Date).year\n",
    "\n",
    "# Convert the Value to an int64 datatype\n",
    "for index in range(0,len(jeopardy.Value)):\n",
    "    if jeopardy.Value.iat[index] =='None':\n",
    "        jeopardy.Value.iat[index] = 0.0\n",
    "jeopardy['Value'] = jeopardy['Value'].replace('[\\$\\,\\.]','',regex=True)\n",
    "jeopardy['Value'] = pd.to_numeric(jeopardy['Value'])\n",
    "\n",
    "\n",
    "#print(jeopardy.head(5))\n",
    "print(jeopardy.dtypes)"
   ]
  },
  {
   "cell_type": "code",
   "execution_count": 184,
   "metadata": {
    "scrolled": true
   },
   "outputs": [
    {
     "name": "stdout",
     "output_type": "stream",
     "text": [
      "   Show_Number   Air_Date      Round                         Category  Value  \\\n",
      "0         4680 2004-12-31  Jeopardy!                          HISTORY  200.0   \n",
      "1         4680 2004-12-31  Jeopardy!  ESPN's TOP 10 ALL-TIME ATHLETES  200.0   \n",
      "2         4680 2004-12-31  Jeopardy!      EVERYBODY TALKS ABOUT IT...  200.0   \n",
      "3         4680 2004-12-31  Jeopardy!                 THE COMPANY LINE  200.0   \n",
      "4         4680 2004-12-31  Jeopardy!              EPITAPHS & TRIBUTES  200.0   \n",
      "\n",
      "                                                                                                      Question  \\\n",
      "0             For the last 8 years of his life, Galileo was under house arrest for espousing this man's theory   \n",
      "1  No. 2: 1912 Olympian; football star at Carlisle Indian School; 6 MLB seasons with the Reds, Giants & Braves   \n",
      "2                     The city of Yuma in this state has a record average of 4,055 hours of sunshine each year   \n",
      "3                         In 1963, live on \"The Art Linkletter Show\", this company served its billionth burger   \n",
      "4     Signer of the Dec. of Indep., framer of the Constitution of Mass., second President of the United States   \n",
      "\n",
      "       Answer  Year  \n",
      "0  Copernicus  2004  \n",
      "1  Jim Thorpe  2004  \n",
      "2     Arizona  2004  \n",
      "3  McDonald's  2004  \n",
      "4  John Adams  2004  \n"
     ]
    }
   ],
   "source": [
    "print(jeopardy.head(5))"
   ]
  },
  {
   "cell_type": "markdown",
   "metadata": {},
   "source": [
    "2. Write a function that filters the dataset for questions that contains all of the words in a list of words. For example, when the list `[\"King\", \"England\"]` was passed to our function, the function returned a DataFrame of 49 rows. Every row had the strings `\"King\"` and `\"England\"` somewhere in its `\" Question\"`.\n",
    "\n",
    "   Test your function by printing out the column containing the question of each row of the dataset."
   ]
  },
  {
   "cell_type": "markdown",
   "metadata": {},
   "source": [
    "### Research Notes\n",
    "You need to use lookahead as some of the other responders have said, but the lookahead has to account for other characters between its target word and the current match position. For example:\n",
    "\n",
    "(?=.*word1)(?=.*word2)(?=.*word3)\n",
    "\n",
    "The .* in the first lookahead lets it match however many characters it needs to before it gets to \"word1\". Then the match position is reset and the second lookahead seeks out \"word2\". Reset again, and the final part matches \"word3\"; since it's the last word you're checking for, it isn't necessary that it be in a lookahead, but it doesn't hurt.\n",
    "\n",
    "In order to match a whole paragraph, you need to anchor the regex at both ends and add a final .* to consume the remaining characters. Using Perl-style notation, that would be:\n",
    "\n",
    "/^(?=.*word1)(?=.*word2)(?=.*word3).*$/m\n",
    "\n",
    "The 'm' modifier is for multline mode; it lets the ^ and $ match at paragraph boundaries (\"line boundaries\" in regex-speak). It's essential in this case that you not use the 's' modifier, which lets the dot metacharacter match newlines as well as all other characters.\n",
    "\n",
    "Finally, you want to make sure you're matching whole words and not just fragments of longer words, so you need to add word boundaries:\n",
    "\n",
    "/^(?=.*\\bword1\\b)(?=.*\\bword2\\b)(?=.*\\bword3\\b).*$/m"
   ]
  },
  {
   "cell_type": "code",
   "execution_count": 193,
   "metadata": {},
   "outputs": [],
   "source": [
    "#create a function to turn a list of words to search for into a pattern, assuming ALL words in the list should be found.\n",
    "def list_to_pattern(some_list):\n",
    "    pattern =''\n",
    "    searchterm = \"(?=.*(\\\\b{word}\\\\b|\\\\b{word2}\\\\b))\"\n",
    "    for item in some_list:\n",
    "        new_term = searchterm.format(word = item, word2 = item.lower())\n",
    "        pattern+=new_term\n",
    "        \n",
    "    return pattern\n",
    "\n",
    "\n",
    "\n",
    "def find_words(data, match_list):\n",
    "    pattern = list_to_pattern(match_list) #calls the function that converts the user's input list to a search pattern\n",
    "    print('This program will use ' + pattern + ' to search the dataset.')\n",
    "    # Now that we have the regex pattern to search for, let's get crackin!\n",
    "    \n",
    "    # initialize a dataframe to put the resulting data from the search\n",
    "    found_list = pd.DataFrame(columns = ['Show_Number', 'Air_Date', 'Round', 'Category', 'Value', 'Question',\n",
    "       'Answer','Year'])\n",
    "   \n",
    "    for index in range(0,len(jeopardy.Question)):\n",
    "        if re.search(r'{}'.format(pattern),jeopardy.Question.iloc[index]): # if the search finds the pattern in the Question...\n",
    "            s = jeopardy.iloc[index,:].to_frame().transpose() #take that row and transpose it\n",
    "            found_list = pd.concat([found_list,s]) # add it to the newly created dataframe above\n",
    "        \n",
    "    return found_list"
   ]
  },
  {
   "cell_type": "markdown",
   "metadata": {},
   "source": [
    "3. Test your original function with a few different sets of words to try to find some ways your function breaks. Edit your function so it is more robust.\n",
    "\n",
    "   For example, think about capitalization. We probably want to find questions that contain the word `\"King\"` or `\"king\"`.\n",
    "   \n",
    "   You may also want to check to make sure you don't find rows that contain substrings of your given words. For example, our function found a question that didn't contain the word `\"king\"`, however it did contain the word `\"viking\"` &mdash; it found the `\"king\"` inside `\"viking\"`. Note that this also comes with some drawbacks &mdash; you would no longer find questions that contained words like `\"England's\"`."
   ]
  },
  {
   "cell_type": "code",
   "execution_count": 177,
   "metadata": {},
   "outputs": [
    {
     "name": "stdout",
     "output_type": "stream",
     "text": [
      "This program will use (?=.*\\b(Computer\\b|\\bcomputer\\b))(?=.*\\b(Mouse\\b|\\bmouse\\b)) to search the dataset.\n",
      "7\n"
     ]
    }
   ],
   "source": [
    "found_list = find_words(jeopardy,['Computer','Mouse'])\n",
    "print(len(found_list))"
   ]
  },
  {
   "cell_type": "markdown",
   "metadata": {},
   "source": [
    "4. We may want to eventually compute aggregate statistics, like `.mean()` on the `\" Value\"` column. But right now, the values in that column are strings. Convert the`\" Value\"` column to floats. If you'd like to, you can create a new column with float values.\n",
    "\n",
    "   Now that you can filter the dataset of question, use your new column that contains the float values of each question to find the \"difficulty\" of certain topics. For example, what is the average value of questions that contain the word `\"King\"`?\n",
    "   \n",
    "   Make sure to use the dataset that contains the float values as the dataset you use in your filtering function."
   ]
  },
  {
   "cell_type": "code",
   "execution_count": 172,
   "metadata": {},
   "outputs": [
    {
     "name": "stdout",
     "output_type": "stream",
     "text": [
      "This program will use (?=.*\\b(King\\b|\\bking\\b)) to search the dataset.\n",
      "The average value of a question with the word 'King' is $817.7616926503341\n",
      "\n",
      "The max value of a question containing the word 'King' is $9000.0\n",
      "\n",
      "The min value of a question containing the word 'King' is $100.0\n"
     ]
    }
   ],
   "source": [
    "king_list = find_words(jeopardy,['King']).reset_index(drop=True)\n",
    "king_count = king_list.Answer.value_counts()\n",
    "print(find_average(king_count, king_list))\n",
    "print('The average value of a question with the word \\'King\\' is $'+ str(king_list.Value.mean()))\n",
    "print('\\nThe max value of a question containing the word \\'King\\' is $' + str(king_list.Value.max()))\n",
    "print('\\nThe min value of a question containing the word \\'King\\' is $' + str(king_list.Value.min()))"
   ]
  },
  {
   "cell_type": "markdown",
   "metadata": {},
   "source": [
    "5. Write a function that returns the count of unique answers to all of the questions in a dataset. For example, after filtering the entire dataset to only questions containing the word `\"King\"`, we could then find all of the unique answers to those questions. The answer \"Henry VIII\" appeared 55 times and was the most common answer."
   ]
  },
  {
   "cell_type": "markdown",
   "metadata": {},
   "source": [
    "#### The following finds the average Value for subset of the main dataset with a list of answers"
   ]
  },
  {
   "cell_type": "code",
   "execution_count": 176,
   "metadata": {},
   "outputs": [],
   "source": [
    "# Final Jeopardy questions do not have an associated Value. To find the average, let's drop these rows from the dataset. \n",
    "# Note, this will modify the existing dataset. May want to establish a new one for finding averages.\n",
    "def drop_final(data):\n",
    "    final_rows = data[data.Round == 'Final Jeopardy!'].index\n",
    "    data.drop(final_rows, inplace=True)\n",
    "    \n",
    "    return data\n",
    "\n",
    "def find_average(items, data):\n",
    "    data = drop_final(data).reset_index(drop=True)\n",
    "    item_df = pd.DataFrame(items, columns = ['Answer'])\n",
    "    item_df['Total'] = 0.0\n",
    "    item_df['Average'] = 0.0\n",
    "    item_df['Count'] = 0.0 \n",
    "    items = list(item_df.index.values)\n",
    "    \n",
    "    for data_index in range(0,len(data.Answer)):   \n",
    "        for item in items:\n",
    "            if item == data.loc[data_index,'Answer']:\n",
    "                item_df.loc[item,'Count'] = item_df.loc[item,'Count'] + 1\n",
    "                item_df.loc[item,'Total'] = item_df.loc[item,'Total'] + data.loc[data_index,'Value']\n",
    "                    \n",
    "    item_df['Average'] = item_df['Total']/item_df['Count']\n",
    "    item_df['Final_Jeopardy_Count'] = item_df['Answer'] - item_df['Count']\n",
    "    return item_df"
   ]
  },
  {
   "cell_type": "markdown",
   "metadata": {},
   "source": [
    "6. Explore from here! This is an incredibly rich dataset, and there are so many interesting things to discover. There are a few columns that we haven't even started looking at yet. Here are some ideas on ways to continue working with this data:\n",
    "\n",
    " * Investigate the ways in which questions change over time by filtering by the date. How many questions from the 90s use the word `\"Computer\"` compared to questions from the 2000s?\n",
    " * Is there a connection between the round and the category? Are you more likely to find certain categories, like `\"Literature\"` in Single Jeopardy or Double Jeopardy?\n",
    " * Build a system to quiz yourself. Grab random questions, and use the <a href=\"https://docs.python.org/3/library/functions.html#input\">input</a> function to get a response from the user. Check to see if that response was right or wrong."
   ]
  },
  {
   "cell_type": "markdown",
   "metadata": {},
   "source": [
    "##### Setting up some searches to breakdown the data by decade."
   ]
  },
  {
   "cell_type": "markdown",
   "metadata": {},
   "source": [
    "Looking for data on the word 'Computer' in the question"
   ]
  },
  {
   "cell_type": "code",
   "execution_count": 215,
   "metadata": {},
   "outputs": [
    {
     "name": "stdout",
     "output_type": "stream",
     "text": [
      "This program will use (?=.*(\\bComputer\\b|\\bcomputer\\b)) to search the dataset.\n",
      "2000s    278\n",
      "1990s     84\n",
      "Name: Decade, dtype: int64\n"
     ]
    }
   ],
   "source": [
    "word = ['Computer']\n",
    "data_search = find_words(jeopardy, word)\n",
    "data_search = data_search.reset_index(drop=True)\n",
    "data_search['Decade'] = data_search.apply(lambda x:('1990s' if x.Year < 2000 else '2000s'), axis=1)\n",
    "counts = data_search.Decade.value_counts()\n",
    "print(counts)"
   ]
  },
  {
   "cell_type": "markdown",
   "metadata": {},
   "source": [
    "Looking for data on the word 'Book' in the question"
   ]
  },
  {
   "cell_type": "code",
   "execution_count": 212,
   "metadata": {},
   "outputs": [
    {
     "name": "stdout",
     "output_type": "stream",
     "text": [
      "2000s    1752\n",
      "1990s     788\n",
      "Name: Decade, dtype: int64\n"
     ]
    }
   ],
   "source": [
    "word = ['Book']\n",
    "data_search = find_words(jeopardy, word)\n",
    "data_search = data_search.reset_index(drop=True)\n",
    "data_search['Decade'] = data_search.apply(lambda x:('1990s' if x.Year < 2000 else '2000s'), axis=1)\n",
    "counts = data_search.Decade.value_counts()\n",
    "print(counts)"
   ]
  },
  {
   "cell_type": "markdown",
   "metadata": {},
   "source": [
    "Looking for data on the word 'Cellphone'"
   ]
  },
  {
   "cell_type": "code",
   "execution_count": 231,
   "metadata": {},
   "outputs": [
    {
     "name": "stdout",
     "output_type": "stream",
     "text": [
      "This program will use (?=.*(\\bBible\\b|\\bbible\\b)) to search the dataset.\n",
      "2000s    225\n",
      "1990s     93\n",
      "Name: Decade, dtype: int64\n"
     ]
    }
   ],
   "source": [
    "word = ['Bible']\n",
    "data_search = find_words(jeopardy, word)\n",
    "data_search = data_search.reset_index(drop=True)\n",
    "data_search['Decade'] = data_search.apply(lambda x:('1990s' if x.Year < 2000 else '2000s'), axis=1)\n",
    "counts = data_search.Decade.value_counts()\n",
    "print(counts)"
   ]
  },
  {
   "cell_type": "markdown",
   "metadata": {},
   "source": [
    "##### Taking a look at data by category"
   ]
  },
  {
   "cell_type": "code",
   "execution_count": 232,
   "metadata": {},
   "outputs": [
    {
     "name": "stdout",
     "output_type": "stream",
     "text": [
      "Empty DataFrame\n",
      "Columns: [Show_Number, Air_Date, Category, Value, Question, Answer, Year]\n",
      "Index: []\n"
     ]
    }
   ],
   "source": [
    "df = jeopardy.loc[jeopardy['Category'] == 'BIBLE'].groupby(['Round']).count()\n",
    "print(df)"
   ]
  },
  {
   "cell_type": "markdown",
   "metadata": {},
   "source": [
    "## Solution"
   ]
  },
  {
   "cell_type": "markdown",
   "metadata": {},
   "source": [
    "7. Compare your program to our <a href=\"https://content.codecademy.com/PRO/independent-practice-projects/jeopardy/jeopardy_solution.zip\">sample solution code</a> - remember, that your program might look different from ours (and probably will) and that's okay!"
   ]
  },
  {
   "cell_type": "markdown",
   "metadata": {},
   "source": [
    "8. Great work! Visit <a href=\"https://discuss.codecademy.com/t/this-is-jeopardy-challenge-project-python-pandas/462365\">our forums</a> to compare your project to our sample solution code. You can also learn how to host your own solution on GitHub so you can share it with other learners! Your solution might look different from ours, and that's okay! There are multiple ways to solve these projects, and you'll learn more by seeing others' code."
   ]
  },
  {
   "cell_type": "code",
   "execution_count": null,
   "metadata": {},
   "outputs": [],
   "source": []
  }
 ],
 "metadata": {
  "kernelspec": {
   "display_name": "Python 3 (ipykernel)",
   "language": "python",
   "name": "python3"
  },
  "language_info": {
   "codemirror_mode": {
    "name": "ipython",
    "version": 3
   },
   "file_extension": ".py",
   "mimetype": "text/x-python",
   "name": "python",
   "nbconvert_exporter": "python",
   "pygments_lexer": "ipython3",
   "version": "3.9.12"
  }
 },
 "nbformat": 4,
 "nbformat_minor": 2
}
