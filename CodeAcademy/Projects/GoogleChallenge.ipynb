{
 "cells": [
  {
   "cell_type": "markdown",
   "id": "4a7a547d",
   "metadata": {},
   "source": [
    "## Challenge 1\n",
    "\n",
    "return a new id made up of prime numbers. Must make a long list of prime numbers with at least 10005 characters."
   ]
  },
  {
   "cell_type": "code",
   "execution_count": 11,
   "id": "bfd5b568",
   "metadata": {},
   "outputs": [],
   "source": [
    "def solution(i):\n",
    "    # Your code here\n",
    "    # create a string containing the list of prime numbers\n",
    "    prime_string = ''\n",
    "\n",
    "    for primenum in range(2,22000):\n",
    "        isPrime = True\n",
    "        for num in range(2, int(primenum/2)+1):\n",
    "            if primenum % num == 0:\n",
    "                isPrime = False\n",
    "                #continue\n",
    "        if isPrime:\n",
    "            prime_string += str(primenum)\n",
    "  \n",
    "    # pull out the new number from the string of primes based on input i\n",
    "    new_id = prime_string[i:i+5]\n",
    "    \n",
    "    # check if the new_id has already been used and increment the pointer if so\n",
    "    return new_id"
   ]
  },
  {
   "cell_type": "code",
   "execution_count": 12,
   "id": "9b825793",
   "metadata": {},
   "outputs": [
    {
     "name": "stdout",
     "output_type": "stream",
     "text": [
      "23571\n"
     ]
    }
   ],
   "source": [
    "new_id = solution(0)\n",
    "print(new_id)"
   ]
  },
  {
   "cell_type": "code",
   "execution_count": 14,
   "id": "4b0801ed",
   "metadata": {},
   "outputs": [
    {
     "name": "stdout",
     "output_type": "stream",
     "text": [
      "19232\n"
     ]
    }
   ],
   "source": [
    "new_id = solution(10)\n",
    "print(new_id)"
   ]
  },
  {
   "cell_type": "code",
   "execution_count": 13,
   "id": "c6c6e06b",
   "metadata": {},
   "outputs": [
    {
     "name": "stdout",
     "output_type": "stream",
     "text": [
      "71113\n"
     ]
    }
   ],
   "source": [
    "new_id = solution(3)\n",
    "print(new_id)"
   ]
  },
  {
   "cell_type": "markdown",
   "id": "848fb325",
   "metadata": {},
   "source": [
    "## Challenge 2\n",
    "As Commander Lambda's personal assistant, you've been assigned the task of configuring the LAMBCHOP doomsday device's axial orientation gears. It should be pretty simple -- just add gears to create the appropriate rotation ratio. But the problem is, due to the layout of the LAMBCHOP and the complicated system of beams and pipes supporting it, the pegs that will support the gears are fixed in place.\n",
    "\n",
    "The LAMBCHOP's engineers have given you lists identifying the placement of groups of pegs along various support beams. You need to place a gear on each peg (otherwise the gears will collide with unoccupied pegs). The engineers have plenty of gears in all different sizes stocked up, so you can choose gears of any size, from a radius of 1 on up. Your goal is to build a system where the last gear rotates at twice the rate (in revolutions per minute, or rpm) of the first gear, no matter the direction. Each gear (except the last) touches and turns the gear on the next peg to the right.\n",
    "\n",
    "Given a list of distinct positive integers named pegs representing the location of each peg along the support beam, write a function solution(pegs) which, if there is a solution, returns a list of two positive integers a and b representing the numerator and denominator of the first gear's radius in its simplest form in order to achieve the goal above, such that radius = a/b. The ratio a/b should be greater than or equal to 1. Not all support configurations will necessarily be capable of creating the proper rotation ratio, so if the task is impossible, the function solution(pegs) should return the list [-1, -1].\n",
    "\n",
    "For example, if the pegs are placed at [4, 30, 50], then the first gear could have a radius of 12, the second gear could have a radius of 14, and the last one a radius of 6. Thus, the last gear would rotate twice as fast as the first one. In this case, pegs would be [4, 30, 50] and solution(pegs) should return [12, 1].\n",
    "\n",
    "The list pegs will be given sorted in ascending order and will contain at least 2 and no more than 20 distinct positive integers, all between 1 and 10000 inclusive.\n",
    "\n",
    "Languages\n",
    "=========\n",
    "\n",
    "To provide a Java solution, edit Solution.java\n",
    "To provide a Python solution, edit solution.py\n",
    "\n",
    "Test cases\n",
    "==========\n",
    "Your code should pass the following test cases.\n",
    "Note that it may also be run against hidden test cases not shown here.\n",
    "\n",
    "-- Java cases --\n",
    "Input:\n",
    "Solution.solution({4, 17, 50})\n",
    "Output:\n",
    "    -1,-1\n",
    "\n",
    "Input:\n",
    "Solution.solution({4, 30, 50})\n",
    "Output:\n",
    "    12,1\n",
    "\n",
    "-- Python cases --\n",
    "Input:\n",
    "solution.solution([4, 30, 50])\n",
    "Output:\n",
    "    12,1\n",
    "\n",
    "Input:\n",
    "solution.solution([4, 17, 50])\n",
    "Output:\n",
    "    -1,-1"
   ]
  },
  {
   "cell_type": "code",
   "execution_count": null,
   "id": "7ccec194",
   "metadata": {},
   "outputs": [],
   "source": []
  }
 ],
 "metadata": {
  "kernelspec": {
   "display_name": "Python 3 (ipykernel)",
   "language": "python",
   "name": "python3"
  },
  "language_info": {
   "codemirror_mode": {
    "name": "ipython",
    "version": 3
   },
   "file_extension": ".py",
   "mimetype": "text/x-python",
   "name": "python",
   "nbconvert_exporter": "python",
   "pygments_lexer": "ipython3",
   "version": "3.9.12"
  }
 },
 "nbformat": 4,
 "nbformat_minor": 5
}
