{
 "cells": [
  {
   "cell_type": "code",
   "execution_count": 2,
   "id": "4ce12979",
   "metadata": {},
   "outputs": [],
   "source": [
    "import scipy.stats as stats\n",
    "import numpy as np"
   ]
  },
  {
   "cell_type": "markdown",
   "id": "04421d40",
   "metadata": {},
   "source": [
    "Create a variable called lam that represents the rate parameter of our distribution."
   ]
  },
  {
   "cell_type": "code",
   "execution_count": 1,
   "id": "4fd48581",
   "metadata": {},
   "outputs": [],
   "source": [
    "lam = 7 #Expected number of defects on a given day"
   ]
  },
  {
   "cell_type": "markdown",
   "id": "f6a4137b",
   "metadata": {},
   "source": [
    "You know that the rate parameter of a Poisson distribution is equal to the expected value. So in our factory, the rate parameter would equal the expected number of defects on a given day. You are curious about how often we might observe the exact expected number of defects.\n",
    "\n",
    "Calculate and print the probability of observing exactly lam defects on a given day."
   ]
  },
  {
   "cell_type": "code",
   "execution_count": 4,
   "id": "5aea4732",
   "metadata": {},
   "outputs": [
    {
     "name": "stdout",
     "output_type": "stream",
     "text": [
      "0.14900277967433773\n"
     ]
    }
   ],
   "source": [
    "prob_lam = stats.poisson.pmf(lam,lam)\n",
    "print(prob_lam)"
   ]
  },
  {
   "cell_type": "markdown",
   "id": "a3cb1aaf",
   "metadata": {},
   "source": [
    "Our boss said that having 4 or fewer defects on a given day is an exceptionally good day. You are curious about how often that might happen.\n",
    "\n",
    "Calculate and print the probability of having one of these days."
   ]
  },
  {
   "cell_type": "code",
   "execution_count": 6,
   "id": "1bcbfd7b",
   "metadata": {},
   "outputs": [
    {
     "name": "stdout",
     "output_type": "stream",
     "text": [
      "0.17299160788207146\n"
     ]
    }
   ],
   "source": [
    "good_day = stats.poisson.cdf(4,lam)\n",
    "print(good_day)"
   ]
  },
  {
   "cell_type": "markdown",
   "id": "1e567ac7",
   "metadata": {},
   "source": [
    "On the other hand, our boss said that having more than 9 defects on any given day is considered a bad day.\n",
    "\n",
    "Calculate and print the probability of having one of these bad days."
   ]
  },
  {
   "cell_type": "code",
   "execution_count": 7,
   "id": "18204a07",
   "metadata": {},
   "outputs": [
    {
     "name": "stdout",
     "output_type": "stream",
     "text": [
      "0.16950406276132668\n"
     ]
    }
   ],
   "source": [
    "bad_day = 1 - stats.poisson.cdf(9,lam)\n",
    "print(bad_day)"
   ]
  },
  {
   "cell_type": "markdown",
   "id": "ee2833d3",
   "metadata": {},
   "source": [
    "You’ve familiarized yourself a little bit about how the Poisson distribution works in theory by calculating different probabilities. But let’s look at what this might look like in practice.\n",
    "\n",
    "Create a variable called year_defects that has 365 random values from the Poisson distribution."
   ]
  },
  {
   "cell_type": "code",
   "execution_count": 11,
   "id": "559becb2",
   "metadata": {},
   "outputs": [
    {
     "name": "stdout",
     "output_type": "stream",
     "text": [
      "[10  8 10  9  4  8  5  7  4 11 10  4  5  9  6  3  8  9 12]\n"
     ]
    }
   ],
   "source": [
    "year_defects = stats.poisson.rvs(lam, size = 365)\n",
    "print(year_defects[1:20])"
   ]
  },
  {
   "cell_type": "markdown",
   "id": "5d045a22",
   "metadata": {},
   "source": [
    "If we expect 7 defects on a given day, what is the total number of defects we would expect over 365 days?\n",
    "\n",
    "Calculate and print this value to the output terminal."
   ]
  },
  {
   "cell_type": "code",
   "execution_count": 15,
   "id": "b3d8630a",
   "metadata": {},
   "outputs": [
    {
     "name": "stdout",
     "output_type": "stream",
     "text": [
      "2555\n",
      "2595\n"
     ]
    }
   ],
   "source": [
    "est_tot_defects = lam*365\n",
    "print(est_tot_defects)\n",
    "total_defects = year_defects.sum()\n",
    "print(total_defects)"
   ]
  },
  {
   "cell_type": "markdown",
   "id": "d24fefd8",
   "metadata": {},
   "source": [
    "Calculate and print the average number of defects per day from our simulated dataset.\n",
    "\n",
    "How does this compare to the expected average number of defects each day that we know from the given rate parameter of the Poisson distribution?"
   ]
  },
  {
   "cell_type": "code",
   "execution_count": 16,
   "id": "186a938d",
   "metadata": {},
   "outputs": [
    {
     "name": "stdout",
     "output_type": "stream",
     "text": [
      "7.109589041095891\n"
     ]
    }
   ],
   "source": [
    "avg_defects = year_defects.mean()\n",
    "print(avg_defects)"
   ]
  },
  {
   "cell_type": "markdown",
   "id": "4ae84dc5",
   "metadata": {},
   "source": [
    "You’re worried about what the highest amount of defects in a single day might be because that would be a hectic day.\n",
    "\n",
    "Print the maximum value of year_defects."
   ]
  },
  {
   "cell_type": "code",
   "execution_count": 17,
   "id": "9590a423",
   "metadata": {},
   "outputs": [
    {
     "name": "stdout",
     "output_type": "stream",
     "text": [
      "16\n"
     ]
    }
   ],
   "source": [
    "max_defects = year_defects.max()\n",
    "print(max_defects)"
   ]
  },
  {
   "cell_type": "markdown",
   "id": "21b47160",
   "metadata": {},
   "source": [
    "Wow, it would probably be super busy if there were that many defects on a single day. Hopefully, it is a rare event!\n",
    "\n",
    "Calculate and print the probability of observing that maximum value or more from the Poisson(7) distribution."
   ]
  },
  {
   "cell_type": "code",
   "execution_count": 19,
   "id": "3ceaccd3",
   "metadata": {},
   "outputs": [
    {
     "name": "stdout",
     "output_type": "stream",
     "text": [
      "0.0009581831589177137\n"
     ]
    }
   ],
   "source": [
    "busy_day = 1 - stats.poisson.cdf(max_defects,lam)\n",
    "print(busy_day)"
   ]
  },
  {
   "cell_type": "markdown",
   "id": "c900abb6",
   "metadata": {},
   "source": [
    "Congratulations! At this point, you have now explored the Poisson distribution and even worked with some simulated data. We have a couple of extra tasks if you would like an extra challenge. Feel free to try them out or move onto the next topic!\n",
    "\n",
    "Let’s say we want to know how many defects in a given day would put us in the 90th percentile of the Poisson(7) distribution. One way we could calculate this is by using the following method:\n",
    "\n",
    "stats.poisson.ppf(percentile, lambda) \n",
    "percentile is equal to the desired percentile (a decimal between 0 and 1), and lambda is the lambda parameter of the Poisson distribution. This function is essentially the inverse of the CDF.\n",
    "\n",
    "Use this method to calculate and print the number of defects that would put us in the 90th percentile for a given day. In other words, on 90% of days, we will observe fewer defects than this number."
   ]
  },
  {
   "cell_type": "code",
   "execution_count": 20,
   "id": "a2fcd5e3",
   "metadata": {},
   "outputs": [
    {
     "name": "stdout",
     "output_type": "stream",
     "text": [
      "10.0\n"
     ]
    }
   ],
   "source": [
    "great_days = stats.poisson.ppf(.9,lam)\n",
    "print(great_days)"
   ]
  },
  {
   "cell_type": "markdown",
   "id": "3b92135d",
   "metadata": {},
   "source": [
    "Now let’s see what proportion of our simulated dataset year_defects is greater than or equal to the number we calculated in the previous step.\n",
    "\n",
    "By definition of a percentile, we would expect 1 - .90, or about 10% of days to be in this range.\n",
    "\n",
    "To calculate this:\n",
    "\n",
    "Count the number of values in the dataset that are greater than or equal to the 90th percentile value.\n",
    "Divide this number by the length of the dataset.\n",
    "Click the hint if you want to see an example calculation."
   ]
  },
  {
   "cell_type": "code",
   "execution_count": 21,
   "id": "899ff40f",
   "metadata": {},
   "outputs": [
    {
     "name": "stdout",
     "output_type": "stream",
     "text": [
      "0.1780821917808219\n"
     ]
    }
   ],
   "source": [
    "count = 0\n",
    "for defect in year_defects:\n",
    "    if defect >= great_days:\n",
    "        count += 1\n",
    "        \n",
    "proportion_bad = count/len(year_defects)\n",
    "print(proportion_bad)"
   ]
  },
  {
   "cell_type": "code",
   "execution_count": 23,
   "id": "424eb492",
   "metadata": {},
   "outputs": [
    {
     "name": "stdout",
     "output_type": "stream",
     "text": [
      "0.1780821917808219\n"
     ]
    }
   ],
   "source": [
    "# codeacademy's hint on how to calculate this! Much simpler...\n",
    "proportion_bad = sum(year_defects >= 10)/len(year_defects)\n",
    "print(proportion_bad)"
   ]
  },
  {
   "cell_type": "code",
   "execution_count": null,
   "id": "1773a11e",
   "metadata": {},
   "outputs": [],
   "source": []
  }
 ],
 "metadata": {
  "kernelspec": {
   "display_name": "Python 3 (ipykernel)",
   "language": "python",
   "name": "python3"
  },
  "language_info": {
   "codemirror_mode": {
    "name": "ipython",
    "version": 3
   },
   "file_extension": ".py",
   "mimetype": "text/x-python",
   "name": "python",
   "nbconvert_exporter": "python",
   "pygments_lexer": "ipython3",
   "version": "3.9.12"
  }
 },
 "nbformat": 4,
 "nbformat_minor": 5
}
