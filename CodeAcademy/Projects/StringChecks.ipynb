{
 "cells": [
  {
   "cell_type": "markdown",
   "id": "cb7beef5",
   "metadata": {},
   "source": [
    "### Checking to see if one string is contained in another"
   ]
  },
  {
   "cell_type": "code",
   "execution_count": 1,
   "id": "6b42f311",
   "metadata": {},
   "outputs": [],
   "source": [
    "def contains(string_one, string_two):\n",
    "    if string_one in string_two:\n",
    "        return True\n",
    "    return False"
   ]
  },
  {
   "cell_type": "markdown",
   "id": "82f6c286",
   "metadata": {},
   "source": [
    "### Checking to see which letters two strings have in common"
   ]
  },
  {
   "cell_type": "code",
   "execution_count": 2,
   "id": "cfe7a48e",
   "metadata": {},
   "outputs": [],
   "source": [
    "def common_letters(string_one, string_two):\n",
    "    common = []\n",
    "    for letter in string_one:\n",
    "        if letter in string_two:\n",
    "            if letter in common:\n",
    "                continue\n",
    "            common.append(letter)\n",
    "    return common"
   ]
  },
  {
   "cell_type": "code",
   "execution_count": 3,
   "id": "7fa8a182",
   "metadata": {},
   "outputs": [
    {
     "name": "stdout",
     "output_type": "stream",
     "text": [
      "['i', 's', 'o', 'n']\n"
     ]
    }
   ],
   "source": [
    "isit = common_letters(\"madison\", \"wisconsin\")\n",
    "print(isit)"
   ]
  },
  {
   "cell_type": "markdown",
   "id": "e066d173",
   "metadata": {},
   "source": [
    "# String Methods! Whoa!"
   ]
  },
  {
   "cell_type": "code",
   "execution_count": 13,
   "id": "27216747",
   "metadata": {},
   "outputs": [],
   "source": [
    "# Some string methods are {below} and return a new string:\n",
    "# string.upper() --> ALL LETTERS UPPER CASE\n",
    "# string.lower() --> all letters lower case\n",
    "# string.title() --> First Letter of each word is capitalized\n",
    "\n",
    "# Some string methods return a new object\n",
    "# string.split(delimiter) --> Returns a list of strings (delimiter defaults to spaces) \n",
    "# --> NOTE: Delimiter can be ANY character or String of characters, such as escape sequences: {\\n Newline} and {\\t Horizontal Tab}\n",
    "\n",
    "# 'delimiter'.join(list_to_join) --> generates a string from a list with the delimiter indicated\n",
    "# This is useful for creating .csv files!! \n",
    "\n",
    "# string.strip() --> removes all rogue spaces. Can add a character to strip as well! Useful for cleaning data\n",
    "# string = '!!!rob thomas    !!!'\n",
    "# string.strip('!') >> 'rob thomas    '\n",
    "\n",
    "# string.replace(substring_being_replaced, new_substring) --> swaps out strings! Find and Replace....\n",
    "\n",
    "# string.find('character_to_find') --> returns the index of the first character in the string or character to find\n",
    "# print(\"smooth\".find('oo'))\n",
    "# => '2'\n",
    "\n",
    "# string.format() --> useful for forms!\n",
    "# string = \"This will add {} and {}.\"\n",
    "# new_string = string.format(\"String1\", \"String2\")\n",
    "# output >> \"This will add String1 and String2.\"\n"
   ]
  },
  {
   "cell_type": "code",
   "execution_count": 9,
   "id": "10187dd2",
   "metadata": {},
   "outputs": [
    {
     "name": "stdout",
     "output_type": "stream",
     "text": [
      "['Markey', 'Noffke']\n"
     ]
    }
   ],
   "source": [
    "# This function takes an array of names in format ['first last'] and finds the last names. This is not error-proofed!\n",
    "racers = ['Amber Markey', 'Jereme Noffke']\n",
    "def find_last_names(people_names):\n",
    "    last_names =[]\n",
    "    for name in people_names:\n",
    "        name_array = name.split()\n",
    "        last_names.append(name_array[1])\n",
    "    return last_names\n",
    "\n",
    "last_names = find_last_names(racers)\n",
    "print(last_names)"
   ]
  },
  {
   "cell_type": "code",
   "execution_count": 10,
   "id": "9452e027",
   "metadata": {},
   "outputs": [
    {
     "name": "stdout",
     "output_type": "stream",
     "text": [
      "Amber Markey and Jereme Noffke\n"
     ]
    }
   ],
   "source": [
    "combined = ' and '.join(racers)\n",
    "print(combined)"
   ]
  },
  {
   "cell_type": "code",
   "execution_count": 15,
   "id": "dcbcf202",
   "metadata": {},
   "outputs": [
    {
     "name": "stdout",
     "output_type": "stream",
     "text": [
      "The following mens and womens winners are Jereme Noffke and Amber Markey! Congrats!\n"
     ]
    }
   ],
   "source": [
    "string = \"The following mens and womens winners are {} and {}! Congrats!\"\n",
    "winners = string.format('Jereme Noffke','Amber Markey')\n",
    "print(winners)"
   ]
  },
  {
   "cell_type": "code",
   "execution_count": 17,
   "id": "09cbb03e",
   "metadata": {},
   "outputs": [
    {
     "name": "stdout",
     "output_type": "stream",
     "text": [
      "The following mens and womens winners are Jereme Noffke and Amber Markey! Congrats!\n"
     ]
    }
   ],
   "source": [
    "# A better written function would be:\n",
    "mens_winner = 'Jereme Noffke'\n",
    "womens_winner = 'Amber Markey'\n",
    "def press_release(mens, womens):\n",
    "    string = \"The following mens and womens winners are {mens_winner} and {womens_winner}! Congrats!\"\n",
    "    release = string.format(womens_winner=womens, mens_winner=mens) #YES! Order can be changed!\n",
    "    return release\n",
    "\n",
    "release = press_release(mens_winner, womens_winner)\n",
    "print(release)"
   ]
  },
  {
   "cell_type": "markdown",
   "id": "16f5e2f5",
   "metadata": {},
   "source": [
    "## Putting it ALL together:"
   ]
  },
  {
   "cell_type": "code",
   "execution_count": 18,
   "id": "f434b556",
   "metadata": {},
   "outputs": [
    {
     "name": "stdout",
     "output_type": "stream",
     "text": [
      "Afterimages:Audre Lorde:1997,  The Shadow:William Carlos Williams:1915, Ecstasy:Gabriela Mistral:1925,   Georgia Dusk:Jean Toomer:1923,   Parting Before Daybreak:An Qi:2014, The Untold Want:Walt Whitman:1871, Mr. Grumpledump's Song:Shel Silverstein:2004, Angel Sound Mexico City:Carmen Boullosa:2013, In Love:Kamala Suraiyya:1965, Dream Variations:Langston Hughes:1994, Dreamwood:Adrienne Rich:1987\n",
      "\n",
      "\n",
      "['Afterimages:Audre Lorde:1997', '  The Shadow:William Carlos Williams:1915', ' Ecstasy:Gabriela Mistral:1925', '   Georgia Dusk:Jean Toomer:1923', '   Parting Before Daybreak:An Qi:2014', ' The Untold Want:Walt Whitman:1871', \" Mr. Grumpledump's Song:Shel Silverstein:2004\", ' Angel Sound Mexico City:Carmen Boullosa:2013', ' In Love:Kamala Suraiyya:1965', ' Dream Variations:Langston Hughes:1994', ' Dreamwood:Adrienne Rich:1987']\n",
      "\n",
      "\n",
      "['Afterimages:Audre Lorde:1997', 'The Shadow:William Carlos Williams:1915', 'Ecstasy:Gabriela Mistral:1925', 'Georgia Dusk:Jean Toomer:1923', 'Parting Before Daybreak:An Qi:2014', 'The Untold Want:Walt Whitman:1871', \"Mr. Grumpledump's Song:Shel Silverstein:2004\", 'Angel Sound Mexico City:Carmen Boullosa:2013', 'In Love:Kamala Suraiyya:1965', 'Dream Variations:Langston Hughes:1994', 'Dreamwood:Adrienne Rich:1987']\n",
      "\n",
      "\n",
      "[['Afterimages', 'Audre Lorde', '1997'], ['The Shadow', 'William Carlos Williams', '1915'], ['Ecstasy', 'Gabriela Mistral', '1925'], ['Georgia Dusk', 'Jean Toomer', '1923'], ['Parting Before Daybreak', 'An Qi', '2014'], ['The Untold Want', 'Walt Whitman', '1871'], [\"Mr. Grumpledump's Song\", 'Shel Silverstein', '2004'], ['Angel Sound Mexico City', 'Carmen Boullosa', '2013'], ['In Love', 'Kamala Suraiyya', '1965'], ['Dream Variations', 'Langston Hughes', '1994'], ['Dreamwood', 'Adrienne Rich', '1987']]\n",
      "The poem Afterimages was published by Audre Lorde in 1997.\n",
      "The poem The Shadow was published by William Carlos Williams in 1915.\n",
      "The poem Ecstasy was published by Gabriela Mistral in 1925.\n",
      "The poem Georgia Dusk was published by Jean Toomer in 1923.\n",
      "The poem Parting Before Daybreak was published by An Qi in 2014.\n",
      "The poem The Untold Want was published by Walt Whitman in 1871.\n",
      "The poem Mr. Grumpledump's Song was published by Shel Silverstein in 2004.\n",
      "The poem Angel Sound Mexico City was published by Carmen Boullosa in 2013.\n",
      "The poem In Love was published by Kamala Suraiyya in 1965.\n",
      "The poem Dream Variations was published by Langston Hughes in 1994.\n",
      "The poem Dreamwood was published by Adrienne Rich in 1987.\n"
     ]
    }
   ],
   "source": [
    "highlighted_poems = \"Afterimages:Audre Lorde:1997,  The Shadow:William Carlos Williams:1915, Ecstasy:Gabriela Mistral:1925,   Georgia Dusk:Jean Toomer:1923,   Parting Before Daybreak:An Qi:2014, The Untold Want:Walt Whitman:1871, Mr. Grumpledump's Song:Shel Silverstein:2004, Angel Sound Mexico City:Carmen Boullosa:2013, In Love:Kamala Suraiyya:1965, Dream Variations:Langston Hughes:1994, Dreamwood:Adrienne Rich:1987\"\n",
    "\n",
    "print(highlighted_poems)\n",
    "print('\\n')\n",
    "\n",
    "#Split the list of highlighted poems by the comma\n",
    "highlighted_poems_list = highlighted_poems.split(',')\n",
    "print(highlighted_poems_list)\n",
    "\n",
    "# Clean the list by removing unnecessary whitespace\n",
    "highlighted_poems_stripped = []\n",
    "for poem in highlighted_poems_list:\n",
    "  highlighted_poems_stripped.append(poem.strip())\n",
    "\n",
    "print('\\n')\n",
    "print(highlighted_poems_stripped)\n",
    "\n",
    "# create a new list with the info from each poem split by ':'\n",
    "highlighted_poems_details = []\n",
    "for info in highlighted_poems_stripped:\n",
    "  highlighted_poems_details.append(info.split(':'))\n",
    "\n",
    "print('\\n')\n",
    "print(highlighted_poems_details)\n",
    "\n",
    "# create three new lists that contain each piece of info split out\n",
    "titles = []\n",
    "poets = []\n",
    "dates = []\n",
    "\n",
    "for i in highlighted_poems_details:\n",
    "  titles.append(i[0])\n",
    "  poets.append(i[1])\n",
    "  dates.append(i[2])\n",
    "\n",
    "# format a new string and print the information for each poem.\n",
    "string = \"The poem {title} was published by {poet} in {date}.\"\n",
    "for j in range(len(titles)):\n",
    "  print(string.format(title = titles[j], poet = poets[j], date = dates[j]))"
   ]
  },
  {
   "cell_type": "markdown",
   "id": "f6a1ae72",
   "metadata": {},
   "source": [
    "### A Second Project, Medical Record messes"
   ]
  },
  {
   "cell_type": "code",
   "execution_count": 19,
   "id": "019b9e20",
   "metadata": {},
   "outputs": [
    {
     "name": "stdout",
     "output_type": "stream",
     "text": [
      "Marina Allison   ,27   ,   31.1 , \n",
      "$7010.0   ;Markus Valdez   ,   30, \n",
      "22.4,   $4050.0 ;Connie Ballard ,43 \n",
      ",   25.3 , $12060.0 ;Darnell Weber   \n",
      ",   35   , 20.6   , $7500.0;\n",
      "Sylvie Charles   ,22, 22.1 \n",
      ",$3022.0   ;   Vinay Padilla,24,   \n",
      "26.9 ,$4620.0 ;Meredith Santiago, 51   , \n",
      "29.3 ,$16330.0;   Andre Mccarty, \n",
      "19,22.7 , $2900.0 ; \n",
      "Lorena Hodson ,65, 33.1 , $19370.0; \n",
      "Isaac Vu ,34, 24.8,   $7045.0\n",
      "\n",
      "\n",
      "There are 10 medical records in the data.\n",
      "\n",
      "\n",
      "['Marina Allison   ,27   ,   31.1 , \\n$7010.0   ', 'Markus Valdez   ,   30, \\n22.4,   $4050.0 ', 'Connie Ballard ,43 \\n,   25.3 , $12060.0 ', 'Darnell Weber   \\n,   35   , 20.6   , $7500.0', '\\nSylvie Charles   ,22, 22.1 \\n,$3022.0   ', '   Vinay Padilla,24,   \\n26.9 ,$4620.0 ', 'Meredith Santiago, 51   , \\n29.3 ,$16330.0', '   Andre Mccarty, \\n19,22.7 , $2900.0 ', ' \\nLorena Hodson ,65, 33.1 , $19370.0', ' \\nIsaac Vu ,34, 24.8,   $7045.0']\n",
      "\n",
      "\n",
      "[['Marina Allison   ', '27   ', '   31.1 ', ' \\n$7010.0   '], ['Markus Valdez   ', '   30', ' \\n22.4', '   $4050.0 '], ['Connie Ballard ', '43 \\n', '   25.3 ', ' $12060.0 '], ['Darnell Weber   \\n', '   35   ', ' 20.6   ', ' $7500.0'], ['\\nSylvie Charles   ', '22', ' 22.1 \\n', '$3022.0   '], ['   Vinay Padilla', '24', '   \\n26.9 ', '$4620.0 '], ['Meredith Santiago', ' 51   ', ' \\n29.3 ', '$16330.0'], ['   Andre Mccarty', ' \\n19', '22.7 ', ' $2900.0 '], [' \\nLorena Hodson ', '65', ' 33.1 ', ' $19370.0'], [' \\nIsaac Vu ', '34', ' 24.8', '   $7045.0']]\n",
      "\n",
      "\n",
      "[['Marina Allison', '27', '31.1', '$7010.0'], ['Markus Valdez', '30', '22.4', '$4050.0'], ['Connie Ballard', '43', '25.3', '$12060.0'], ['Darnell Weber', '35', '20.6', '$7500.0'], ['Sylvie Charles', '22', '22.1', '$3022.0'], ['Vinay Padilla', '24', '26.9', '$4620.0'], ['Meredith Santiago', '51', '29.3', '$16330.0'], ['Andre Mccarty', '19', '22.7', '$2900.0'], ['Lorena Hodson', '65', '33.1', '$19370.0'], ['Isaac Vu', '34', '24.8', '$7045.0']]\n",
      "MARINA ALLISON\n",
      "MARKUS VALDEZ\n",
      "CONNIE BALLARD\n",
      "DARNELL WEBER\n",
      "SYLVIE CHARLES\n",
      "VINAY PADILLA\n",
      "MEREDITH SANTIAGO\n",
      "ANDRE MCCARTY\n",
      "LORENA HODSON\n",
      "ISAAC VU\n",
      "['MARINA ALLISON', 'MARKUS VALDEZ', 'CONNIE BALLARD', 'DARNELL WEBER', 'SYLVIE CHARLES', 'VINAY PADILLA', 'MEREDITH SANTIAGO', 'ANDRE MCCARTY', 'LORENA HODSON', 'ISAAC VU']\n",
      "['27', '30', '43', '35', '22', '24', '51', '19', '65', '34']\n",
      "['31.1', '22.4', '25.3', '20.6', '22.1', '26.9', '29.3', '22.7', '33.1', '24.8']\n",
      "['$7010.0', '$4050.0', '$12060.0', '$7500.0', '$3022.0', '$4620.0', '$16330.0', '$2900.0', '$19370.0', '$7045.0']\n",
      "258.3\n",
      "Average BMI: 25.830000000000002\n",
      "83907.0\n",
      "The average insurance cost is: $8390.7\n",
      "MARINA ALLISON is 27 years old with a BMI of 31.1 and an insurance cost of $7010.0.\n",
      "MARKUS VALDEZ is 30 years old with a BMI of 22.4 and an insurance cost of $4050.0.\n",
      "CONNIE BALLARD is 43 years old with a BMI of 25.3 and an insurance cost of $12060.0.\n",
      "DARNELL WEBER is 35 years old with a BMI of 20.6 and an insurance cost of $7500.0.\n",
      "SYLVIE CHARLES is 22 years old with a BMI of 22.1 and an insurance cost of $3022.0.\n",
      "VINAY PADILLA is 24 years old with a BMI of 26.9 and an insurance cost of $4620.0.\n",
      "MEREDITH SANTIAGO is 51 years old with a BMI of 29.3 and an insurance cost of $16330.0.\n",
      "ANDRE MCCARTY is 19 years old with a BMI of 22.7 and an insurance cost of $2900.0.\n",
      "LORENA HODSON is 65 years old with a BMI of 33.1 and an insurance cost of $19370.0.\n",
      "ISAAC VU is 34 years old with a BMI of 24.8 and an insurance cost of $7045.0.\n"
     ]
    }
   ],
   "source": [
    "medical_data = \\\n",
    "\"\"\"Marina Allison   ,27   ,   31.1 , \n",
    "#7010.0   ;Markus Valdez   ,   30, \n",
    "22.4,   #4050.0 ;Connie Ballard ,43 \n",
    ",   25.3 , #12060.0 ;Darnell Weber   \n",
    ",   35   , 20.6   , #7500.0;\n",
    "Sylvie Charles   ,22, 22.1 \n",
    ",#3022.0   ;   Vinay Padilla,24,   \n",
    "26.9 ,#4620.0 ;Meredith Santiago, 51   , \n",
    "29.3 ,#16330.0;   Andre Mccarty, \n",
    "19,22.7 , #2900.0 ; \n",
    "Lorena Hodson ,65, 33.1 , #19370.0; \n",
    "Isaac Vu ,34, 24.8,   #7045.0\"\"\"\n",
    "\n",
    "# Add your code here\n",
    "#print(medical_data)\n",
    "updated_medical_data = medical_data.replace('#','$')\n",
    "print(updated_medical_data)\n",
    "print('\\n')\n",
    "\n",
    "num_records = 0\n",
    "for char in updated_medical_data:\n",
    "  if char == '$':\n",
    "    num_records += 1\n",
    "print('There are ' + str(num_records) + ' medical records in the data.')\n",
    "\n",
    "medical_data_split = updated_medical_data.split(';')\n",
    "print('\\n')\n",
    "print(medical_data_split)\n",
    "\n",
    "medical_records = []\n",
    "\n",
    "for record in medical_data_split:\n",
    "  medical_records.append(record.split(','))\n",
    "print('\\n')\n",
    "print(medical_records)\n",
    "\n",
    "medical_records_clean = []\n",
    "for record in medical_records:\n",
    "  record_clean = []\n",
    "  for item in record:\n",
    "    record_clean.append(item.strip())\n",
    "  medical_records_clean.append(record_clean)\n",
    "\n",
    "print('\\n')\n",
    "print(medical_records_clean)\n",
    "\n",
    "for record in medical_records_clean:\n",
    "  record[0] = record[0].upper()\n",
    "  print(record[0])\n",
    "\n",
    "names = []\n",
    "ages = []\n",
    "bmis =[]\n",
    "insurance_costs = []\n",
    "\n",
    "for record in medical_records_clean:\n",
    "  names.append(record[0])\n",
    "  ages.append(record[1])\n",
    "  bmis.append(record[2])\n",
    "  insurance_costs.append(record[3])\n",
    "\n",
    "print(names)\n",
    "print(ages)\n",
    "print(bmis)\n",
    "print(insurance_costs)\n",
    "\n",
    "total_bmi = 0\n",
    "for bmi in bmis:\n",
    "  total_bmi += float(bmi)\n",
    "print(total_bmi)\n",
    "\n",
    "average_bmi = total_bmi/len(bmis)\n",
    "print('Average BMI: ' + str(average_bmi))\n",
    "\n",
    "total_cost = 0\n",
    "for cost in insurance_costs:\n",
    "  cost = float(cost.strip('$'))\n",
    "  total_cost += cost\n",
    "print(total_cost)\n",
    "\n",
    "average_cost = total_cost/len(insurance_costs)\n",
    "print('The average insurance cost is: $' + str(average_cost))\n",
    "\n",
    "message = '{name} is {age} years old with a BMI of {bmi} and an insurance cost of {cost}.'\n",
    "for i in range(len(names)):\n",
    "  print(message.format(name = names[i], age = ages[i], bmi = bmis[i], cost = insurance_costs[i]))"
   ]
  },
  {
   "cell_type": "code",
   "execution_count": null,
   "id": "a3f9f904",
   "metadata": {},
   "outputs": [],
   "source": []
  }
 ],
 "metadata": {
  "kernelspec": {
   "display_name": "Python 3 (ipykernel)",
   "language": "python",
   "name": "python3"
  },
  "language_info": {
   "codemirror_mode": {
    "name": "ipython",
    "version": 3
   },
   "file_extension": ".py",
   "mimetype": "text/x-python",
   "name": "python",
   "nbconvert_exporter": "python",
   "pygments_lexer": "ipython3",
   "version": "3.9.12"
  }
 },
 "nbformat": 4,
 "nbformat_minor": 5
}
