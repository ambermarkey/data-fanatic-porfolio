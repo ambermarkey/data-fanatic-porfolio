{
 "cells": [
  {
   "cell_type": "code",
   "execution_count": 2,
   "id": "ac62de0b",
   "metadata": {},
   "outputs": [],
   "source": [
    "message = \"xuo jxuhu! jxyi yi qd unqcfbu ev q squiqh syfxuh. muhu oek qrbu je tusetu yj? y xefu ie! iudt cu q cuiiqwu rqsa myjx jxu iqcu evviuj!\"\n",
    "\n",
    "offset = 10"
   ]
  },
  {
   "cell_type": "markdown",
   "id": "a7bbb5f1",
   "metadata": {},
   "source": [
    "#### Call this function to shift a message right by a given offset. Will return letters only in the english alphabet"
   ]
  },
  {
   "cell_type": "code",
   "execution_count": 23,
   "id": "aa5d27e4",
   "metadata": {},
   "outputs": [],
   "source": [
    "def shift_forward(message, offset):\n",
    "    message_list = list(message)\n",
    "    shifted_list = []\n",
    "    for letter in message_list:\n",
    "        if (letter != ' ') and (letter != '!') and (letter != '?') and (letter != '.') and (letter != \"'\"):\n",
    "            new_char = chr((ord(letter) - 97 + offset)%26 +97)\n",
    "            shifted_list.append(new_char)\n",
    "        else:\n",
    "            shifted_list.append(letter)\n",
    "    shifted_message = ''.join(shifted_list)\n",
    "    return shifted_message"
   ]
  },
  {
   "cell_type": "code",
   "execution_count": 17,
   "id": "5ad77145",
   "metadata": {},
   "outputs": [
    {
     "name": "stdout",
     "output_type": "stream",
     "text": [
      "hey there! this is an example of a caesar cipher. were you able to decode it? i hope so! send me a message back with the same offset!\n"
     ]
    }
   ],
   "source": [
    "new_message = shift_forward(message, offset)\n",
    "print(new_message)"
   ]
  },
  {
   "cell_type": "markdown",
   "id": "4e84bb85",
   "metadata": {},
   "source": [
    "#### Call this function to shift a message left by a given offset. Will return only letters in the english alphabet"
   ]
  },
  {
   "cell_type": "code",
   "execution_count": 18,
   "id": "40fbfd77",
   "metadata": {},
   "outputs": [],
   "source": [
    "def shift_back(outgoing, offset):\n",
    "    message_list = list(outgoing)\n",
    "    shifted_list = []\n",
    "    for letter in message_list:\n",
    "        if (letter != ' ') and (letter != '!') and (letter != '?') and (letter != '.') and (letter != \"'\"):\n",
    "            new_char = chr((ord(letter) - 97 - offset)%26 +97)\n",
    "            shifted_list.append(new_char)\n",
    "        else:\n",
    "            shifted_list.append(letter)\n",
    "    shifted_message = ''.join(shifted_list)\n",
    "    return shifted_message"
   ]
  },
  {
   "cell_type": "code",
   "execution_count": 19,
   "id": "f058bdaa",
   "metadata": {},
   "outputs": [
    {
     "name": "stdout",
     "output_type": "stream",
     "text": [
      "ruo jxuhu! s xefu oek qhu mubb. dxqdai veh jxu sxqbbudwu! s qc xefydw je secu lyiyj ieed. vuj cu adem oekh isxutkbu?!\n"
     ]
    }
   ],
   "source": [
    "outgoing_message = \"Hey there! I hope you are well. Thanks for the challenge! I am hoping to come visit soon. Let me know your schedule?!\"\n",
    "#offset = 10\n",
    "\n",
    "outgoing_message_shifted = shift_back(outgoing_message, offset)\n",
    "print(outgoing_message_shifted)"
   ]
  },
  {
   "cell_type": "code",
   "execution_count": 20,
   "id": "cc765b90",
   "metadata": {},
   "outputs": [],
   "source": [
    "first_message = \"jxu evviuj veh jxu iusedt cuiiqwu yi vekhjuud.\"\n",
    "second_message = \"bqdradyuzs ygxfubxq omqemd oubtqde fa oapq kagd yqeemsqe ue qhqz yadq eqogdq!\""
   ]
  },
  {
   "cell_type": "code",
   "execution_count": 24,
   "id": "b8cf330e",
   "metadata": {},
   "outputs": [
    {
     "name": "stdout",
     "output_type": "stream",
     "text": [
      "the offset for the second message is fourteen.\n"
     ]
    }
   ],
   "source": [
    "first_decoded = shift_forward(first_message, offset)\n",
    "print(first_decoded)"
   ]
  },
  {
   "cell_type": "code",
   "execution_count": 25,
   "id": "7f83c1d1",
   "metadata": {},
   "outputs": [
    {
     "name": "stdout",
     "output_type": "stream",
     "text": [
      "performing multiple caesar ciphers to code your messages is even more secure!\n"
     ]
    }
   ],
   "source": [
    "second_decoded = shift_forward(second_message, offset = 14)\n",
    "print(second_decoded)"
   ]
  },
  {
   "cell_type": "markdown",
   "id": "710efd8e",
   "metadata": {},
   "source": [
    "#### This function will brute force decode a message, looking for the common english string 'the'"
   ]
  },
  {
   "cell_type": "code",
   "execution_count": null,
   "id": "cdb2196a",
   "metadata": {},
   "outputs": [],
   "source": [
    "def brute_force(message):\n",
    "    message_list = list(message)\n",
    "    \n",
    "    #shifted_message = ''\n",
    "    for offset in range(27):\n",
    "        shifted_list = []\n",
    "        for letter in message_list:\n",
    "            if (letter != ' ') and (letter != '!') and (letter != '?') and (letter != '.') and (letter != \"'\"):\n",
    "                new_char = chr((ord(letter) - 97 + offset)%26 +97)\n",
    "                shifted_list.append(new_char)\n",
    "            else:\n",
    "                shifted_list.append(letter)\n",
    "            \n",
    "        shifted_message = ''.join(shifted_list)\n",
    "        if 'the' in shifted_message:\n",
    "            break\n",
    "    return shifted_message"
   ]
  },
  {
   "cell_type": "code",
   "execution_count": 31,
   "id": "d01aac67",
   "metadata": {},
   "outputs": [
    {
     "name": "stdout",
     "output_type": "stream",
     "text": [
      "computers have rendered all of these old ciphers obsolete. we'll have to really step up our game if we want to keep our messages safe.\n"
     ]
    }
   ],
   "source": [
    "brute_message = \"vhfinmxkl atox kxgwxkxw tee hy maxlx hew vbiaxkl hulhexmx. px'ee atox mh kxteer lmxi ni hnk ztfx by px ptgm mh dxxi hnk fxlltzxl ltyx.\"\n",
    "decoded_brute = brute_force(brute_message)\n",
    "print(decoded_brute)"
   ]
  },
  {
   "cell_type": "markdown",
   "id": "d1ba8cbf",
   "metadata": {},
   "source": [
    "## Now for the real challenge! Vignere Cipher example!"
   ]
  },
  {
   "cell_type": "code",
   "execution_count": 45,
   "id": "c4879c17",
   "metadata": {},
   "outputs": [
    {
     "name": "stdout",
     "output_type": "stream",
     "text": [
      "you were able to decode this? nice work! you are becoming quite the expert at crytography!\n"
     ]
    }
   ],
   "source": [
    "def vig_cipher_decode(message, key_word):\n",
    "    message_list = list(message)\n",
    "    key_list = list(key_word)\n",
    "    key_shift = []\n",
    "    message_num = []\n",
    "    for i in key_list:\n",
    "        key_shift.append((ord(i)-97)%26)\n",
    "    #print(key_shift)\n",
    "    for letter in message_list:\n",
    "        if (letter != ' ') and (letter != '!') and (letter != '?') and (letter != '.') and (letter != \"'\"):\n",
    "            message_num.append((ord(letter)-97)%26)\n",
    "        else:\n",
    "            message_num.append(letter)\n",
    "    #print(message_num)\n",
    "    \n",
    "    shifted_msg_num = []\n",
    "    count = 0\n",
    "    for j in message_num:\n",
    "        if (j != ' ') and (j != '!') and (j != '?') and (j != '.') and (j != \"'\"):\n",
    "            shifted_msg_num.append((j + key_shift[count%len(key_word)])%26)\n",
    "            count += 1\n",
    "        else:\n",
    "            shifted_msg_num.append(j)\n",
    "        \n",
    "    #print(shifted_msg_num)\n",
    "    \n",
    "    decoded_msg = []\n",
    "    for letter in shifted_msg_num:\n",
    "        if (letter != ' ') and (letter != '!') and (letter != '?') and (letter != '.') and (letter != \"'\"):\n",
    "            decoded_msg.append(chr(letter + 97))\n",
    "        else:\n",
    "            decoded_msg.append(letter)\n",
    "    decoded_final = ''.join(decoded_msg)\n",
    "    return decoded_final\n",
    "\n",
    "\n",
    "encoded = 'txm srom vkda gl lzlgzr qpdb? fepb ejac! ubr imn tapludwy mhfbz cza ruxzal wg zztcgcexxch!'\n",
    "key_word = 'friends'\n",
    "        \n",
    "decoded = vig_cipher_decode(encoded, key_word)\n",
    "print(decoded)"
   ]
  },
  {
   "cell_type": "code",
   "execution_count": 51,
   "id": "1ee9f611",
   "metadata": {},
   "outputs": [],
   "source": [
    "def vig_cipher_encode(message, key_word):\n",
    "    message = message.lower()\n",
    "    message_list = list(message)\n",
    "    key_list = list(key_word)\n",
    "    \n",
    "    key_shift = []\n",
    "    message_num = []\n",
    "    for i in key_list:\n",
    "        key_shift.append((ord(i)-97)%26)\n",
    "    #print(key_shift)\n",
    "    \n",
    "    for letter in message_list:\n",
    "        if (letter != ' ') and (letter != '!') and (letter != '?') and (letter != '.') and (letter != \"'\"):\n",
    "            message_num.append((ord(letter)-97)%26)\n",
    "        else:\n",
    "            message_num.append(letter)\n",
    "    #print(message_num)\n",
    "    \n",
    "    shifted_msg_num = []\n",
    "    count = 0\n",
    "    for j in message_num:\n",
    "        if (j != ' ') and (j != '!') and (j != '?') and (j != '.') and (j != \"'\"):\n",
    "            shifted_msg_num.append((j - key_shift[count%len(key_word)])%26)\n",
    "            count += 1\n",
    "        else:\n",
    "            shifted_msg_num.append(j)\n",
    "        \n",
    "    #print(shifted_msg_num)\n",
    "    \n",
    "    encoded_msg = []\n",
    "    for letter in shifted_msg_num:\n",
    "        if (letter != ' ') and (letter != '!') and (letter != '?') and (letter != '.') and (letter != \"'\"):\n",
    "            encoded_msg.append(chr(letter + 97))\n",
    "        else:\n",
    "            encoded_msg.append(letter)\n",
    "    encoded_final = ''.join(encoded_msg)\n",
    "    return encoded_final"
   ]
  },
  {
   "cell_type": "code",
   "execution_count": 52,
   "id": "27bf1843",
   "metadata": {},
   "outputs": [
    {
     "name": "stdout",
     "output_type": "stream",
     "text": [
      "milr tpn kkd oeiccz! xod jeptj's akye rd osuvc mc idhs cvmc! ldzt xghcg yhpqrrq sk xod xnml ke? tqvs gh wvebbmc!\n"
     ]
    }
   ],
   "source": [
    "message = \"nice try old friend! you weren't able to stump me this time! What other ciphers do you know of? This is awesome!\"\n",
    "key_word = \"barnacle\"\n",
    "\n",
    "encoded_message = vig_cipher_encode(message, key_word)\n",
    "print(encoded_message)"
   ]
  },
  {
   "cell_type": "code",
   "execution_count": 53,
   "id": "0711d839",
   "metadata": {},
   "outputs": [
    {
     "name": "stdout",
     "output_type": "stream",
     "text": [
      "nice try old friend! you weren't able to stump me this time! what other ciphers do you know of? this is awesome!\n"
     ]
    }
   ],
   "source": [
    "decoded_message = vig_cipher_decode(encoded_message, key_word)\n",
    "print(decoded_message)"
   ]
  },
  {
   "cell_type": "code",
   "execution_count": null,
   "id": "7cedf799",
   "metadata": {},
   "outputs": [],
   "source": []
  }
 ],
 "metadata": {
  "kernelspec": {
   "display_name": "Python 3 (ipykernel)",
   "language": "python",
   "name": "python3"
  },
  "language_info": {
   "codemirror_mode": {
    "name": "ipython",
    "version": 3
   },
   "file_extension": ".py",
   "mimetype": "text/x-python",
   "name": "python",
   "nbconvert_exporter": "python",
   "pygments_lexer": "ipython3",
   "version": "3.9.12"
  }
 },
 "nbformat": 4,
 "nbformat_minor": 5
}
