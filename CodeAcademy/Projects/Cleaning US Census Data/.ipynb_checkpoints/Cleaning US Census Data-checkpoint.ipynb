{
 "cells": [
  {
   "cell_type": "markdown",
   "metadata": {},
   "source": [
    "# Cleaning US Census Data"
   ]
  },
  {
   "cell_type": "markdown",
   "metadata": {},
   "source": [
    "You just got hired as a Data Analyst at the Census Bureau, which collects census data and creates interesting visualizations and insights from it.\n",
    "\n",
    "The person who had your job before you left you all the data they had for the most recent census. It is in multiple `csv` files. They didn't use pandas, they would just look through these `csv` files manually whenever they wanted to find something. Sometimes they would copy and paste certain numbers into Excel to make charts.\n",
    "\n",
    "The thought of it makes you shiver. This is not scalable or repeatable.\n",
    "\n",
    "Your boss wants you to make some scatterplots and histograms by the end of the day. Can you get this data into `pandas` and into reasonable shape so that you can make these histograms?"
   ]
  },
  {
   "cell_type": "markdown",
   "metadata": {},
   "source": [
    "## Inspect the Data!"
   ]
  },
  {
   "cell_type": "markdown",
   "metadata": {},
   "source": [
    "1. The first visualization your boss wants you to make is a scatterplot that shows average income in a state vs proportion of women in that state.\n",
    "\n",
    "   Open some of the census `csv` files that came with the kit you downloaded. How are they named? What kind of information do they hold? Will they help us make this graph?"
   ]
  },
  {
   "cell_type": "markdown",
   "metadata": {},
   "source": [
    "I noted that some columns representing the ethnic breakdown of the population are missing values. There were also instances where the genderPop column had incomplete data for either the M or F population."
   ]
  },
  {
   "cell_type": "markdown",
   "metadata": {},
   "source": [
    "2. It will be easier to inspect this data once we have it in a DataFrame. You can't even call `.head()` on these `csv`s! How are you supposed to read them?\n",
    "\n",
    "   Using `glob`, loop through the census files available and load them into DataFrames. Then, concatenate all of those DataFrames together into one DataFrame, called something like `us_census`."
   ]
  },
  {
   "cell_type": "code",
   "execution_count": 51,
   "metadata": {},
   "outputs": [
    {
     "name": "stdout",
     "output_type": "stream",
     "text": [
      "        State  TotalPop Hispanic   White   Black  Native   Asian Pacific  \\\n",
      "0     Alabama   4830620    3.75%  61.88%  31.25%   0.45%   1.05%   0.03%   \n",
      "1      Alaska    733375    5.91%  60.91%   2.85%  16.39%   5.45%   1.06%   \n",
      "2     Arizona   6641928   29.57%  57.12%   3.85%   4.36%   2.88%   0.17%   \n",
      "3    Arkansas   2958208    6.22%  71.14%  18.97%   0.52%   1.14%   0.15%   \n",
      "4  California  38421464   37.29%  40.22%   5.68%   0.41%  13.05%   0.35%   \n",
      "\n",
      "        Income            GenderPop  \n",
      "0  $43,296.36     2341093M_2489527F  \n",
      "1  $70,354.74       384160M_349215F  \n",
      "2  $54,207.82     3299088M_3342840F  \n",
      "3  $41,935.63     1451913M_1506295F  \n",
      "4  $67,264.78   19087135M_19334329F  \n",
      "State        object\n",
      "TotalPop      int64\n",
      "Hispanic     object\n",
      "White        object\n",
      "Black        object\n",
      "Native       object\n",
      "Asian        object\n",
      "Pacific      object\n",
      "Income       object\n",
      "GenderPop    object\n",
      "dtype: object\n"
     ]
    }
   ],
   "source": [
    "import pandas as pd\n",
    "import numpy as np\n",
    "import matplotlib.pyplot as plt\n",
    "import glob\n",
    "\n",
    "files = glob.glob(\"states*.csv\")\n",
    "df_list = []\n",
    "for file in files:\n",
    "    data = pd.read_csv(file, index_col=0)\n",
    "    df_list.append(data)\n",
    "    \n",
    "us_census = pd.concat(df_list).reset_index(drop=True)\n",
    "#us_census = us_census.drop(columns = ['Unnamed']) this doesn't work. using the index_col=0 ignored the index col in the .csv files.\n",
    "print(us_census.head(5))\n",
    "print(us_census.dtypes)"
   ]
  },
  {
   "cell_type": "markdown",
   "metadata": {},
   "source": [
    "3. Look at the `.columns` and the `.dtypes` of the `us_census` DataFrame. Are those datatypes going to hinder you as you try to make histograms?"
   ]
  },
  {
   "cell_type": "markdown",
   "metadata": {},
   "source": [
    "* State         object\n",
    "* TotalPop       int64\n",
    "* Hispanic      object --> Each percentage of race needs to be converted to a float to support reporting of statistics\n",
    "* White         object\n",
    "* Black         object\n",
    "* Native        object\n",
    "* Asian         object\n",
    "* Pacific       object\n",
    "* Income        object --> convert to a float to support reporting\n",
    "* GenderPop     object --> combined string that needs to be split into Male Pop and Female Pop\n",
    "* dtype: object"
   ]
  },
  {
   "cell_type": "markdown",
   "metadata": {},
   "source": [
    "4. Look at the `head()` of the DataFrame so that you can understand why some of these `dtypes` are objects instead of integers or floats.\n",
    "\n",
    "   Start to make a plan for how to convert these columns into the right types for manipulation."
   ]
  },
  {
   "cell_type": "markdown",
   "metadata": {},
   "source": [
    "   Unnamed: 0       State  TotalPop Hispanic   White   Black  Native   Asian  \\\n",
    "0           0     Alabama   4830620    3.75%  61.88%  31.25%   0.45%   1.05%   \n",
    "1           1      Alaska    733375    5.91%  60.91%   2.85%  16.39%   5.45%   \n",
    "2           2     Arizona   6641928   29.57%  57.12%   3.85%   4.36%   2.88%   \n",
    "3           3    Arkansas   2958208    6.22%  71.14%  18.97%   0.52%   1.14%   \n",
    "4           4  California  38421464   37.29%  40.22%   5.68%   0.41%  13.05%   \n",
    "\n",
    "  Pacific       Income            GenderPop  \n",
    "0   0.03%  $43,296.36     2341093M_2489527F  \n",
    "1   1.06%  $70,354.74       384160M_349215F  \n",
    "2   0.17%  $54,207.82     3299088M_3342840F  \n",
    "3   0.15%  $41,935.63     1451913M_1506295F  \n",
    "4   0.35%  $67,264.78   19087135M_19334329F"
   ]
  },
  {
   "cell_type": "markdown",
   "metadata": {},
   "source": [
    "## Regex to the Rescue"
   ]
  },
  {
   "cell_type": "markdown",
   "metadata": {},
   "source": [
    "5. Use regex to turn the `Income` column into a format that is ready for conversion into a numerical type."
   ]
  },
  {
   "cell_type": "code",
   "execution_count": 43,
   "metadata": {},
   "outputs": [
    {
     "name": "stdout",
     "output_type": "stream",
     "text": [
      "0    4329636\n",
      "1    7035474\n",
      "2    5420782\n",
      "3    4193563\n",
      "4    6726478\n",
      "Name: Income, dtype: int64\n"
     ]
    }
   ],
   "source": [
    "us_census.Income = us_census['Income'].replace('[\\$\\,\\.]','', regex = True)\n",
    "us_census.Income = pd.to_numeric(us_census.Income)\n",
    "print(us_census.Income.head(5))"
   ]
  },
  {
   "cell_type": "markdown",
   "metadata": {},
   "source": [
    "6. Look at the `GenderPop` column. We are going to want to separate this into two columns, the `Men` column, and the `Women` column.\n",
    "\n",
    "   Split the column into those two new columns using `str.split` and separating out those results."
   ]
  },
  {
   "cell_type": "code",
   "execution_count": 44,
   "metadata": {},
   "outputs": [
    {
     "name": "stdout",
     "output_type": "stream",
     "text": [
      "        State  TotalPop Hispanic   White   Black  Native   Asian Pacific  \\\n",
      "0     Alabama   4830620    3.75%  61.88%  31.25%   0.45%   1.05%   0.03%   \n",
      "1      Alaska    733375    5.91%  60.91%   2.85%  16.39%   5.45%   1.06%   \n",
      "2     Arizona   6641928   29.57%  57.12%   3.85%   4.36%   2.88%   0.17%   \n",
      "3    Arkansas   2958208    6.22%  71.14%  18.97%   0.52%   1.14%   0.15%   \n",
      "4  California  38421464   37.29%  40.22%   5.68%   0.41%  13.05%   0.35%   \n",
      "\n",
      "    Income            GenderPop       Men     Women  \n",
      "0  4329636    2341093M_2489527F   2341093   2489527  \n",
      "1  7035474      384160M_349215F    384160    349215  \n",
      "2  5420782    3299088M_3342840F   3299088   3342840  \n",
      "3  4193563    1451913M_1506295F   1451913   1506295  \n",
      "4  6726478  19087135M_19334329F  19087135  19334329  \n"
     ]
    }
   ],
   "source": [
    "split_df = us_census['GenderPop'].str.split('_', expand =True)\n",
    "us_census['Men'] = split_df[0].replace('[M]','', regex=True)\n",
    "us_census['Women'] = split_df[1].replace('[F]','', regex=True)\n",
    "print(us_census.head(5))"
   ]
  },
  {
   "cell_type": "markdown",
   "metadata": {},
   "source": [
    "7. Convert both of the columns into numerical datatypes.\n",
    "\n",
    "   There is still an `M` or an `F` character in each entry! We should remove those before we convert."
   ]
  },
  {
   "cell_type": "code",
   "execution_count": 45,
   "metadata": {},
   "outputs": [
    {
     "name": "stdout",
     "output_type": "stream",
     "text": [
      "State         object\n",
      "TotalPop       int64\n",
      "Hispanic      object\n",
      "White         object\n",
      "Black         object\n",
      "Native        object\n",
      "Asian         object\n",
      "Pacific       object\n",
      "Income         int64\n",
      "GenderPop     object\n",
      "Men            int64\n",
      "Women        float64\n",
      "dtype: object\n"
     ]
    }
   ],
   "source": [
    "us_census.Men = pd.to_numeric(us_census.Men)\n",
    "us_census.Women = pd.to_numeric(us_census.Women)\n",
    "print(us_census.dtypes)"
   ]
  },
  {
   "cell_type": "markdown",
   "metadata": {},
   "source": [
    "8. Now you should have the columns you need to make the graph and make sure your boss does not slam a ruler angrily on your desk because you've wasted your whole day cleaning your data with no results to show!\n",
    "\n",
    "   Use matplotlib to make a scatterplot!\n",
    "   \n",
    "   ```py\n",
    "   plt.scatter(the_women_column, the_income_column)\n",
    "   ```\n",
    "   \n",
    "   Remember to call `plt.show()` to see the graph!"
   ]
  },
  {
   "cell_type": "code",
   "execution_count": 46,
   "metadata": {},
   "outputs": [
    {
     "data": {
      "image/png": "[encoded data removed]",
      "text/plain": [
       "<Figure size 432x288 with 1 Axes>"
      ]
     },
     "metadata": {
      "needs_background": "light"
     },
     "output_type": "display_data"
    }
   ],
   "source": [
    "plt.scatter(us_census.Women, us_census.Income)\n",
    "plt.show()"
   ]
  },
  {
   "cell_type": "markdown",
   "metadata": {},
   "source": [
    "9. You want to double check your work. You know from experience that these monstrous csv files probably have `nan` values in them! Print out your column with the number of women per state to see.\n",
    "\n",
    "   We can fill in those `nan`s by using pandas' `.fillna()` function.\n",
    "   \n",
    "   You have the `TotalPop` per state, and you have the `Men` per state. As an estimate for the `nan` values in the `Women` column, you could use the `TotalPop` of that state minus the `Men` for that state.\n",
    "   \n",
    "   Print out the `Women` column after filling the `nan` values to see if it worked!"
   ]
  },
  {
   "cell_type": "code",
   "execution_count": 47,
   "metadata": {},
   "outputs": [
    {
     "name": "stdout",
     "output_type": "stream",
     "text": [
      "                   State  TotalPop Hispanic   White   Black  Native   Asian  \\\n",
      "0                Alabama   4830620    3.75%  61.88%  31.25%   0.45%   1.05%   \n",
      "1                 Alaska    733375    5.91%  60.91%   2.85%  16.39%   5.45%   \n",
      "2                Arizona   6641928   29.57%  57.12%   3.85%   4.36%   2.88%   \n",
      "3               Arkansas   2958208    6.22%  71.14%  18.97%   0.52%   1.14%   \n",
      "4             California  38421464   37.29%  40.22%   5.68%   0.41%  13.05%   \n",
      "5               Colorado   5278906   20.78%  69.90%   3.55%   0.57%   2.66%   \n",
      "6               Colorado   5278906   20.78%  69.90%   3.55%   0.57%   2.66%   \n",
      "7            Connecticut   3593222   15.60%  67.68%  10.35%   0.13%   4.02%   \n",
      "8               Delaware    926454    8.82%  64.63%  20.74%   0.26%   3.27%   \n",
      "9   District of Columbia    647484    9.17%  33.10%  51.78%   0.20%   3.38%   \n",
      "10               Florida  19645772   21.34%  59.08%  15.17%   0.21%   2.28%   \n",
      "11               Georgia  10006693    8.42%  54.29%  32.09%   0.19%   3.10%   \n",
      "12               Georgia  10006693    8.42%  54.29%  32.09%   0.19%   3.10%   \n",
      "13                Hawaii   1406299    9.19%  25.03%   2.05%   0.14%  36.59%   \n",
      "14                 Idaho   1616547   11.51%  83.14%   0.57%   1.47%   1.14%   \n",
      "15              Illinois  12873761   15.60%  60.86%  17.11%   0.12%   4.48%   \n",
      "16               Indiana   6568645    6.54%  78.43%  11.19%   0.19%   1.58%   \n",
      "17                  Iowa   3093526    5.30%  87.72%   3.26%   0.29%   1.70%   \n",
      "18                  Iowa   3093526    5.30%  87.72%   3.26%   0.29%   1.70%   \n",
      "19                Kansas   2892987   11.64%  75.96%   6.57%   0.73%   2.33%   \n",
      "20              Kentucky   4397353    3.22%  85.23%   8.27%   0.17%   1.13%   \n",
      "21             Louisiana   4625253    4.87%  54.98%  36.33%   0.48%   1.67%   \n",
      "22                 Maine   1329100    1.43%  93.71%   1.13%   0.79%   0.97%   \n",
      "23              Maryland   5930538    8.47%  52.68%  30.68%   0.20%   5.33%   \n",
      "24              Maryland   5930538    8.47%  52.68%  30.68%   0.20%   5.33%   \n",
      "25         Massachusetts   6705586   11.46%  73.04%   6.83%   0.13%   5.84%   \n",
      "26              Michigan   9900571    4.63%  72.38%  17.63%   0.48%   2.42%   \n",
      "27             Minnesota   5419171    5.15%  81.43%   5.66%   1.07%   4.16%   \n",
      "28           Mississippi   2988081    2.84%  53.29%  41.49%   0.39%   0.88%   \n",
      "29              Missouri   6045448    4.04%  77.51%  14.12%   0.36%   1.62%   \n",
      "30              Missouri   6045448    4.04%  77.51%  14.12%   0.36%   1.62%   \n",
      "31               Montana   1014699    3.27%  86.42%   0.43%   7.06%   0.57%   \n",
      "32              Nebraska   1869365    9.20%  81.14%   4.96%   0.86%   1.86%   \n",
      "33                Nevada   2798636   27.10%  53.24%   7.74%   1.09%   7.10%   \n",
      "34         New Hampshire   1324201    3.32%  91.32%   1.23%   0.14%   2.19%   \n",
      "35            New Jersey   8904413   18.75%  56.49%  14.39%   0.12%   8.16%   \n",
      "36            New Jersey   8904413   18.75%  56.49%  14.39%   0.12%   8.16%   \n",
      "37            New Mexico   2084117   45.28%  40.70%   1.76%   9.25%   1.23%   \n",
      "38              New York  19673174   17.24%  56.47%  15.67%   0.32%   7.90%   \n",
      "39        North Carolina   9845333    8.46%  64.60%  21.40%   1.09%   2.32%   \n",
      "40          North Dakota    721640    2.83%  87.45%   1.28%   5.65%   0.96%   \n",
      "41                  Ohio  11575977    3.67%  75.90%  16.21%   0.17%   1.62%   \n",
      "42                  Ohio  11575977    3.67%  75.90%  16.21%   0.17%   1.62%   \n",
      "43              Oklahoma   3849733   10.08%  66.06%   8.31%   6.72%   1.80%   \n",
      "44                Oregon   3939233   11.44%  78.40%   1.73%   1.00%   3.59%   \n",
      "45          Pennsylvania  12779559    6.13%  77.38%  11.63%   0.12%   2.80%   \n",
      "46           Puerto Rico   3583073   98.89%   0.77%   0.09%   0.00%   0.08%   \n",
      "47          Rhode Island   1053661   13.36%  74.33%   5.68%   0.35%   3.25%   \n",
      "48          Rhode Island   1053661   13.36%  74.33%   5.68%   0.35%   3.25%   \n",
      "49        South Carolina   4777576    5.06%  62.89%  28.75%   0.29%   1.25%   \n",
      "50          South Dakota    843190    3.24%  82.50%   1.42%   9.42%   1.02%   \n",
      "51             Tennessee   6499615    4.72%  73.49%  18.28%   0.23%   1.41%   \n",
      "52                 Texas  26538614   38.05%  44.69%  11.65%   0.26%   3.67%   \n",
      "53                  Utah   2903379   13.47%  79.41%   1.02%   1.08%   2.20%   \n",
      "54                  Utah   2903379   13.47%  79.41%   1.02%   1.08%   2.20%   \n",
      "55               Vermont    626604    1.61%  93.98%   0.98%   0.30%   1.24%   \n",
      "56              Virginia   8256630    8.01%  63.27%  20.18%   0.21%   5.46%   \n",
      "57            Washington   6985464   11.14%  72.04%   3.38%   1.41%   7.02%   \n",
      "58         West Virginia   1851420    1.29%  92.18%   3.66%   0.15%   0.68%   \n",
      "59             Wisconsin   5742117    6.68%  79.86%   8.20%   0.95%   2.40%   \n",
      "\n",
      "   Pacific   Income            GenderPop       Men       Women  \n",
      "0    0.03%  4329636    2341093M_2489527F   2341093   2489527.0  \n",
      "1    1.06%  7035474      384160M_349215F    384160    349215.0  \n",
      "2    0.17%  5420782    3299088M_3342840F   3299088   3342840.0  \n",
      "3    0.15%  4193563    1451913M_1506295F   1451913   1506295.0  \n",
      "4    0.35%  6726478  19087135M_19334329F  19087135  19334329.0  \n",
      "5      NaN  6465780    2648667M_2630239F   2648667   2630239.0  \n",
      "6      NaN  6465780    2648667M_2630239F   2648667   2630239.0  \n",
      "7    0.02%  7614656    1751607M_1841615F   1751607   1841615.0  \n",
      "8      NaN  6182798      448413M_478041F    448413    478041.0  \n",
      "9    0.03%  7546636      306674M_340810F    306674    340810.0  \n",
      "10   0.05%  5069019   9600009M_10045763F   9600009  10045763.0  \n",
      "11   0.05%  5081108    4883331M_5123362F   4883331   5123362.0  \n",
      "12   0.05%  5081108    4883331M_5123362F   4883331   5123362.0  \n",
      "13   8.76%  7326443      709871M_696428F    709871    696428.0  \n",
      "14   0.13%  4801732      810464M_806083F    810464    806083.0  \n",
      "15   0.02%  5958705    6316899M_6556862F   6316899   6556862.0  \n",
      "16   0.03%  4861623    3235263M_3333382F   3235263   3333382.0  \n",
      "17   0.06%  5301775    1534595M_1558931F   1534595   1558931.0  \n",
      "18   0.06%  5301775    1534595M_1558931F   1534595   1558931.0  \n",
      "19     NaN  5388561    1439862M_1453125F   1439862   1453125.0  \n",
      "20   0.05%  4528580    2164208M_2233145F   2164208   2233145.0  \n",
      "21   0.04%  4495799    2261156M_2364097F   2261156   2364097.0  \n",
      "22   0.02%  4918197      650081M_679019F    650081    679019.0  \n",
      "23   0.04%  7876540           2872643M_F   2872643   3057895.0  \n",
      "24   0.04%  7876540           2872643M_F   2872643   3057895.0  \n",
      "25   0.02%  7283894    3249650M_3455936F   3249650   3455936.0  \n",
      "26   0.02%  5120183    4861973M_5038598F   4861973   5038598.0  \n",
      "27   0.03%  6282083    2692166M_2727005F   2692166   2727005.0  \n",
      "28   0.02%  3890992    1451723M_1536358F   1451723   1536358.0  \n",
      "29   0.10%  4976399    2964003M_3081445F   2964003   3081445.0  \n",
      "30   0.10%  4976399    2964003M_3081445F   2964003   3081445.0  \n",
      "31   0.07%  4764568            510163M_F    510163    504536.0  \n",
      "32   0.06%  5591647      929606M_939759F    929606    939759.0  \n",
      "33   0.57%  5552653    1407735M_1390901F   1407735   1390901.0  \n",
      "34   0.02%  6872886      653484M_670717F    653484    670717.0  \n",
      "35   0.03%  7658108    4343027M_4561386F   4343027   4561386.0  \n",
      "36   0.03%  7658108    4343027M_4561386F   4343027   4561386.0  \n",
      "37   0.04%  4732997    1032414M_1051703F   1032414   1051703.0  \n",
      "38   0.02%  6429075   9541801M_10131373F   9541801  10131373.0  \n",
      "39   0.05%  4993746    4795408M_5049925F   4795408   5049925.0  \n",
      "40     NaN  5818811      367963M_353677F    367963    353677.0  \n",
      "41   0.02%  4965525    5662893M_5913084F   5662893   5913084.0  \n",
      "42   0.02%  4965525    5662893M_5913084F   5662893   5913084.0  \n",
      "43   0.11%  4810085    1906944M_1942789F   1906944   1942789.0  \n",
      "44   0.35%  5427190    1948453M_1990780F   1948453   1990780.0  \n",
      "45   0.02%  5617046    6245344M_6534215F   6245344   6534215.0  \n",
      "46   0.00%  2072054    1713860M_1869213F   1713860   1869213.0  \n",
      "47   0.04%  5912527      510388M_543273F    510388    543273.0  \n",
      "48   0.04%  5912527      510388M_543273F    510388    543273.0  \n",
      "49   0.05%  4629681    2322409M_2455167F   2322409   2455167.0  \n",
      "50   0.04%  5180541      423477M_419713F    423477    419713.0  \n",
      "51   0.04%  4732808    3167756M_3331859F   3167756   3331859.0  \n",
      "52   0.07%  5587452  13171316M_13367298F  13171316  13367298.0  \n",
      "53   0.83%  6348892    1459229M_1444150F   1459229   1444150.0  \n",
      "54   0.83%  6348892    1459229M_1444150F   1459229   1444150.0  \n",
      "55   0.03%  5560297      308573M_318031F    308573    318031.0  \n",
      "56   0.06%  7286601    4060948M_4195682F   4060948   4195682.0  \n",
      "57   0.61%  6449377    3487725M_3497739F   3487725   3497739.0  \n",
      "58   0.03%  4143711      913631M_937789F    913631    937789.0  \n",
      "59   0.02%  5389889    2851385M_2890732F   2851385   2890732.0  \n"
     ]
    }
   ],
   "source": [
    "us_census = us_census.fillna(value = {'Women':(us_census.TotalPop - us_census.Men)})\n",
    "print(us_census)"
   ]
  },
  {
   "cell_type": "markdown",
   "metadata": {},
   "source": [
    "10. We forgot to check for duplicates! Use `.duplicated()` on your `census` DataFrame to see if we have duplicate rows in there."
   ]
  },
  {
   "cell_type": "code",
   "execution_count": 48,
   "metadata": {},
   "outputs": [
    {
     "name": "stdout",
     "output_type": "stream",
     "text": [
      "False    51\n",
      "True      9\n",
      "dtype: int64\n"
     ]
    }
   ],
   "source": [
    "duplicates = us_census.duplicated()\n",
    "print(duplicates.value_counts())"
   ]
  },
  {
   "cell_type": "markdown",
   "metadata": {},
   "source": [
    "11. Drop those duplicates using the `.drop_duplicates()` function."
   ]
  },
  {
   "cell_type": "code",
   "execution_count": 49,
   "metadata": {},
   "outputs": [],
   "source": [
    "us_census = us_census.drop_duplicates()"
   ]
  },
  {
   "cell_type": "markdown",
   "metadata": {},
   "source": [
    "12. Make the scatterplot again. Now, it should be perfect! Your job is secure, for now."
   ]
  },
  {
   "cell_type": "code",
   "execution_count": 50,
   "metadata": {},
   "outputs": [
    {
     "data": {
      "image/png": "[encoded data removed]",
      "text/plain": [
       "<Figure size 432x288 with 1 Axes>"
      ]
     },
     "metadata": {
      "needs_background": "light"
     },
     "output_type": "display_data"
    }
   ],
   "source": [
    "plt.scatter(us_census.Women, us_census.Income)\n",
    "plt.show()"
   ]
  },
  {
   "cell_type": "markdown",
   "metadata": {},
   "source": [
    "## Histogram of Races"
   ]
  },
  {
   "cell_type": "markdown",
   "metadata": {},
   "source": [
    "13. Now your boss wants you to make a bunch of histograms out of the race data that you have. Look at the `.columns` again to see what the race categories are."
   ]
  },
  {
   "cell_type": "code",
   "execution_count": null,
   "metadata": {},
   "outputs": [],
   "source": []
  },
  {
   "cell_type": "markdown",
   "metadata": {},
   "source": [
    "14. Try to make a histogram for each one!\n",
    "\n",
    "    You will have to get the columns into the numerical format, and those percentage signs will have to go.\n",
    "    \n",
    "    Don't forget to fill the `nan` values with something that makes sense! You probably dropped the duplicate rows when making your last graph, but it couldn't hurt to check for duplicates again."
   ]
  },
  {
   "cell_type": "code",
   "execution_count": null,
   "metadata": {},
   "outputs": [],
   "source": []
  },
  {
   "cell_type": "markdown",
   "metadata": {},
   "source": [
    "## Get Creative"
   ]
  },
  {
   "cell_type": "markdown",
   "metadata": {},
   "source": [
    "15. Phew. You've definitely impressed your boss on your first day of work.\n",
    "\n",
    "    But is there a way you really convey the power of pandas and Python over the drudgery of `csv` and Excel?\n",
    "    \n",
    "    Try to make some more interesting graphs to show your boss, and the world! You may need to clean the data even more to do it, or the cleaning you have already done may give you the ease of manipulation you've been searching for."
   ]
  },
  {
   "cell_type": "code",
   "execution_count": null,
   "metadata": {},
   "outputs": [],
   "source": []
  }
 ],
 "metadata": {
  "kernelspec": {
   "display_name": "Python 3 (ipykernel)",
   "language": "python",
   "name": "python3"
  },
  "language_info": {
   "codemirror_mode": {
    "name": "ipython",
    "version": 3
   },
   "file_extension": ".py",
   "mimetype": "text/x-python",
   "name": "python",
   "nbconvert_exporter": "python",
   "pygments_lexer": "ipython3",
   "version": "3.9.12"
  }
 },
 "nbformat": 4,
 "nbformat_minor": 2
}
