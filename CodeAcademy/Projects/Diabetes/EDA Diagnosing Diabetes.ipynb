{
 "cells": [
  {
   "cell_type": "markdown",
   "id": "f4c71b09",
   "metadata": {},
   "source": [
    "# EDA: Diagnosing Diabetes"
   ]
  },
  {
   "cell_type": "markdown",
   "id": "7cf00067",
   "metadata": {},
   "source": [
    "In this project, you'll imagine you are a data scientist interested in exploring data that looks at how certain diagnostic factors affect the diabetes outcome of women patients.\n",
    "\n",
    "You will use your EDA skills to help inspect, clean, and validate the data.\n",
    "\n",
    "**Note**: This [dataset](https://www.kaggle.com/uciml/pima-indians-diabetes-database) is from the National Institute of Diabetes and Digestive and Kidney Diseases. It contains the following columns:\n",
    "\n",
    "- `Pregnancies`: Number of times pregnant\n",
    "- `Glucose`: Plasma glucose concentration per 2 hours in an oral glucose tolerance test\n",
    "- `BloodPressure`: Diastolic blood pressure\n",
    "- `SkinThickness`: Triceps skinfold thickness\n",
    "- `Insulin`: 2-Hour serum insulin\n",
    "- `BMI`: Body mass index\n",
    "- `DiabetesPedigreeFunction`: Diabetes pedigree function\n",
    "- `Age`: Age (years)\n",
    "- `Outcome`: Class variable (0 or 1)\n",
    "\n",
    "Let's get started!"
   ]
  },
  {
   "cell_type": "markdown",
   "id": "6e1cc217",
   "metadata": {},
   "source": [
    "## Initial Inspection"
   ]
  },
  {
   "cell_type": "markdown",
   "id": "76684c5b",
   "metadata": {},
   "source": [
    "1. First, familiarize yourself with the dataset [here](https://www.kaggle.com/uciml/pima-indians-diabetes-database).\n",
    "\n",
    "   Look at each of the nine columns in the documentation.\n",
    "   \n",
    "   What do you expect each data type to be?"
   ]
  },
  {
   "cell_type": "markdown",
   "id": "f7bdb023",
   "metadata": {},
   "source": [
    "Expected data type for each column:\n",
    "\n",
    "- `Pregnancies`: integer\n",
    "- `Glucose`: float\n",
    "- `BloodPressure`: int\n",
    "- `SkinThickness`: float\n",
    "- `Insulin`: int\n",
    "- `BMI`: float\n",
    "- `DiabetesPedigreeFunction`: int\n",
    "- `Age`: int\n",
    "- `Outcome`: int"
   ]
  },
  {
   "cell_type": "markdown",
   "id": "fc54249b",
   "metadata": {},
   "source": [
    "2. Next, let's load in the diabetes data to start exploring.\n",
    "\n",
    "   Load the data in a variable called `diabetes_data` and print the first few rows.\n",
    "   \n",
    "   **Note**: The data is stored in a file called `diabetes.csv`."
   ]
  },
  {
   "cell_type": "code",
   "execution_count": 98,
   "id": "4839762f",
   "metadata": {},
   "outputs": [],
   "source": [
    "import pandas as pd\n",
    "import numpy as np\n",
    "import matplotlib.pyplot as plt\n",
    "import seaborn as sns\n",
    "from scipy.stats import pearsonr\n",
    "\n",
    "# load in data\n",
    "diabetes = pd.read_csv('diabetes.csv')"
   ]
  },
  {
   "cell_type": "markdown",
   "id": "90d35b44",
   "metadata": {},
   "source": [
    "3. How many columns (features) does the data contain?"
   ]
  },
  {
   "cell_type": "code",
   "execution_count": 99,
   "id": "c7fc98c4",
   "metadata": {},
   "outputs": [
    {
     "data": {
      "text/html": [
       "<div>\n",
       "<style scoped>\n",
       "    .dataframe tbody tr th:only-of-type {\n",
       "        vertical-align: middle;\n",
       "    }\n",
       "\n",
       "    .dataframe tbody tr th {\n",
       "        vertical-align: top;\n",
       "    }\n",
       "\n",
       "    .dataframe thead th {\n",
       "        text-align: right;\n",
       "    }\n",
       "</style>\n",
       "<table border=\"1\" class=\"dataframe\">\n",
       "  <thead>\n",
       "    <tr style=\"text-align: right;\">\n",
       "      <th></th>\n",
       "      <th>Pregnancies</th>\n",
       "      <th>Glucose</th>\n",
       "      <th>BloodPressure</th>\n",
       "      <th>SkinThickness</th>\n",
       "      <th>Insulin</th>\n",
       "      <th>BMI</th>\n",
       "      <th>DiabetesPedigreeFunction</th>\n",
       "      <th>Age</th>\n",
       "      <th>Outcome</th>\n",
       "    </tr>\n",
       "  </thead>\n",
       "  <tbody>\n",
       "    <tr>\n",
       "      <th>count</th>\n",
       "      <td>768.000000</td>\n",
       "      <td>768.000000</td>\n",
       "      <td>768.000000</td>\n",
       "      <td>768.000000</td>\n",
       "      <td>768.000000</td>\n",
       "      <td>768.000000</td>\n",
       "      <td>768.000000</td>\n",
       "      <td>768.000000</td>\n",
       "      <td>768</td>\n",
       "    </tr>\n",
       "    <tr>\n",
       "      <th>unique</th>\n",
       "      <td>NaN</td>\n",
       "      <td>NaN</td>\n",
       "      <td>NaN</td>\n",
       "      <td>NaN</td>\n",
       "      <td>NaN</td>\n",
       "      <td>NaN</td>\n",
       "      <td>NaN</td>\n",
       "      <td>NaN</td>\n",
       "      <td>3</td>\n",
       "    </tr>\n",
       "    <tr>\n",
       "      <th>top</th>\n",
       "      <td>NaN</td>\n",
       "      <td>NaN</td>\n",
       "      <td>NaN</td>\n",
       "      <td>NaN</td>\n",
       "      <td>NaN</td>\n",
       "      <td>NaN</td>\n",
       "      <td>NaN</td>\n",
       "      <td>NaN</td>\n",
       "      <td>0</td>\n",
       "    </tr>\n",
       "    <tr>\n",
       "      <th>freq</th>\n",
       "      <td>NaN</td>\n",
       "      <td>NaN</td>\n",
       "      <td>NaN</td>\n",
       "      <td>NaN</td>\n",
       "      <td>NaN</td>\n",
       "      <td>NaN</td>\n",
       "      <td>NaN</td>\n",
       "      <td>NaN</td>\n",
       "      <td>494</td>\n",
       "    </tr>\n",
       "    <tr>\n",
       "      <th>mean</th>\n",
       "      <td>3.845052</td>\n",
       "      <td>120.894531</td>\n",
       "      <td>69.105469</td>\n",
       "      <td>20.536458</td>\n",
       "      <td>79.799479</td>\n",
       "      <td>31.992578</td>\n",
       "      <td>0.471876</td>\n",
       "      <td>33.240885</td>\n",
       "      <td>NaN</td>\n",
       "    </tr>\n",
       "    <tr>\n",
       "      <th>std</th>\n",
       "      <td>3.369578</td>\n",
       "      <td>31.972618</td>\n",
       "      <td>19.355807</td>\n",
       "      <td>15.952218</td>\n",
       "      <td>115.244002</td>\n",
       "      <td>7.884160</td>\n",
       "      <td>0.331329</td>\n",
       "      <td>11.760232</td>\n",
       "      <td>NaN</td>\n",
       "    </tr>\n",
       "    <tr>\n",
       "      <th>min</th>\n",
       "      <td>0.000000</td>\n",
       "      <td>0.000000</td>\n",
       "      <td>0.000000</td>\n",
       "      <td>0.000000</td>\n",
       "      <td>0.000000</td>\n",
       "      <td>0.000000</td>\n",
       "      <td>0.078000</td>\n",
       "      <td>21.000000</td>\n",
       "      <td>NaN</td>\n",
       "    </tr>\n",
       "    <tr>\n",
       "      <th>25%</th>\n",
       "      <td>1.000000</td>\n",
       "      <td>99.000000</td>\n",
       "      <td>62.000000</td>\n",
       "      <td>0.000000</td>\n",
       "      <td>0.000000</td>\n",
       "      <td>27.300000</td>\n",
       "      <td>0.243750</td>\n",
       "      <td>24.000000</td>\n",
       "      <td>NaN</td>\n",
       "    </tr>\n",
       "    <tr>\n",
       "      <th>50%</th>\n",
       "      <td>3.000000</td>\n",
       "      <td>117.000000</td>\n",
       "      <td>72.000000</td>\n",
       "      <td>23.000000</td>\n",
       "      <td>30.500000</td>\n",
       "      <td>32.000000</td>\n",
       "      <td>0.372500</td>\n",
       "      <td>29.000000</td>\n",
       "      <td>NaN</td>\n",
       "    </tr>\n",
       "    <tr>\n",
       "      <th>75%</th>\n",
       "      <td>6.000000</td>\n",
       "      <td>140.250000</td>\n",
       "      <td>80.000000</td>\n",
       "      <td>32.000000</td>\n",
       "      <td>127.250000</td>\n",
       "      <td>36.600000</td>\n",
       "      <td>0.626250</td>\n",
       "      <td>41.000000</td>\n",
       "      <td>NaN</td>\n",
       "    </tr>\n",
       "    <tr>\n",
       "      <th>max</th>\n",
       "      <td>17.000000</td>\n",
       "      <td>199.000000</td>\n",
       "      <td>122.000000</td>\n",
       "      <td>99.000000</td>\n",
       "      <td>846.000000</td>\n",
       "      <td>67.100000</td>\n",
       "      <td>2.420000</td>\n",
       "      <td>81.000000</td>\n",
       "      <td>NaN</td>\n",
       "    </tr>\n",
       "  </tbody>\n",
       "</table>\n",
       "</div>"
      ],
      "text/plain": [
       "        Pregnancies     Glucose  BloodPressure  SkinThickness     Insulin  \\\n",
       "count    768.000000  768.000000     768.000000     768.000000  768.000000   \n",
       "unique          NaN         NaN            NaN            NaN         NaN   \n",
       "top             NaN         NaN            NaN            NaN         NaN   \n",
       "freq            NaN         NaN            NaN            NaN         NaN   \n",
       "mean       3.845052  120.894531      69.105469      20.536458   79.799479   \n",
       "std        3.369578   31.972618      19.355807      15.952218  115.244002   \n",
       "min        0.000000    0.000000       0.000000       0.000000    0.000000   \n",
       "25%        1.000000   99.000000      62.000000       0.000000    0.000000   \n",
       "50%        3.000000  117.000000      72.000000      23.000000   30.500000   \n",
       "75%        6.000000  140.250000      80.000000      32.000000  127.250000   \n",
       "max       17.000000  199.000000     122.000000      99.000000  846.000000   \n",
       "\n",
       "               BMI  DiabetesPedigreeFunction         Age Outcome  \n",
       "count   768.000000                768.000000  768.000000     768  \n",
       "unique         NaN                       NaN         NaN       3  \n",
       "top            NaN                       NaN         NaN       0  \n",
       "freq           NaN                       NaN         NaN     494  \n",
       "mean     31.992578                  0.471876   33.240885     NaN  \n",
       "std       7.884160                  0.331329   11.760232     NaN  \n",
       "min       0.000000                  0.078000   21.000000     NaN  \n",
       "25%      27.300000                  0.243750   24.000000     NaN  \n",
       "50%      32.000000                  0.372500   29.000000     NaN  \n",
       "75%      36.600000                  0.626250   41.000000     NaN  \n",
       "max      67.100000                  2.420000   81.000000     NaN  "
      ]
     },
     "execution_count": 99,
     "metadata": {},
     "output_type": "execute_result"
    }
   ],
   "source": [
    "# print number of columns\n",
    "diabetes.describe(include='all')"
   ]
  },
  {
   "cell_type": "markdown",
   "id": "35d2bf80",
   "metadata": {},
   "source": [
    "4. How many rows (observations) does the data contain?"
   ]
  },
  {
   "cell_type": "markdown",
   "id": "65d8ddf0",
   "metadata": {},
   "source": [
    "## Further Inspection"
   ]
  },
  {
   "cell_type": "markdown",
   "id": "04e3c6ef",
   "metadata": {},
   "source": [
    "5. Let's inspect `diabetes_data` further.\n",
    "\n",
    "   Do any of the columns in the data contain null (missing) values?"
   ]
  },
  {
   "cell_type": "code",
   "execution_count": 100,
   "id": "d0fa3860",
   "metadata": {},
   "outputs": [
    {
     "data": {
      "text/html": [
       "<div>\n",
       "<style scoped>\n",
       "    .dataframe tbody tr th:only-of-type {\n",
       "        vertical-align: middle;\n",
       "    }\n",
       "\n",
       "    .dataframe tbody tr th {\n",
       "        vertical-align: top;\n",
       "    }\n",
       "\n",
       "    .dataframe thead th {\n",
       "        text-align: right;\n",
       "    }\n",
       "</style>\n",
       "<table border=\"1\" class=\"dataframe\">\n",
       "  <thead>\n",
       "    <tr style=\"text-align: right;\">\n",
       "      <th></th>\n",
       "    </tr>\n",
       "  </thead>\n",
       "  <tbody>\n",
       "    <tr>\n",
       "      <th>0</th>\n",
       "    </tr>\n",
       "    <tr>\n",
       "      <th>1</th>\n",
       "    </tr>\n",
       "    <tr>\n",
       "      <th>2</th>\n",
       "    </tr>\n",
       "    <tr>\n",
       "      <th>3</th>\n",
       "    </tr>\n",
       "    <tr>\n",
       "      <th>4</th>\n",
       "    </tr>\n",
       "    <tr>\n",
       "      <th>...</th>\n",
       "    </tr>\n",
       "    <tr>\n",
       "      <th>763</th>\n",
       "    </tr>\n",
       "    <tr>\n",
       "      <th>764</th>\n",
       "    </tr>\n",
       "    <tr>\n",
       "      <th>765</th>\n",
       "    </tr>\n",
       "    <tr>\n",
       "      <th>766</th>\n",
       "    </tr>\n",
       "    <tr>\n",
       "      <th>767</th>\n",
       "    </tr>\n",
       "  </tbody>\n",
       "</table>\n",
       "<p>768 rows × 0 columns</p>\n",
       "</div>"
      ],
      "text/plain": [
       "Empty DataFrame\n",
       "Columns: []\n",
       "Index: [0, 1, 2, 3, 4, 5, 6, 7, 8, 9, 10, 11, 12, 13, 14, 15, 16, 17, 18, 19, 20, 21, 22, 23, 24, 25, 26, 27, 28, 29, 30, 31, 32, 33, 34, 35, 36, 37, 38, 39, 40, 41, 42, 43, 44, 45, 46, 47, 48, 49, 50, 51, 52, 53, 54, 55, 56, 57, 58, 59, 60, 61, 62, 63, 64, 65, 66, 67, 68, 69, 70, 71, 72, 73, 74, 75, 76, 77, 78, 79, 80, 81, 82, 83, 84, 85, 86, 87, 88, 89, 90, 91, 92, 93, 94, 95, 96, 97, 98, 99, ...]\n",
       "\n",
       "[768 rows x 0 columns]"
      ]
     },
     "execution_count": 100,
     "metadata": {},
     "output_type": "execute_result"
    }
   ],
   "source": [
    "# find whether columns contain null values\n",
    "# df[df.columns[df.isna().any()]]\n",
    "diabetes[diabetes.columns[diabetes.isna().any()]]"
   ]
  },
  {
   "cell_type": "markdown",
   "id": "8ee62c01",
   "metadata": {},
   "source": [
    "6. If you answered no to the question above, not so fast!\n",
    "\n",
    "   While it's technically true that none of the columns contain null values, that doesn't necessarily mean that the data isn't missing any values.\n",
    "   \n",
    "   When exploring data, you should always question your assumptions and try to dig deeper.\n",
    "   \n",
    "   To investigate further, calculate summary statistics on `diabetes_data` using the `.describe()` method."
   ]
  },
  {
   "cell_type": "code",
   "execution_count": 6,
   "id": "451efb00",
   "metadata": {},
   "outputs": [],
   "source": [
    "# perform summary statistics\n"
   ]
  },
  {
   "cell_type": "markdown",
   "id": "ad900272",
   "metadata": {},
   "source": [
    "7. Looking at the summary statistics, do you notice anything odd about the following columns?\n",
    "\n",
    "   - `Glucose`\n",
    "   - `BloodPressure`\n",
    "   - `SkinThickness`\n",
    "   - `Insulin`\n",
    "   - `BMI`"
   ]
  },
  {
   "cell_type": "markdown",
   "id": "7131eacb",
   "metadata": {},
   "source": [
    "**Your response to question 7**:"
   ]
  },
  {
   "cell_type": "markdown",
   "id": "3ed15b79",
   "metadata": {},
   "source": [
    "8. Do you spot any other outliers in the data?\n",
    "* yes - insulin level max is 846\n",
    "* \"A blood sugar level less than 140 mg/dL (7.8 mmol/L) is normal. A reading of more than 200 mg/dL (11.1 mmol/L) after two hours indicates diabetes. A reading between 140 and 199 mg/dL (7.8 mmol/L and 11.0 mmol/L) indicates prediabetes.\"\n",
    "* 17 pregnancies is a lot...\n",
    "* Skin Fold Thickness Max is 99. From Research: In the study population, the average TSF thickness was 18.7 ± 8.5 mm. Women have much higher TSF thickness than men (23.6 ± 7.5 mm vs 14.3 ± 6.8 mm)\n",
    "* BMI max of 67 is extremely high. 32 is morbidly obese"
   ]
  },
  {
   "cell_type": "markdown",
   "id": "8a708e88",
   "metadata": {},
   "source": [
    "**Your response to question 8**:"
   ]
  },
  {
   "cell_type": "markdown",
   "id": "4b5bcf47",
   "metadata": {},
   "source": [
    "9. Let's see if we can get a more accurate view of the missing values in the data.\n",
    "\n",
    "   Use the following code to replace the instances of `0` with `NaN` in the five columns mentioned:\n",
    "   \n",
    "   ```py\n",
    "   diabetes_data[['Glucose', 'BloodPressure', 'SkinThickness', 'Insulin', 'BMI']] = diabetes_data[['Glucose', 'BloodPressure', 'SkinThickness', 'Insulin', 'BMI']].replace(0, np.NaN)\n",
    "   ```"
   ]
  },
  {
   "cell_type": "code",
   "execution_count": 101,
   "id": "623def40",
   "metadata": {},
   "outputs": [],
   "source": [
    "# replace instances of 0 with NaN\n",
    "diabetes[['Glucose','BloodPressure','SkinThickness','Insulin','BMI']] = diabetes[['Glucose','BloodPressure','SkinThickness','Insulin','BMI']].replace(0,np.nan)"
   ]
  },
  {
   "cell_type": "markdown",
   "id": "ad9fc71d",
   "metadata": {},
   "source": [
    "10. Next, check for missing (null) values in all of the columns just like you did in Step 5.\n",
    "\n",
    "    Now how many missing values are there?"
   ]
  },
  {
   "cell_type": "code",
   "execution_count": 102,
   "id": "1e4d2845",
   "metadata": {},
   "outputs": [
    {
     "name": "stdout",
     "output_type": "stream",
     "text": [
      "Pregnancies                   0\n",
      "Glucose                       5\n",
      "BloodPressure                35\n",
      "SkinThickness               227\n",
      "Insulin                     374\n",
      "BMI                          11\n",
      "DiabetesPedigreeFunction      0\n",
      "Age                           0\n",
      "Outcome                       0\n",
      "dtype: int64\n"
     ]
    }
   ],
   "source": [
    "# find whether columns contain null values after replacements are made\n",
    "print(diabetes.isnull().sum())"
   ]
  },
  {
   "cell_type": "markdown",
   "id": "4265329e",
   "metadata": {},
   "source": [
    "11. Let's take a closer look at these rows to get a better idea of _why_ some data might be missing.\n",
    "\n",
    "    Print out all the rows that contain missing (null) values."
   ]
  },
  {
   "cell_type": "code",
   "execution_count": 103,
   "id": "91f5b1fe",
   "metadata": {
    "scrolled": true
   },
   "outputs": [
    {
     "data": {
      "text/html": [
       "<div>\n",
       "<style scoped>\n",
       "    .dataframe tbody tr th:only-of-type {\n",
       "        vertical-align: middle;\n",
       "    }\n",
       "\n",
       "    .dataframe tbody tr th {\n",
       "        vertical-align: top;\n",
       "    }\n",
       "\n",
       "    .dataframe thead th {\n",
       "        text-align: right;\n",
       "    }\n",
       "</style>\n",
       "<table border=\"1\" class=\"dataframe\">\n",
       "  <thead>\n",
       "    <tr style=\"text-align: right;\">\n",
       "      <th></th>\n",
       "      <th>Pregnancies</th>\n",
       "      <th>Glucose</th>\n",
       "      <th>BloodPressure</th>\n",
       "      <th>SkinThickness</th>\n",
       "      <th>Insulin</th>\n",
       "      <th>BMI</th>\n",
       "      <th>DiabetesPedigreeFunction</th>\n",
       "      <th>Age</th>\n",
       "      <th>Outcome</th>\n",
       "    </tr>\n",
       "  </thead>\n",
       "  <tbody>\n",
       "    <tr>\n",
       "      <th>0</th>\n",
       "      <td>6</td>\n",
       "      <td>148.0</td>\n",
       "      <td>72.0</td>\n",
       "      <td>35.0</td>\n",
       "      <td>NaN</td>\n",
       "      <td>33.6</td>\n",
       "      <td>0.627</td>\n",
       "      <td>50</td>\n",
       "      <td>1</td>\n",
       "    </tr>\n",
       "    <tr>\n",
       "      <th>1</th>\n",
       "      <td>1</td>\n",
       "      <td>85.0</td>\n",
       "      <td>66.0</td>\n",
       "      <td>29.0</td>\n",
       "      <td>NaN</td>\n",
       "      <td>26.6</td>\n",
       "      <td>0.351</td>\n",
       "      <td>31</td>\n",
       "      <td>0</td>\n",
       "    </tr>\n",
       "    <tr>\n",
       "      <th>2</th>\n",
       "      <td>8</td>\n",
       "      <td>183.0</td>\n",
       "      <td>64.0</td>\n",
       "      <td>NaN</td>\n",
       "      <td>NaN</td>\n",
       "      <td>23.3</td>\n",
       "      <td>0.672</td>\n",
       "      <td>32</td>\n",
       "      <td>1</td>\n",
       "    </tr>\n",
       "    <tr>\n",
       "      <th>5</th>\n",
       "      <td>5</td>\n",
       "      <td>116.0</td>\n",
       "      <td>74.0</td>\n",
       "      <td>NaN</td>\n",
       "      <td>NaN</td>\n",
       "      <td>25.6</td>\n",
       "      <td>0.201</td>\n",
       "      <td>30</td>\n",
       "      <td>0</td>\n",
       "    </tr>\n",
       "    <tr>\n",
       "      <th>7</th>\n",
       "      <td>10</td>\n",
       "      <td>115.0</td>\n",
       "      <td>NaN</td>\n",
       "      <td>NaN</td>\n",
       "      <td>NaN</td>\n",
       "      <td>35.3</td>\n",
       "      <td>0.134</td>\n",
       "      <td>29</td>\n",
       "      <td>0</td>\n",
       "    </tr>\n",
       "    <tr>\n",
       "      <th>...</th>\n",
       "      <td>...</td>\n",
       "      <td>...</td>\n",
       "      <td>...</td>\n",
       "      <td>...</td>\n",
       "      <td>...</td>\n",
       "      <td>...</td>\n",
       "      <td>...</td>\n",
       "      <td>...</td>\n",
       "      <td>...</td>\n",
       "    </tr>\n",
       "    <tr>\n",
       "      <th>761</th>\n",
       "      <td>9</td>\n",
       "      <td>170.0</td>\n",
       "      <td>74.0</td>\n",
       "      <td>31.0</td>\n",
       "      <td>NaN</td>\n",
       "      <td>44.0</td>\n",
       "      <td>0.403</td>\n",
       "      <td>43</td>\n",
       "      <td>1</td>\n",
       "    </tr>\n",
       "    <tr>\n",
       "      <th>762</th>\n",
       "      <td>9</td>\n",
       "      <td>89.0</td>\n",
       "      <td>62.0</td>\n",
       "      <td>NaN</td>\n",
       "      <td>NaN</td>\n",
       "      <td>22.5</td>\n",
       "      <td>0.142</td>\n",
       "      <td>33</td>\n",
       "      <td>0</td>\n",
       "    </tr>\n",
       "    <tr>\n",
       "      <th>764</th>\n",
       "      <td>2</td>\n",
       "      <td>122.0</td>\n",
       "      <td>70.0</td>\n",
       "      <td>27.0</td>\n",
       "      <td>NaN</td>\n",
       "      <td>36.8</td>\n",
       "      <td>0.340</td>\n",
       "      <td>27</td>\n",
       "      <td>0</td>\n",
       "    </tr>\n",
       "    <tr>\n",
       "      <th>766</th>\n",
       "      <td>1</td>\n",
       "      <td>126.0</td>\n",
       "      <td>60.0</td>\n",
       "      <td>NaN</td>\n",
       "      <td>NaN</td>\n",
       "      <td>30.1</td>\n",
       "      <td>0.349</td>\n",
       "      <td>47</td>\n",
       "      <td>1</td>\n",
       "    </tr>\n",
       "    <tr>\n",
       "      <th>767</th>\n",
       "      <td>1</td>\n",
       "      <td>93.0</td>\n",
       "      <td>70.0</td>\n",
       "      <td>31.0</td>\n",
       "      <td>NaN</td>\n",
       "      <td>30.4</td>\n",
       "      <td>0.315</td>\n",
       "      <td>23</td>\n",
       "      <td>0</td>\n",
       "    </tr>\n",
       "  </tbody>\n",
       "</table>\n",
       "<p>376 rows × 9 columns</p>\n",
       "</div>"
      ],
      "text/plain": [
       "     Pregnancies  Glucose  BloodPressure  SkinThickness  Insulin   BMI  \\\n",
       "0              6    148.0           72.0           35.0      NaN  33.6   \n",
       "1              1     85.0           66.0           29.0      NaN  26.6   \n",
       "2              8    183.0           64.0            NaN      NaN  23.3   \n",
       "5              5    116.0           74.0            NaN      NaN  25.6   \n",
       "7             10    115.0            NaN            NaN      NaN  35.3   \n",
       "..           ...      ...            ...            ...      ...   ...   \n",
       "761            9    170.0           74.0           31.0      NaN  44.0   \n",
       "762            9     89.0           62.0            NaN      NaN  22.5   \n",
       "764            2    122.0           70.0           27.0      NaN  36.8   \n",
       "766            1    126.0           60.0            NaN      NaN  30.1   \n",
       "767            1     93.0           70.0           31.0      NaN  30.4   \n",
       "\n",
       "     DiabetesPedigreeFunction  Age Outcome  \n",
       "0                       0.627   50       1  \n",
       "1                       0.351   31       0  \n",
       "2                       0.672   32       1  \n",
       "5                       0.201   30       0  \n",
       "7                       0.134   29       0  \n",
       "..                        ...  ...     ...  \n",
       "761                     0.403   43       1  \n",
       "762                     0.142   33       0  \n",
       "764                     0.340   27       0  \n",
       "766                     0.349   47       1  \n",
       "767                     0.315   23       0  \n",
       "\n",
       "[376 rows x 9 columns]"
      ]
     },
     "execution_count": 103,
     "metadata": {},
     "output_type": "execute_result"
    }
   ],
   "source": [
    "# print rows with missing values\n",
    "diabetes[diabetes.isnull().any(axis=1)]"
   ]
  },
  {
   "cell_type": "markdown",
   "id": "e3f06a2e",
   "metadata": {},
   "source": [
    "12. Go through the rows with missing data. Do you notice any patterns or overlaps between the missing data?"
   ]
  },
  {
   "cell_type": "markdown",
   "id": "cb42cfe6",
   "metadata": {},
   "source": [
    "**Your response to question 12**:"
   ]
  },
  {
   "cell_type": "markdown",
   "id": "5b597d09",
   "metadata": {},
   "source": [
    "13. Next, take a closer look at the data types of each column in `diabetes_data`.\n",
    "\n",
    "    Does the result match what you would expect?"
   ]
  },
  {
   "cell_type": "code",
   "execution_count": 104,
   "id": "5855aa09",
   "metadata": {},
   "outputs": [
    {
     "name": "stdout",
     "output_type": "stream",
     "text": [
      "<class 'pandas.core.frame.DataFrame'>\n",
      "RangeIndex: 768 entries, 0 to 767\n",
      "Data columns (total 9 columns):\n",
      " #   Column                    Non-Null Count  Dtype  \n",
      "---  ------                    --------------  -----  \n",
      " 0   Pregnancies               768 non-null    int64  \n",
      " 1   Glucose                   763 non-null    float64\n",
      " 2   BloodPressure             733 non-null    float64\n",
      " 3   SkinThickness             541 non-null    float64\n",
      " 4   Insulin                   394 non-null    float64\n",
      " 5   BMI                       757 non-null    float64\n",
      " 6   DiabetesPedigreeFunction  768 non-null    float64\n",
      " 7   Age                       768 non-null    int64  \n",
      " 8   Outcome                   768 non-null    object \n",
      "dtypes: float64(6), int64(2), object(1)\n",
      "memory usage: 54.1+ KB\n"
     ]
    }
   ],
   "source": [
    "# print data types using .info() method\n",
    "diabetes.info()"
   ]
  },
  {
   "cell_type": "markdown",
   "id": "c61b8b02",
   "metadata": {},
   "source": [
    "14. To figure out why the `Outcome` column is of type `object` (string) instead of type `int64`, print out the unique values in the `Outcome` column."
   ]
  },
  {
   "cell_type": "code",
   "execution_count": 105,
   "id": "ffedd117",
   "metadata": {},
   "outputs": [
    {
     "data": {
      "text/plain": [
       "array(['1', '0', 'O'], dtype=object)"
      ]
     },
     "execution_count": 105,
     "metadata": {},
     "output_type": "execute_result"
    }
   ],
   "source": [
    "# print unique values of Outcome column\n",
    "diabetes.Outcome.unique()"
   ]
  },
  {
   "cell_type": "markdown",
   "id": "42b3bcbe",
   "metadata": {},
   "source": [
    "15. How might you resolve this issue?"
   ]
  },
  {
   "cell_type": "code",
   "execution_count": 106,
   "id": "b83b0b3b",
   "metadata": {},
   "outputs": [],
   "source": [
    "diabetes.Outcome.replace('O','0', inplace=True)"
   ]
  },
  {
   "cell_type": "code",
   "execution_count": 107,
   "id": "46aa1d12",
   "metadata": {},
   "outputs": [],
   "source": [
    "diabetes.Outcome.unique()\n",
    "diabetes.Outcome = diabetes.Outcome.astype('int')"
   ]
  },
  {
   "cell_type": "markdown",
   "id": "7495f5b6",
   "metadata": {},
   "source": [
    "**Your response to question 15**:"
   ]
  },
  {
   "cell_type": "markdown",
   "id": "9c5fbcbe",
   "metadata": {},
   "source": [
    "## Next Steps:"
   ]
  },
  {
   "cell_type": "markdown",
   "id": "22a324d0",
   "metadata": {},
   "source": [
    "16. Congratulations! In this project, you saw how EDA can help with the initial data inspection and cleaning process. This is an important step as it helps to keep your datasets clean and reliable.\n",
    "\n",
    "    Here are some ways you might extend this project if you'd like:\n",
    "    - Use `.value_counts()` to more fully explore the values in each column.\n",
    "    - Investigate other outliers in the data that may be easily overlooked.\n",
    "    - Instead of changing the `0` values in the five columns to `NaN`, try replacing the values with the median or mean of each column."
   ]
  },
  {
   "cell_type": "code",
   "execution_count": 68,
   "id": "b7f440b6",
   "metadata": {},
   "outputs": [
    {
     "data": {
      "image/png": "[encoded data removed]",
      "text/plain": [
       "<Figure size 432x288 with 1 Axes>"
      ]
     },
     "metadata": {
      "needs_background": "light"
     },
     "output_type": "display_data"
    }
   ],
   "source": [
    "fig, ax = plt.subplots()\n",
    "ax.hist(diabetes.Pregnancies,bins=18)\n",
    "ax.set(xlim=(0, 17), xticks=np.arange(1, 17),\n",
    "       ylim=(0, 140), yticks=np.linspace(0, 140, 5))\n",
    "plt.show()"
   ]
  },
  {
   "cell_type": "code",
   "execution_count": 69,
   "id": "f3f5e4b8",
   "metadata": {},
   "outputs": [
    {
     "data": {
      "image/png": "[encoded data removed]",
      "text/plain": [
       "<Figure size 432x288 with 1 Axes>"
      ]
     },
     "metadata": {
      "needs_background": "light"
     },
     "output_type": "display_data"
    }
   ],
   "source": [
    "fig, ax = plt.subplots()\n",
    "ax.hist(diabetes.BMI,bins=[0,10,18.5,24.9,29.9,39.9,49.9,59.9,70])\n",
    "ax.set(xlim=(10, 70), xticks=np.arange(0, 70, 10),\n",
    "       ylim=(0, 30), yticks=np.linspace(0, 400, 5))\n",
    "plt.show()"
   ]
  },
  {
   "cell_type": "code",
   "execution_count": 70,
   "id": "34f1da2d",
   "metadata": {
    "scrolled": true
   },
   "outputs": [
    {
     "data": {
      "image/png": "[encoded data removed]",
      "text/plain": [
       "<Figure size 432x288 with 1 Axes>"
      ]
     },
     "metadata": {
      "needs_background": "light"
     },
     "output_type": "display_data"
    }
   ],
   "source": [
    "fig, ax = plt.subplots()\n",
    "ax.hist(diabetes.Age,bins=[20,25,30,35,40,45,50,55,60,65,70])\n",
    "ax.set(xlim=(20, 70), xticks=np.arange(20, 70, 5),\n",
    "       ylim=(0, 30), yticks=np.linspace(0, 250, 5))\n",
    "plt.show()"
   ]
  },
  {
   "cell_type": "code",
   "execution_count": 111,
   "id": "4b22d14c",
   "metadata": {},
   "outputs": [
    {
     "name": "stdout",
     "output_type": "stream",
     "text": [
      "   Glucose  BloodPressure  SkinThickness     Insulin   BMI\n",
      "0    148.0           72.0       35.00000  155.548223  33.6\n",
      "1     85.0           66.0       29.00000  155.548223  26.6\n",
      "2    183.0           64.0       29.15342  155.548223  23.3\n",
      "3     89.0           66.0       23.00000   94.000000  28.1\n",
      "4    137.0           40.0       35.00000  168.000000  43.1\n"
     ]
    }
   ],
   "source": [
    "new_diabetes = diabetes[['Glucose','BloodPressure','SkinThickness','Insulin','BMI']].fillna(diabetes[['Glucose','BloodPressure','SkinThickness','Insulin','BMI']].mean())\n",
    "print(new_diabetes.head())"
   ]
  },
  {
   "cell_type": "code",
   "execution_count": 109,
   "id": "047bd1fe",
   "metadata": {},
   "outputs": [
    {
     "data": {
      "text/plain": [
       "32.000000    13\n",
       "31.600000    12\n",
       "31.200000    12\n",
       "32.457464    11\n",
       "32.400000    10\n",
       "             ..\n",
       "36.700000     1\n",
       "41.800000     1\n",
       "42.600000     1\n",
       "42.800000     1\n",
       "46.300000     1\n",
       "Name: BMI, Length: 248, dtype: int64"
      ]
     },
     "execution_count": 109,
     "metadata": {},
     "output_type": "execute_result"
    }
   ],
   "source": [
    "new_diabetes.BMI.value_counts()"
   ]
  },
  {
   "cell_type": "code",
   "execution_count": 73,
   "id": "8397006f",
   "metadata": {},
   "outputs": [
    {
     "data": {
      "image/png": "[encoded data removed]",
      "text/plain": [
       "<Figure size 432x288 with 1 Axes>"
      ]
     },
     "metadata": {
      "needs_background": "light"
     },
     "output_type": "display_data"
    }
   ],
   "source": [
    "fig, ax = plt.subplots()\n",
    "ax.hist(new_diabetes.BMI,bins=[0,10,18.5,24.9,29.9,39.9,49.9,59.9,70])\n",
    "ax.set(xlim=(10, 70), xticks=np.arange(0, 70, 10),\n",
    "       ylim=(0, 30), yticks=np.linspace(0, 400, 5))\n",
    "plt.show()"
   ]
  },
  {
   "cell_type": "code",
   "execution_count": 75,
   "id": "2a96229b",
   "metadata": {},
   "outputs": [
    {
     "data": {
      "text/plain": [
       "70.000000     57\n",
       "74.000000     52\n",
       "78.000000     45\n",
       "68.000000     45\n",
       "72.000000     44\n",
       "64.000000     43\n",
       "80.000000     40\n",
       "76.000000     39\n",
       "60.000000     37\n",
       "72.405184     35\n",
       "62.000000     34\n",
       "66.000000     30\n",
       "82.000000     30\n",
       "88.000000     25\n",
       "84.000000     23\n",
       "90.000000     22\n",
       "86.000000     21\n",
       "58.000000     21\n",
       "50.000000     13\n",
       "56.000000     12\n",
       "52.000000     11\n",
       "54.000000     11\n",
       "75.000000      8\n",
       "92.000000      8\n",
       "65.000000      7\n",
       "85.000000      6\n",
       "94.000000      6\n",
       "48.000000      5\n",
       "96.000000      4\n",
       "44.000000      4\n",
       "100.000000     3\n",
       "106.000000     3\n",
       "98.000000      3\n",
       "110.000000     3\n",
       "55.000000      2\n",
       "108.000000     2\n",
       "104.000000     2\n",
       "46.000000      2\n",
       "30.000000      2\n",
       "122.000000     1\n",
       "95.000000      1\n",
       "102.000000     1\n",
       "61.000000      1\n",
       "24.000000      1\n",
       "38.000000      1\n",
       "40.000000      1\n",
       "114.000000     1\n",
       "Name: BloodPressure, dtype: int64"
      ]
     },
     "execution_count": 75,
     "metadata": {},
     "output_type": "execute_result"
    }
   ],
   "source": [
    "new_diabetes.BloodPressure.value_counts()"
   ]
  },
  {
   "cell_type": "code",
   "execution_count": 78,
   "id": "2f619429",
   "metadata": {},
   "outputs": [
    {
     "data": {
      "image/png": "[encoded data removed]",
      "text/plain": [
       "<Figure size 432x288 with 1 Axes>"
      ]
     },
     "metadata": {
      "needs_background": "light"
     },
     "output_type": "display_data"
    }
   ],
   "source": [
    "fig, ax = plt.subplots()\n",
    "ax.hist(new_diabetes.BloodPressure,bins=[20,30,40,50,60,70,80,90,100,110,120,130])\n",
    "ax.set(xlim=(20, 130), xticks=np.arange(20, 130, 10),\n",
    "       ylim=(0, 30), yticks=np.linspace(0, 400, 5))\n",
    "plt.show()"
   ]
  },
  {
   "cell_type": "code",
   "execution_count": 80,
   "id": "9ffc4672",
   "metadata": {},
   "outputs": [
    {
     "data": {
      "image/png": "[encoded data removed]",
      "text/plain": [
       "<Figure size 432x288 with 1 Axes>"
      ]
     },
     "metadata": {
      "needs_background": "light"
     },
     "output_type": "display_data"
    }
   ],
   "source": [
    "sns.boxplot(x='BloodPressure', data=new_diabetes)\n",
    "plt.show()\n",
    "plt.close()"
   ]
  },
  {
   "cell_type": "code",
   "execution_count": 83,
   "id": "b79b9688",
   "metadata": {},
   "outputs": [
    {
     "name": "stdout",
     "output_type": "stream",
     "text": [
      "[[146.321591    23.39140668]\n",
      " [ 23.39140668  47.26770578]]\n"
     ]
    }
   ],
   "source": [
    "cov_BP_BMI = np.cov(new_diabetes.BloodPressure,new_diabetes.BMI)\n",
    "print(cov_BP_BMI)"
   ]
  },
  {
   "cell_type": "code",
   "execution_count": 84,
   "id": "47c8e3fe",
   "metadata": {},
   "outputs": [
    {
     "name": "stdout",
     "output_type": "stream",
     "text": [
      "0.2812677055165901\n"
     ]
    }
   ],
   "source": [
    "corr_BP_BMI, p = pearsonr(new_diabetes.BloodPressure, new_diabetes.BMI)\n",
    "print(corr_BP_BMI)"
   ]
  },
  {
   "cell_type": "code",
   "execution_count": 85,
   "id": "7f22ff4a",
   "metadata": {},
   "outputs": [
    {
     "data": {
      "image/png": "[encoded data removed]",
      "text/plain": [
       "<Figure size 432x288 with 1 Axes>"
      ]
     },
     "metadata": {
      "needs_background": "light"
     },
     "output_type": "display_data"
    }
   ],
   "source": [
    "plt.scatter(x = new_diabetes.BloodPressure, y = new_diabetes.BMI)\n",
    "plt.xlabel('Blood Pressure')\n",
    "plt.ylabel('BMI')\n",
    "plt.show()"
   ]
  },
  {
   "cell_type": "code",
   "execution_count": 87,
   "id": "b3d48b33",
   "metadata": {},
   "outputs": [
    {
     "data": {
      "image/png": "[encoded data removed]",
      "text/plain": [
       "<Figure size 432x288 with 1 Axes>"
      ]
     },
     "metadata": {
      "needs_background": "light"
     },
     "output_type": "display_data"
    },
    {
     "name": "stdout",
     "output_type": "stream",
     "text": [
      "[[77.28065994 32.78200663]\n",
      " [32.78200663 47.26770578]]\n",
      "0.5423977271776975\n"
     ]
    }
   ],
   "source": [
    "plt.scatter(x = new_diabetes.SkinThickness, y = new_diabetes.BMI)\n",
    "plt.xlabel('Skin Thickness, mm')\n",
    "plt.ylabel('BMI')\n",
    "plt.show()\n",
    "\n",
    "cov_BMI_skin = np.cov(new_diabetes.SkinThickness, new_diabetes.BMI)\n",
    "print(cov_BMI_skin)\n",
    "\n",
    "corr_BMI_skin, p = pearsonr(new_diabetes.SkinThickness, new_diabetes.BMI)\n",
    "print(corr_BMI_skin)"
   ]
  },
  {
   "cell_type": "code",
   "execution_count": 88,
   "id": "70755887",
   "metadata": {},
   "outputs": [
    {
     "data": {
      "image/png": "[encoded data removed]",
      "text/plain": [
       "<Figure size 432x288 with 1 Axes>"
      ]
     },
     "metadata": {
      "needs_background": "light"
     },
     "output_type": "display_data"
    },
    {
     "name": "stdout",
     "output_type": "stream",
     "text": [
      "[[254.47324533  49.37386938]\n",
      " [ 49.37386938  62.15998396]]\n",
      "0.3925732041590383\n"
     ]
    }
   ],
   "source": [
    "plt.scatter(x = diabetes.SkinThickness, y = diabetes.BMI)\n",
    "plt.xlabel('Skin Thickness, mm')\n",
    "plt.ylabel('BMI')\n",
    "plt.show()\n",
    "\n",
    "cov_BMI_skin_old = np.cov(diabetes.SkinThickness, diabetes.BMI)\n",
    "print(cov_BMI_skin_old)\n",
    "\n",
    "corr_BMI_skin_old, p = pearsonr(diabetes.SkinThickness, diabetes.BMI)\n",
    "print(corr_BMI_skin_old)"
   ]
  },
  {
   "cell_type": "code",
   "execution_count": 114,
   "id": "575473e6",
   "metadata": {},
   "outputs": [
    {
     "data": {
      "image/png": "[encoded data removed]",
      "text/plain": [
       "<Figure size 432x288 with 1 Axes>"
      ]
     },
     "metadata": {
      "needs_background": "light"
     },
     "output_type": "display_data"
    }
   ],
   "source": [
    "diabetic_Skin = diabetes.SkinThickness[diabetes.Outcome == 1]\n",
    "not_Skin = diabetes.SkinThickness[diabetes.Outcome == 0]\n",
    "plt.hist(diabetic_Skin, color = \"red\", density = True, alpha = 0.5, label = 'Diabetic')\n",
    "plt.hist(not_Skin, color = \"blue\", density = True, alpha = 0.5, label = 'Not')\n",
    "plt.legend()\n",
    "plt.show()"
   ]
  },
  {
   "cell_type": "code",
   "execution_count": null,
   "id": "10e0d41e",
   "metadata": {},
   "outputs": [],
   "source": []
  }
 ],
 "metadata": {
  "kernelspec": {
   "display_name": "Python 3 (ipykernel)",
   "language": "python",
   "name": "python3"
  },
  "language_info": {
   "codemirror_mode": {
    "name": "ipython",
    "version": 3
   },
   "file_extension": ".py",
   "mimetype": "text/x-python",
   "name": "python",
   "nbconvert_exporter": "python",
   "pygments_lexer": "ipython3",
   "version": "3.9.12"
  }
 },
 "nbformat": 4,
 "nbformat_minor": 5
}
