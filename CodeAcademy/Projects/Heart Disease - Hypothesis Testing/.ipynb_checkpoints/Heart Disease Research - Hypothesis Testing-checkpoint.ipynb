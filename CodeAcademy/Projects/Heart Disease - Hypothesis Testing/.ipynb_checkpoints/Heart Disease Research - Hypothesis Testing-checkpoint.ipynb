{
 "cells": [
  {
   "cell_type": "code",
   "execution_count": 5,
   "id": "7931905c",
   "metadata": {},
   "outputs": [
    {
     "name": "stdout",
     "output_type": "stream",
     "text": [
      "    age     sex  trestbps   chol            cp  exang  fbs  thalach  \\\n",
      "1  67.0    male     160.0  286.0  asymptomatic    1.0  0.0    108.0   \n",
      "2  67.0    male     120.0  229.0  asymptomatic    1.0  0.0    129.0   \n",
      "6  62.0  female     140.0  268.0  asymptomatic    0.0  0.0    160.0   \n",
      "8  63.0    male     130.0  254.0  asymptomatic    0.0  0.0    147.0   \n",
      "9  53.0    male     140.0  203.0  asymptomatic    1.0  1.0    155.0   \n",
      "\n",
      "  heart_disease  \n",
      "1      presence  \n",
      "2      presence  \n",
      "6      presence  \n",
      "8      presence  \n",
      "9      presence  \n"
     ]
    }
   ],
   "source": [
    "import pandas as pd\n",
    "import numpy as np\n",
    "import seaborn as sns\n",
    "\n",
    "heart = pd.read_csv('heart.csv')\n",
    "yes_hd = heart[heart.heart_disease == 'presence']\n",
    "no_hd = heart[heart.heart_disease == 'absence']\n",
    "print(yes_hd.head())"
   ]
  },
  {
   "cell_type": "markdown",
   "id": "5b9b3b3c",
   "metadata": {},
   "source": [
    "The full dataset has been loaded for you as heart, then split into two subsets:\n",
    "\n",
    "yes_hd, which contains data for patients with heart disease\n",
    "no_hd, which contains data for patients without heart disease\n",
    "For this project, we’ll investigate the following variables:\n",
    "\n",
    "chol: serum cholestorol in mg/dl\n",
    "fbs: An indicator for whether fasting blood sugar is greater than 120 mg/dl (1 = true; 0 = false)\n",
    "To start, we’ll investigate cholesterol levels for patients with heart disease. Use the dataset yes_hd to save cholesterol levels for patients with heart disease as a variable named chol_hd"
   ]
  },
  {
   "cell_type": "code",
   "execution_count": 8,
   "id": "6ab15530",
   "metadata": {},
   "outputs": [
    {
     "name": "stdout",
     "output_type": "stream",
     "text": [
      "251.4748201438849\n"
     ]
    }
   ],
   "source": [
    "chol_hd = yes_hd.chol\n",
    "mean_chol_hd = np.mean(chol_hd)\n",
    "print(mean_chol_hd)"
   ]
  },
  {
   "cell_type": "markdown",
   "id": "3bc0bebf",
   "metadata": {},
   "source": [
    "Do people with heart disease have high cholesterol levels (greater than or equal to 240 mg/dl) on average? Import the function from scipy.stats that you can use to test the following null and alternative hypotheses:\n",
    "\n",
    "Null: People with heart disease have an average cholesterol level equal to 240 mg/dl\n",
    "Alternative: People with heart disease have an average cholesterol level that is greater than 240 mg/dl\n",
    "Note: Unfortunately, the scipy.stats function we’ve been using does not (at the time of writing) have an alternative parameter to change the alternative hypothesis for this test. Therefore, you’ll have to run a two-sided test. However, since you calculated earlier that the average cholesterol level for heart disease patients is greater than 240 mg/dl, you can calculate the p-value for the one-sided test indicated above simply by dividing the two-sided p-value in half."
   ]
  },
  {
   "cell_type": "code",
   "execution_count": 9,
   "id": "f07182c6",
   "metadata": {},
   "outputs": [],
   "source": [
    "from scipy.stats import ttest_1samp"
   ]
  },
  {
   "cell_type": "markdown",
   "id": "8236ef9f",
   "metadata": {},
   "source": [
    "Run the hypothesis test indicated in task 3 and print out the p-value. Can you conclude that heart disease patients have an average cholesterol level significantly greater than 240 mg/dl? Use a significance threshold of 0.05."
   ]
  },
  {
   "cell_type": "code",
   "execution_count": 13,
   "id": "382cb106",
   "metadata": {},
   "outputs": [
    {
     "name": "stdout",
     "output_type": "stream",
     "text": [
      "0.0035411033905155707\n"
     ]
    }
   ],
   "source": [
    "# Calculating the p value for two-sided test and dividing by two\n",
    "tstat,pval = ttest_1samp(chol_hd, 240, alternative = 'greater')\n",
    "print(pval)"
   ]
  },
  {
   "cell_type": "markdown",
   "id": "c9b2cb1f",
   "metadata": {},
   "source": [
    "Repeat steps 1-4 in order to run the same hypothesis test, but for patients in the sample who were not diagnosed with heart disease. Do patients without heart disease have average cholesterol levels significantly above 240 mg/dl?"
   ]
  },
  {
   "cell_type": "code",
   "execution_count": 14,
   "id": "bad2a2ef",
   "metadata": {},
   "outputs": [
    {
     "name": "stdout",
     "output_type": "stream",
     "text": [
      "242.640243902439\n",
      "0.26397120232220506\n"
     ]
    }
   ],
   "source": [
    "chol_no = no_hd.chol\n",
    "mean_chol_no = np.mean(chol_no)\n",
    "print(mean_chol_no)\n",
    "\n",
    "tstat,pval = ttest_1samp(chol_no, 240, alternative = 'greater')\n",
    "print(pval)"
   ]
  },
  {
   "cell_type": "markdown",
   "id": "a45b6c4c",
   "metadata": {},
   "source": [
    "Let’s now return to the full dataset (saved as heart). How many patients are there in this dataset? Save the number of patients as num_patients and print it out."
   ]
  },
  {
   "cell_type": "code",
   "execution_count": 15,
   "id": "c3369732",
   "metadata": {},
   "outputs": [
    {
     "name": "stdout",
     "output_type": "stream",
     "text": [
      "303\n"
     ]
    }
   ],
   "source": [
    "num_patients = len(heart)\n",
    "print(num_patients)"
   ]
  },
  {
   "cell_type": "markdown",
   "id": "cd630af6",
   "metadata": {},
   "source": [
    "Remember that the fbs column of this dataset indicates whether or not a patient’s fasting blood sugar was greater than 120 mg/dl (1 means that their fasting blood sugar was greater than 120 mg/dl; 0 means it was less than or equal to 120 mg/dl).\n",
    "\n",
    "Calculate the number of patients with fasting blood sugar greater than 120. Save this number as num_highfbs_patients and print it out."
   ]
  },
  {
   "cell_type": "code",
   "execution_count": 17,
   "id": "53924b93",
   "metadata": {},
   "outputs": [
    {
     "name": "stdout",
     "output_type": "stream",
     "text": [
      "45\n"
     ]
    }
   ],
   "source": [
    "num_highfbs_patients = np.sum(heart.fbs == 1)\n",
    "print(num_highfbs_patients)"
   ]
  },
  {
   "cell_type": "markdown",
   "id": "f6db9b0b",
   "metadata": {},
   "source": [
    "Sometimes, part of an analysis will involve comparing a sample to known population values to see if the sample appears to be representative of the general population.\n",
    "\n",
    "By some estimates, about 8% of the U.S. population had diabetes (diagnosed or undiagnosed) in 1988 when this data was collected. While there are multiple tests that contribute to a diabetes diagnosis, fasting blood sugar levels greater than 120 mg/dl can be indicative of diabetes (or at least, pre-diabetes). If this sample were representative of the population, approximately how many people would you expect to have diabetes? Calculate and print out this number.\n",
    "\n",
    "Is this value similar to the number of patients with a resting blood sugar above 120 mg/dl — or different?"
   ]
  },
  {
   "cell_type": "code",
   "execution_count": 18,
   "id": "2aa932b4",
   "metadata": {},
   "outputs": [
    {
     "name": "stdout",
     "output_type": "stream",
     "text": [
      "The number of people in this dataset that we estimate have diabetes is 24.240000000000002\n"
     ]
    }
   ],
   "source": [
    "print('The number of people in this dataset that we estimate have diabetes is ' + str(num_patients*0.08))"
   ]
  },
  {
   "cell_type": "markdown",
   "id": "8ef11f86",
   "metadata": {},
   "source": [
    "Does this sample come from a population in which the rate of fbs > 120 mg/dl is equal to 8%? Import the function from scipy.stats that you can use to test the following null and alternative hypotheses:\n",
    "\n",
    "Null: This sample was drawn from a population where 8% of people have fasting blood sugar > 120 mg/dl\n",
    "Alternative: This sample was drawn from a population where more than 8% of people have fasting blood sugar > 120 mg/dl"
   ]
  },
  {
   "cell_type": "code",
   "execution_count": 19,
   "id": "e6ff8f97",
   "metadata": {},
   "outputs": [],
   "source": [
    "from scipy.stats import binom_test"
   ]
  },
  {
   "cell_type": "code",
   "execution_count": 21,
   "id": "a4fbdc45",
   "metadata": {},
   "outputs": [
    {
     "name": "stdout",
     "output_type": "stream",
     "text": [
      "4.689471951448875e-05\n",
      "The alternative hypothesis cannot be rejected.\n"
     ]
    }
   ],
   "source": [
    "pval = binom_test(num_highfbs_patients, num_patients, p = 0.08, alternative = 'greater')\n",
    "print(pval)\n",
    "if pval >= 0.05:\n",
    "    print(\"The null hypothesis cannot be rejected.\")\n",
    "else:\n",
    "    print(\"The alternative hypothesis cannot be rejected.\")"
   ]
  },
  {
   "cell_type": "code",
   "execution_count": null,
   "id": "e3690eb0",
   "metadata": {},
   "outputs": [],
   "source": []
  }
 ],
 "metadata": {
  "kernelspec": {
   "display_name": "Python 3 (ipykernel)",
   "language": "python",
   "name": "python3"
  },
  "language_info": {
   "codemirror_mode": {
    "name": "ipython",
    "version": 3
   },
   "file_extension": ".py",
   "mimetype": "text/x-python",
   "name": "python",
   "nbconvert_exporter": "python",
   "pygments_lexer": "ipython3",
   "version": "3.9.12"
  }
 },
 "nbformat": 4,
 "nbformat_minor": 5
}
