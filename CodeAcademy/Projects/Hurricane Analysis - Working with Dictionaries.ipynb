{
 "cells": [
  {
   "cell_type": "markdown",
   "id": "6418af77",
   "metadata": {},
   "source": [
    "# Hurricane Analysis"
   ]
  },
  {
   "cell_type": "markdown",
   "id": "fb05afec",
   "metadata": {},
   "source": [
    "### Input Data"
   ]
  },
  {
   "cell_type": "code",
   "execution_count": 3,
   "id": "2e96c16e",
   "metadata": {},
   "outputs": [],
   "source": [
    "# names of hurricanes\n",
    "names = ['Cuba I', 'San Felipe II Okeechobee', 'Bahamas', 'Cuba II', 'CubaBrownsville', 'Tampico', 'Labor Day', 'New England', 'Carol', 'Janet', 'Carla', 'Hattie', 'Beulah', 'Camille', 'Edith', 'Anita', 'David', 'Allen', 'Gilbert', 'Hugo', 'Andrew', 'Mitch', 'Isabel', 'Ivan', 'Emily', 'Katrina', 'Rita', 'Wilma', 'Dean', 'Felix', 'Matthew', 'Irma', 'Maria', 'Michael']\n",
    "\n",
    "# months of hurricanes\n",
    "months = ['October', 'September', 'September', 'November', 'August', 'September', 'September', 'September', 'September', 'September', 'September', 'October', 'September', 'August', 'September', 'September', 'August', 'August', 'September', 'September', 'August', 'October', 'September', 'September', 'July', 'August', 'September', 'October', 'August', 'September', 'October', 'September', 'September', 'October']\n",
    "\n",
    "# years of hurricanes\n",
    "years = [1924, 1928, 1932, 1932, 1933, 1933, 1935, 1938, 1953, 1955, 1961, 1961, 1967, 1969, 1971, 1977, 1979, 1980, 1988, 1989, 1992, 1998, 2003, 2004, 2005, 2005, 2005, 2005, 2007, 2007, 2016, 2017, 2017, 2018]\n",
    "\n",
    "# maximum sustained winds (mph) of hurricanes\n",
    "max_sustained_winds = [165, 160, 160, 175, 160, 160, 185, 160, 160, 175, 175, 160, 160, 175, 160, 175, 175, 190, 185, 160, 175, 180, 165, 165, 160, 175, 180, 185, 175, 175, 165, 180, 175, 160]\n",
    "\n",
    "# areas affected by each hurricane\n",
    "areas_affected = [['Central America', 'Mexico', 'Cuba', 'Florida', 'The Bahamas'], ['Lesser Antilles', 'The Bahamas', 'United States East Coast', 'Atlantic Canada'], ['The Bahamas', 'Northeastern United States'], ['Lesser Antilles', 'Jamaica', 'Cayman Islands', 'Cuba', 'The Bahamas', 'Bermuda'], ['The Bahamas', 'Cuba', 'Florida', 'Texas', 'Tamaulipas'], ['Jamaica', 'Yucatn Peninsula'], ['The Bahamas', 'Florida', 'Georgia', 'The Carolinas', 'Virginia'], ['Southeastern United States', 'Northeastern United States', 'Southwestern Quebec'], ['Bermuda', 'New England', 'Atlantic Canada'], ['Lesser Antilles', 'Central America'], ['Texas', 'Louisiana', 'Midwestern United States'], ['Central America'], ['The Caribbean', 'Mexico', 'Texas'], ['Cuba', 'United States Gulf Coast'], ['The Caribbean', 'Central America', 'Mexico', 'United States Gulf Coast'], ['Mexico'], ['The Caribbean', 'United States East coast'], ['The Caribbean', 'Yucatn Peninsula', 'Mexico', 'South Texas'], ['Jamaica', 'Venezuela', 'Central America', 'Hispaniola', 'Mexico'], ['The Caribbean', 'United States East Coast'], ['The Bahamas', 'Florida', 'United States Gulf Coast'], ['Central America', 'Yucatn Peninsula', 'South Florida'], ['Greater Antilles', 'Bahamas', 'Eastern United States', 'Ontario'], ['The Caribbean', 'Venezuela', 'United States Gulf Coast'], ['Windward Islands', 'Jamaica', 'Mexico', 'Texas'], ['Bahamas', 'United States Gulf Coast'], ['Cuba', 'United States Gulf Coast'], ['Greater Antilles', 'Central America', 'Florida'], ['The Caribbean', 'Central America'], ['Nicaragua', 'Honduras'], ['Antilles', 'Venezuela', 'Colombia', 'United States East Coast', 'Atlantic Canada'], ['Cape Verde', 'The Caribbean', 'British Virgin Islands', 'U.S. Virgin Islands', 'Cuba', 'Florida'], ['Lesser Antilles', 'Virgin Islands', 'Puerto Rico', 'Dominican Republic', 'Turks and Caicos Islands'], ['Central America', 'United States Gulf Coast (especially Florida Panhandle)']]\n",
    "\n",
    "# damages (USD($)) of hurricanes\n",
    "damages = ['Damages not recorded', '100M', 'Damages not recorded', '40M', '27.9M', '5M', 'Damages not recorded', '306M', '2M', '65.8M', '326M', '60.3M', '208M', '1.42B', '25.4M', 'Damages not recorded', '1.54B', '1.24B', '7.1B', '10B', '26.5B', '6.2B', '5.37B', '23.3B', '1.01B', '125B', '12B', '29.4B', '1.76B', '720M', '15.1B', '64.8B', '91.6B', '25.1B']\n",
    "\n",
    "# deaths for each hurricane\n",
    "deaths = [90,4000,16,3103,179,184,408,682,5,1023,43,319,688,259,37,11,2068,269,318,107,65,19325,51,124,17,1836,125,87,45,133,603,138,3057,74]"
   ]
  },
  {
   "cell_type": "markdown",
   "id": "cd6cfa33",
   "metadata": {},
   "source": [
    "### Code and Analysis"
   ]
  },
  {
   "cell_type": "markdown",
   "id": "b1f2f790",
   "metadata": {},
   "source": [
    "### Step 1 - Cleaning Code, Convert string to float\n",
    "Hurricanes, also known as cyclones or typhoons, are one of the most powerful forces of nature on Earth. Due to climate change caused by human activity, the number and intensity of hurricanes has risen, calling for better preparation by the many communities that are devastated by them. As a concerned environmentalist, you want to look at data about the most powerful hurricanes that have occurred.\n",
    "\n",
    "Begin by looking at the damages list. The list contains strings representing the total cost in USD($) caused by 34 category 5 hurricanes (wind speeds ≥ 157 mph (252 km/h )) in the Atlantic region. For some of the hurricanes, damage data was not recorded (\"Damages not recorded\"), while the rest are written in the format \"Prefix-B/M\", where B stands for billions (1000000000) and M stands for millions (1000000).\n",
    "\n",
    "Write a function that returns a new list of updated damages where the recorded data is converted to float values and the missing data is retained as \"Damages not recorded\".\n",
    "\n",
    "Test your function with the data stored in damages."
   ]
  },
  {
   "cell_type": "code",
   "execution_count": 4,
   "id": "7e9bf4f0",
   "metadata": {},
   "outputs": [
    {
     "name": "stdout",
     "output_type": "stream",
     "text": [
      "['Damages not recorded', 100000000.0, 'Damages not recorded', 40000000.0, 27900000.0, 5000000.0, 'Damages not recorded', 306000000.0, 2000000.0, 65800000.0, 326000000.0, 60300000.0, 208000000.0, 1420000000.0, 25400000.0, 'Damages not recorded', 1540000000.0, 1240000000.0, 7100000000.0, 10000000000.0, 26500000000.0, 6200000000.0, 5370000000.0, 23300000000.0, 1010000000.0, 125000000000.0, 12000000000.0, 29400000000.0, 1760000000.0, 720000000.0, 15100000000.0, 64800000000.0, 91600000000.0, 25100000000.0]\n"
     ]
    }
   ],
   "source": [
    "# Update Recorded Damages\n",
    "conversion = {\"M\": 1000000,\n",
    "              \"B\": 1000000000}\n",
    "\n",
    "def conversion_func(damages):\n",
    "    for i in range(len(damages)):\n",
    "        if damages[i] == 'Damages not recorded':\n",
    "            continue\n",
    "        elif \"M\" in damages[i]:\n",
    "            string = damages[i]\n",
    "            damages[i] = conversion.get(\"M\")*float(string[:-1])\n",
    "            #print(damages[i])\n",
    "        elif \"B\" in damages[i]:\n",
    "            string = damages[i]\n",
    "            damages[i] = conversion.get(\"B\")*float(string[:-1])\n",
    "            #print(damages[i])\n",
    "    return damages\n",
    "\n",
    "# test function by updating damages\n",
    "new_damages = conversion_func(damages)\n",
    "print(new_damages)"
   ]
  },
  {
   "cell_type": "markdown",
   "id": "aab2c32a",
   "metadata": {},
   "source": [
    "### Step 2 - Create a Dictionary of Dictionaries\n",
    "Additional data collected on the 34 strongest Atlantic hurricanes are provided in a series of lists. The data includes:\n",
    "\n",
    "names: names of the hurricanes\n",
    "months: months in which the hurricanes occurred\n",
    "years: years in which the hurricanes occurred\n",
    "max_sustained_winds: maximum sustained winds (miles per hour) of the hurricanes\n",
    "areas_affected: list of different areas affected by each of the hurricanes\n",
    "deaths: total number of deaths caused by each of the hurricanes\n",
    "The data is organized such that the data at each index, from 0 to 33, corresponds to the same hurricane.\n",
    "\n",
    "For example, names[0] yields the “Cuba I” hurricane, which ouccred in months[0] (October) years[0] (1924).\n",
    "\n",
    "Write a function that constructs a dictionary made out of the lists, where the keys of the dictionary are the names of the hurricanes, and the values are dictionaries themselves containing a key for each piece of data (Name, Month, Year,Max Sustained Wind, Areas Affected, Damage, Death) about the hurricane."
   ]
  },
  {
   "cell_type": "code",
   "execution_count": 5,
   "id": "43ebe685",
   "metadata": {},
   "outputs": [
    {
     "name": "stdout",
     "output_type": "stream",
     "text": [
      "{'Cuba I': {'Name': 'Cuba I', 'Month': 'October', 'Year': 1924, 'Max Sustained Wind': 165, 'Areas Affected': ['Central America', 'Mexico', 'Cuba', 'Florida', 'The Bahamas'], 'Damage': 'Damages not recorded', 'Deaths': 90}, 'San Felipe II Okeechobee': {'Name': 'San Felipe II Okeechobee', 'Month': 'September', 'Year': 1928, 'Max Sustained Wind': 160, 'Areas Affected': ['Lesser Antilles', 'The Bahamas', 'United States East Coast', 'Atlantic Canada'], 'Damage': 100000000.0, 'Deaths': 4000}, 'Bahamas': {'Name': 'Bahamas', 'Month': 'September', 'Year': 1932, 'Max Sustained Wind': 160, 'Areas Affected': ['The Bahamas', 'Northeastern United States'], 'Damage': 'Damages not recorded', 'Deaths': 16}, 'Cuba II': {'Name': 'Cuba II', 'Month': 'November', 'Year': 1932, 'Max Sustained Wind': 175, 'Areas Affected': ['Lesser Antilles', 'Jamaica', 'Cayman Islands', 'Cuba', 'The Bahamas', 'Bermuda'], 'Damage': 40000000.0, 'Deaths': 3103}, 'CubaBrownsville': {'Name': 'CubaBrownsville', 'Month': 'August', 'Year': 1933, 'Max Sustained Wind': 160, 'Areas Affected': ['The Bahamas', 'Cuba', 'Florida', 'Texas', 'Tamaulipas'], 'Damage': 27900000.0, 'Deaths': 179}, 'Tampico': {'Name': 'Tampico', 'Month': 'September', 'Year': 1933, 'Max Sustained Wind': 160, 'Areas Affected': ['Jamaica', 'Yucatn Peninsula'], 'Damage': 5000000.0, 'Deaths': 184}, 'Labor Day': {'Name': 'Labor Day', 'Month': 'September', 'Year': 1935, 'Max Sustained Wind': 185, 'Areas Affected': ['The Bahamas', 'Florida', 'Georgia', 'The Carolinas', 'Virginia'], 'Damage': 'Damages not recorded', 'Deaths': 408}, 'New England': {'Name': 'New England', 'Month': 'September', 'Year': 1938, 'Max Sustained Wind': 160, 'Areas Affected': ['Southeastern United States', 'Northeastern United States', 'Southwestern Quebec'], 'Damage': 306000000.0, 'Deaths': 682}, 'Carol': {'Name': 'Carol', 'Month': 'September', 'Year': 1953, 'Max Sustained Wind': 160, 'Areas Affected': ['Bermuda', 'New England', 'Atlantic Canada'], 'Damage': 2000000.0, 'Deaths': 5}, 'Janet': {'Name': 'Janet', 'Month': 'September', 'Year': 1955, 'Max Sustained Wind': 175, 'Areas Affected': ['Lesser Antilles', 'Central America'], 'Damage': 65800000.0, 'Deaths': 1023}, 'Carla': {'Name': 'Carla', 'Month': 'September', 'Year': 1961, 'Max Sustained Wind': 175, 'Areas Affected': ['Texas', 'Louisiana', 'Midwestern United States'], 'Damage': 326000000.0, 'Deaths': 43}, 'Hattie': {'Name': 'Hattie', 'Month': 'October', 'Year': 1961, 'Max Sustained Wind': 160, 'Areas Affected': ['Central America'], 'Damage': 60300000.0, 'Deaths': 319}, 'Beulah': {'Name': 'Beulah', 'Month': 'September', 'Year': 1967, 'Max Sustained Wind': 160, 'Areas Affected': ['The Caribbean', 'Mexico', 'Texas'], 'Damage': 208000000.0, 'Deaths': 688}, 'Camille': {'Name': 'Camille', 'Month': 'August', 'Year': 1969, 'Max Sustained Wind': 175, 'Areas Affected': ['Cuba', 'United States Gulf Coast'], 'Damage': 1420000000.0, 'Deaths': 259}, 'Edith': {'Name': 'Edith', 'Month': 'September', 'Year': 1971, 'Max Sustained Wind': 160, 'Areas Affected': ['The Caribbean', 'Central America', 'Mexico', 'United States Gulf Coast'], 'Damage': 25400000.0, 'Deaths': 37}, 'Anita': {'Name': 'Anita', 'Month': 'September', 'Year': 1977, 'Max Sustained Wind': 175, 'Areas Affected': ['Mexico'], 'Damage': 'Damages not recorded', 'Deaths': 11}, 'David': {'Name': 'David', 'Month': 'August', 'Year': 1979, 'Max Sustained Wind': 175, 'Areas Affected': ['The Caribbean', 'United States East coast'], 'Damage': 1540000000.0, 'Deaths': 2068}, 'Allen': {'Name': 'Allen', 'Month': 'August', 'Year': 1980, 'Max Sustained Wind': 190, 'Areas Affected': ['The Caribbean', 'Yucatn Peninsula', 'Mexico', 'South Texas'], 'Damage': 1240000000.0, 'Deaths': 269}, 'Gilbert': {'Name': 'Gilbert', 'Month': 'September', 'Year': 1988, 'Max Sustained Wind': 185, 'Areas Affected': ['Jamaica', 'Venezuela', 'Central America', 'Hispaniola', 'Mexico'], 'Damage': 7100000000.0, 'Deaths': 318}, 'Hugo': {'Name': 'Hugo', 'Month': 'September', 'Year': 1989, 'Max Sustained Wind': 160, 'Areas Affected': ['The Caribbean', 'United States East Coast'], 'Damage': 10000000000.0, 'Deaths': 107}, 'Andrew': {'Name': 'Andrew', 'Month': 'August', 'Year': 1992, 'Max Sustained Wind': 175, 'Areas Affected': ['The Bahamas', 'Florida', 'United States Gulf Coast'], 'Damage': 26500000000.0, 'Deaths': 65}, 'Mitch': {'Name': 'Mitch', 'Month': 'October', 'Year': 1998, 'Max Sustained Wind': 180, 'Areas Affected': ['Central America', 'Yucatn Peninsula', 'South Florida'], 'Damage': 6200000000.0, 'Deaths': 19325}, 'Isabel': {'Name': 'Isabel', 'Month': 'September', 'Year': 2003, 'Max Sustained Wind': 165, 'Areas Affected': ['Greater Antilles', 'Bahamas', 'Eastern United States', 'Ontario'], 'Damage': 5370000000.0, 'Deaths': 51}, 'Ivan': {'Name': 'Ivan', 'Month': 'September', 'Year': 2004, 'Max Sustained Wind': 165, 'Areas Affected': ['The Caribbean', 'Venezuela', 'United States Gulf Coast'], 'Damage': 23300000000.0, 'Deaths': 124}, 'Emily': {'Name': 'Emily', 'Month': 'July', 'Year': 2005, 'Max Sustained Wind': 160, 'Areas Affected': ['Windward Islands', 'Jamaica', 'Mexico', 'Texas'], 'Damage': 1010000000.0, 'Deaths': 17}, 'Katrina': {'Name': 'Katrina', 'Month': 'August', 'Year': 2005, 'Max Sustained Wind': 175, 'Areas Affected': ['Bahamas', 'United States Gulf Coast'], 'Damage': 125000000000.0, 'Deaths': 1836}, 'Rita': {'Name': 'Rita', 'Month': 'September', 'Year': 2005, 'Max Sustained Wind': 180, 'Areas Affected': ['Cuba', 'United States Gulf Coast'], 'Damage': 12000000000.0, 'Deaths': 125}, 'Wilma': {'Name': 'Wilma', 'Month': 'October', 'Year': 2005, 'Max Sustained Wind': 185, 'Areas Affected': ['Greater Antilles', 'Central America', 'Florida'], 'Damage': 29400000000.0, 'Deaths': 87}, 'Dean': {'Name': 'Dean', 'Month': 'August', 'Year': 2007, 'Max Sustained Wind': 175, 'Areas Affected': ['The Caribbean', 'Central America'], 'Damage': 1760000000.0, 'Deaths': 45}, 'Felix': {'Name': 'Felix', 'Month': 'September', 'Year': 2007, 'Max Sustained Wind': 175, 'Areas Affected': ['Nicaragua', 'Honduras'], 'Damage': 720000000.0, 'Deaths': 133}, 'Matthew': {'Name': 'Matthew', 'Month': 'October', 'Year': 2016, 'Max Sustained Wind': 165, 'Areas Affected': ['Antilles', 'Venezuela', 'Colombia', 'United States East Coast', 'Atlantic Canada'], 'Damage': 15100000000.0, 'Deaths': 603}, 'Irma': {'Name': 'Irma', 'Month': 'September', 'Year': 2017, 'Max Sustained Wind': 180, 'Areas Affected': ['Cape Verde', 'The Caribbean', 'British Virgin Islands', 'U.S. Virgin Islands', 'Cuba', 'Florida'], 'Damage': 64800000000.0, 'Deaths': 138}, 'Maria': {'Name': 'Maria', 'Month': 'September', 'Year': 2017, 'Max Sustained Wind': 175, 'Areas Affected': ['Lesser Antilles', 'Virgin Islands', 'Puerto Rico', 'Dominican Republic', 'Turks and Caicos Islands'], 'Damage': 91600000000.0, 'Deaths': 3057}, 'Michael': {'Name': 'Michael', 'Month': 'October', 'Year': 2018, 'Max Sustained Wind': 160, 'Areas Affected': ['Central America', 'United States Gulf Coast (especially Florida Panhandle)'], 'Damage': 25100000000.0, 'Deaths': 74}}\n"
     ]
    }
   ],
   "source": [
    "def consolidation_func(names, months, years, winds, areas, damage, death):\n",
    "    keys = ['Name', 'Month', 'Year', 'Max Sustained Wind', 'Areas Affected', 'Damage', 'Deaths']\n",
    "    new_dict = {}\n",
    "    for i in range(len(names)):\n",
    "        data_array = [names[i], months[i], years[i], winds[i], areas[i], damage[i], death[i]]\n",
    "        new_dict[names[i]] = {key:value for key, value in zip(keys, data_array)}\n",
    "    return new_dict\n",
    "\n",
    "consolidated_data = consolidation_func(names, months, years, max_sustained_winds, areas_affected, new_damages, deaths)\n",
    "print(consolidated_data)"
   ]
  },
  {
   "cell_type": "code",
   "execution_count": 37,
   "id": "661764eb",
   "metadata": {},
   "outputs": [
    {
     "name": "stdout",
     "output_type": "stream",
     "text": [
      "{'Name': 'Cuba I', 'Month': 'October', 'Year': 1924, 'Max Sustained Wind': 165, 'Areas Affected': ['Central America', 'Mexico', 'Cuba', 'Florida', 'The Bahamas'], 'Damage': 'Damages not recorded', 'Deaths': 90}\n"
     ]
    }
   ],
   "source": [
    "# Testing out the function - did it work correctly? \n",
    "\"\"\"Thus the key \"Cuba I\" would have the value: \n",
    "{'Name': 'Cuba I', 'Month': 'October', 'Year': 1924, 'Max Sustained Wind': 165, \n",
    "'Areas Affected': ['Central America', 'Mexico', 'Cuba', 'Florida', 'The Bahamas'], \n",
    "'Damage': 'Damages not recorded', 'Deaths': 90}\"\"\"\n",
    "\n",
    "print(consolidated_data[\"Cuba I\"])"
   ]
  },
  {
   "cell_type": "markdown",
   "id": "5c8f6452",
   "metadata": {},
   "source": [
    "### Step 4\n",
    "In addition to organizing the hurricanes in a dictionary with names as the key, you want to be able to organize the hurricanes by year.\n",
    "\n",
    "Write a function that converts the current dictionary of hurricanes to a new dictionary, where the keys are years and the values are lists containing a dictionary for each hurricane that occurred in that year."
   ]
  },
  {
   "cell_type": "code",
   "execution_count": 6,
   "id": "8e5862ed",
   "metadata": {},
   "outputs": [
    {
     "name": "stdout",
     "output_type": "stream",
     "text": [
      "[1924, 1928, 1932, 1933, 1935, 1938, 1953, 1955, 1961, 1967, 1969, 1971, 1977, 1979, 1980, 1988, 1989, 1992, 1998, 2003, 2004, 2005, 2007, 2016, 2017, 2018]\n",
      "[{'Name': 'Cuba II', 'Month': 'November', 'Year': 1932, 'Max Sustained Wind': 175, 'Areas Affected': ['Lesser Antilles', 'Jamaica', 'Cayman Islands', 'Cuba', 'The Bahamas', 'Bermuda'], 'Damage': 40000000.0, 'Deaths': 3103}, {'Name': 'Bahamas', 'Month': 'September', 'Year': 1932, 'Max Sustained Wind': 160, 'Areas Affected': ['The Bahamas', 'Northeastern United States'], 'Damage': 'Damages not recorded', 'Deaths': 16}]\n"
     ]
    }
   ],
   "source": [
    "def dict_by_year(year_array, dictionary):\n",
    "    new_dict = {}\n",
    "    year_array_new = []\n",
    "    \n",
    "    for year in year_array:\n",
    "        if year in year_array_new:\n",
    "            continue\n",
    "        else:\n",
    "            year_array_new.append(year)\n",
    "    print(year_array_new)\n",
    "    for year in year_array_new:\n",
    "        for dict_test in dictionary:\n",
    "            if year in dictionary[dict_test].values():\n",
    "                if year in new_dict:\n",
    "                    new_dict[year] = [dictionary[dict_test], new_dict[year]]\n",
    "                else:\n",
    "                    new_dict[year] = dictionary[dict_test]\n",
    "                \n",
    "            else:\n",
    "                continue\n",
    "    return new_dict\n",
    "\n",
    "hurricanes_by_year = dict_by_year(years, consolidated_data)\n",
    "print(hurricanes_by_year[1932])"
   ]
  },
  {
   "cell_type": "markdown",
   "id": "7ee3c20f",
   "metadata": {},
   "source": [
    "### Step 5\n",
    "\n",
    "You believe that knowing how often each of the areas of the Atlantic are affected by these strong hurricanes is important for making preparations for future hurricanes.\n",
    "\n",
    "Write a function that counts how often each area is listed as an affected area of a hurricane. Store and return the results in a dictionary where the keys are the affected areas and the values are counts of how many times the areas were affected."
   ]
  },
  {
   "cell_type": "code",
   "execution_count": 7,
   "id": "8c70523a",
   "metadata": {
    "scrolled": true
   },
   "outputs": [
    {
     "name": "stdout",
     "output_type": "stream",
     "text": [
      "{'Central America': 9, 'Mexico': 7, 'Cuba': 6, 'Florida': 6, 'The Bahamas': 7, 'Lesser Antilles': 4, 'United States East Coast': 3, 'Atlantic Canada': 3, 'Northeastern United States': 2, 'Jamaica': 4, 'Cayman Islands': 1, 'Bermuda': 2, 'Texas': 4, 'Tamaulipas': 1, 'Yucatn Peninsula': 3, 'Georgia': 1, 'The Carolinas': 1, 'Virginia': 1, 'Southeastern United States': 1, 'Southwestern Quebec': 1, 'New England': 1, 'Louisiana': 1, 'Midwestern United States': 1, 'The Caribbean': 8, 'United States Gulf Coast': 6, 'United States East coast': 1, 'South Texas': 1, 'Venezuela': 3, 'Hispaniola': 1, 'South Florida': 1, 'Greater Antilles': 2, 'Bahamas': 2, 'Eastern United States': 1, 'Ontario': 1, 'Windward Islands': 1, 'Nicaragua': 1, 'Honduras': 1, 'Antilles': 1, 'Colombia': 1, 'Cape Verde': 1, 'British Virgin Islands': 1, 'U.S. Virgin Islands': 1, 'Virgin Islands': 1, 'Puerto Rico': 1, 'Dominican Republic': 1, 'Turks and Caicos Islands': 1, 'United States Gulf Coast (especially Florida Panhandle)': 1}\n"
     ]
    }
   ],
   "source": [
    "def area_counts_dict(areas):\n",
    "    new_dict = {}\n",
    "    for row in areas:\n",
    "        for elem in row:\n",
    "            if elem in new_dict:\n",
    "                new_dict[elem] += 1\n",
    "            else:\n",
    "                new_dict[elem] = 1\n",
    "    return new_dict\n",
    "\n",
    "area_count_dict = area_counts_dict(areas_affected)\n",
    "print(area_count_dict)"
   ]
  },
  {
   "cell_type": "markdown",
   "id": "630e44d3",
   "metadata": {},
   "source": [
    "### Step 6\n",
    "Write a function that finds the area affected by the most hurricanes, and how often it was hit."
   ]
  },
  {
   "cell_type": "code",
   "execution_count": 8,
   "id": "c4ba60b8",
   "metadata": {},
   "outputs": [
    {
     "name": "stdout",
     "output_type": "stream",
     "text": [
      "The area most hit by hurricanes is Central America with a count of 9\n"
     ]
    }
   ],
   "source": [
    "def area_most_hit(area_dict):\n",
    "    sorted_dict = {}\n",
    "    sorted_values = sorted(area_dict.values(), reverse = True)\n",
    "    for i in sorted_values:\n",
    "        for k in area_dict.keys():\n",
    "            if area_dict[k] == i:\n",
    "                sorted_dict[k] = area_dict[k]\n",
    "                continue\n",
    "    sorted_list = list(sorted_dict.items())\n",
    "    print(\"The area most hit by hurricanes is \" + sorted_list[0][0] + \" with a count of \" + str(sorted_list[0][1]))\n",
    "    \n",
    "\n",
    "checking = area_most_hit(area_count_dict)"
   ]
  },
  {
   "cell_type": "markdown",
   "id": "39e3328b",
   "metadata": {},
   "source": [
    "### Step 7\n",
    "Write a function that finds the hurricane that caused the greatest number of deaths, and how many deaths it caused."
   ]
  },
  {
   "cell_type": "code",
   "execution_count": 9,
   "id": "15511d5c",
   "metadata": {},
   "outputs": [
    {
     "name": "stdout",
     "output_type": "stream",
     "text": [
      "The Hurricane that caused the most deaths was Mitch with a total count of 19325 deaths.\n"
     ]
    }
   ],
   "source": [
    "def find_most_deaths(dictionary):\n",
    "    \"\"\"Iterating through the dictionary to pull the name of the hurricane and the death count.\n",
    "    Creating a dictionary of death counts by hurricane\"\"\"\n",
    "    \n",
    "    # initiating the total death variable\n",
    "    deaths = 0\n",
    "    name = ''\n",
    "    for key in dictionary:\n",
    "        new_dict = dictionary[key]\n",
    "        if int(new_dict['Deaths']) > deaths:\n",
    "            deaths = int(new_dict['Deaths'])\n",
    "            name = new_dict['Name']\n",
    "    print(\"The Hurricane that caused the most deaths was \" + name + \" with a total count of \" + str(deaths) + \" deaths.\")\n",
    "\n",
    "find_most_deaths(consolidated_data)"
   ]
  },
  {
   "cell_type": "markdown",
   "id": "4e6878f2",
   "metadata": {},
   "source": [
    "### Step 8\n",
    "Just as hurricanes are rated by their windspeed, you want to try rating hurricanes based on other metrics.\n",
    "\n",
    "Write a function that rates hurricanes on a mortality scale according to the following ratings, where the key is the rating and the value is the upper bound of deaths for that rating.\n",
    "\n",
    "mortality_scale = {0: 0,\n",
    "                   1: 100,\n",
    "                   2: 500,\n",
    "                   3: 1000,\n",
    "                   4: 10000}\n",
    "For example, a hurricane with a 1 mortality rating would have resulted in greater than 0 but less than or equal to 100 deaths. A hurricane with a 5 mortality rating would have resulted in greater than 10000 deaths.\n",
    "\n",
    "Store the hurricanes in a new dictionary where the keys are mortality ratings and the values are lists containing a dictionary for each hurricane that falls into that mortality rating."
   ]
  },
  {
   "cell_type": "code",
   "execution_count": 10,
   "id": "3e7f3347",
   "metadata": {},
   "outputs": [
    {
     "name": "stdout",
     "output_type": "stream",
     "text": [
      "{0: [], 1: ['Cuba I', 'Bahamas', 'Carol', 'Carla', 'Edith', 'Anita', 'Andrew', 'Isabel', 'Emily', 'Wilma', 'Dean', 'Michael'], 2: ['CubaBrownsville', 'Tampico', 'Labor Day', 'Hattie', 'Camille', 'Allen', 'Gilbert', 'Hugo', 'Ivan', 'Rita', 'Felix', 'Irma'], 3: ['New England', 'Beulah', 'Matthew'], 4: ['San Felipe II Okeechobee', 'Cuba II', 'Janet', 'David', 'Katrina', 'Maria'], 5: ['Mitch']}\n"
     ]
    }
   ],
   "source": [
    "def ratings_by_deaths(dictionary):\n",
    "    mortality_scale = {0: 0, 1: 100, 2: 500, 3: 1000, 4: 10000}\n",
    "    mortality_dict = {0:[], 1:[], 2:[], 3:[], 4:[], 5:[]}\n",
    "    for key in dictionary:\n",
    "        new_dict = dictionary[key]\n",
    "        death_val = new_dict['Deaths']\n",
    "        if death_val == mortality_scale[0]:\n",
    "            mortality_dict[0].append(new_dict['Name'])\n",
    "        elif death_val <= mortality_scale[1] and death_val > mortality_scale[0]:\n",
    "            mortality_dict[1].append(new_dict['Name'])\n",
    "        elif death_val <= mortality_scale[2] and death_val > mortality_scale[1]:\n",
    "            mortality_dict[2].append(new_dict['Name'])\n",
    "        elif death_val <= mortality_scale[3] and death_val > mortality_scale[2]:\n",
    "            mortality_dict[3].append(new_dict['Name'])\n",
    "        elif death_val <= mortality_scale[4] and death_val > mortality_scale[3]:\n",
    "            mortality_dict[4].append(new_dict['Name'])\n",
    "        else:\n",
    "            mortality_dict[5].append(new_dict['Name'])\n",
    "    return mortality_dict\n",
    "\n",
    "morts = ratings_by_deaths(consolidated_data)\n",
    "print(morts)"
   ]
  },
  {
   "cell_type": "markdown",
   "id": "990c16d5",
   "metadata": {},
   "source": [
    "### Step 9\n",
    "Write a function that finds the hurricane that caused the greatest damage, and how costly it was."
   ]
  },
  {
   "cell_type": "code",
   "execution_count": 11,
   "id": "0f5ed519",
   "metadata": {},
   "outputs": [
    {
     "name": "stdout",
     "output_type": "stream",
     "text": [
      "The Hurricane that caused the most damage was Katrina with a total USD $125000000000.0 in 2005.\n"
     ]
    }
   ],
   "source": [
    "def find_highest_cost(dictionary):\n",
    "    \"\"\"Iterating through the dictionary to pull the name of the hurricane and the cost.\n",
    "    \"\"\"\n",
    "    \n",
    "    # initiating the cost variable\n",
    "    cost = 0\n",
    "    \n",
    "    for key in dictionary:\n",
    "        new_dict = dictionary[key]\n",
    "        if new_dict['Damage'] == 'Damages not recorded':\n",
    "            continue\n",
    "        elif float(new_dict['Damage']) > cost: #probably don't need the float, but doing this in case new data was added incorrectly.\n",
    "            cost = float(new_dict['Damage'])\n",
    "            name = new_dict['Name']\n",
    "            year = new_dict['Year']\n",
    "    print(\"The Hurricane that caused the most damage was \" + name + \" with a total USD $\" + str(cost) + \" in \" + str(year)+\".\")\n",
    "\n",
    "find_highest_cost(consolidated_data)"
   ]
  },
  {
   "cell_type": "markdown",
   "id": "5495cb2c",
   "metadata": {},
   "source": [
    "### Step 10\n",
    "Lastly, you want to rate hurricanes according to how much damage they cause.\n",
    "\n",
    "Write a function that rates hurricanes on a damage scale according to the following ratings, where the key is the rating and the value is the upper bound of damage for that rating.\n",
    "\n",
    "damage_scale = {0: 0,\n",
    "                1: 100000000,\n",
    "                2: 1000000000,\n",
    "                3: 10000000000,\n",
    "                4: 50000000000}\n",
    "For example, a hurricane with a 1 damage rating would have resulted in damages greater than 0 USD but less than or equal to 100000000 USD. A hurricane with a 5 damage rating would have resulted in damages greater than 50000000000 USD (talk about a lot of money).\n",
    "\n",
    "Store the hurricanes in a new dictionary where the keys are damage ratings and the values are lists containing a dictionary for each hurricane that falls into that damage rating."
   ]
  },
  {
   "cell_type": "code",
   "execution_count": 12,
   "id": "2efcd2d0",
   "metadata": {},
   "outputs": [
    {
     "name": "stdout",
     "output_type": "stream",
     "text": [
      "[{'Name': 'Camille', 'Month': 'August', 'Year': 1969, 'Max Sustained Wind': 175, 'Areas Affected': ['Cuba', 'United States Gulf Coast'], 'Damage': 1420000000.0, 'Deaths': 259}, {'Name': 'David', 'Month': 'August', 'Year': 1979, 'Max Sustained Wind': 175, 'Areas Affected': ['The Caribbean', 'United States East coast'], 'Damage': 1540000000.0, 'Deaths': 2068}, {'Name': 'Allen', 'Month': 'August', 'Year': 1980, 'Max Sustained Wind': 190, 'Areas Affected': ['The Caribbean', 'Yucatn Peninsula', 'Mexico', 'South Texas'], 'Damage': 1240000000.0, 'Deaths': 269}, {'Name': 'Gilbert', 'Month': 'September', 'Year': 1988, 'Max Sustained Wind': 185, 'Areas Affected': ['Jamaica', 'Venezuela', 'Central America', 'Hispaniola', 'Mexico'], 'Damage': 7100000000.0, 'Deaths': 318}, {'Name': 'Hugo', 'Month': 'September', 'Year': 1989, 'Max Sustained Wind': 160, 'Areas Affected': ['The Caribbean', 'United States East Coast'], 'Damage': 10000000000.0, 'Deaths': 107}, {'Name': 'Mitch', 'Month': 'October', 'Year': 1998, 'Max Sustained Wind': 180, 'Areas Affected': ['Central America', 'Yucatn Peninsula', 'South Florida'], 'Damage': 6200000000.0, 'Deaths': 19325}, {'Name': 'Isabel', 'Month': 'September', 'Year': 2003, 'Max Sustained Wind': 165, 'Areas Affected': ['Greater Antilles', 'Bahamas', 'Eastern United States', 'Ontario'], 'Damage': 5370000000.0, 'Deaths': 51}, {'Name': 'Emily', 'Month': 'July', 'Year': 2005, 'Max Sustained Wind': 160, 'Areas Affected': ['Windward Islands', 'Jamaica', 'Mexico', 'Texas'], 'Damage': 1010000000.0, 'Deaths': 17}, {'Name': 'Dean', 'Month': 'August', 'Year': 2007, 'Max Sustained Wind': 175, 'Areas Affected': ['The Caribbean', 'Central America'], 'Damage': 1760000000.0, 'Deaths': 45}]\n"
     ]
    }
   ],
   "source": [
    "def ratings_by_costs(dictionary):\n",
    "    damage_scale = {0: 0, 1: 100000000, 2: 1000000000, 3: 10000000000, 4: 50000000000}\n",
    "    cost_dict = {0:[], 1:[], 2:[], 3:[], 4:[], 5:[]}\n",
    "    for key in dictionary:\n",
    "        new_dict = dictionary[key]\n",
    "        dam_value = new_dict['Damage']\n",
    "        if dam_value == 'Damages not recorded' :\n",
    "            cost_dict[0].append(dictionary[key])\n",
    "        elif dam_value == damage_scale[0]:\n",
    "            cost_dict[0].append(dictionary[key])\n",
    "        elif dam_value <= damage_scale[1] and dam_value > damage_scale[0]:\n",
    "            cost_dict[1].append(dictionary[key])\n",
    "        elif dam_value <= damage_scale[2] and dam_value > damage_scale[1]:\n",
    "            cost_dict[2].append(dictionary[key])\n",
    "        elif dam_value <= damage_scale[3] and dam_value > damage_scale[2]:\n",
    "            cost_dict[3].append(dictionary[key])\n",
    "        elif dam_value <= damage_scale[4] and dam_value > damage_scale[3]:\n",
    "            cost_dict[4].append(dictionary[key])\n",
    "        else:\n",
    "            cost_dict[5].append(dictionary[key])\n",
    "    return cost_dict\n",
    "\n",
    "costs = ratings_by_costs(consolidated_data)\n",
    "print(costs[3])"
   ]
  },
  {
   "cell_type": "markdown",
   "id": "77eab222",
   "metadata": {},
   "source": [
    "### My Bonus Step - Use string functions to print out each item in a dictionary"
   ]
  },
  {
   "cell_type": "code",
   "execution_count": 1,
   "id": "456e0bd2",
   "metadata": {},
   "outputs": [
    {
     "data": {
      "text/plain": [
       "\"print_out = '{Name} is a {Age} year old {Sex} {Smoker} with a BMI of {BMI} and insurance cost of {Insurance}'\\nfor key in medical_records:\\n  temp = medical_records[key]\\n  release = print_out.format(Name = key, Age = temp['Age'], Sex = temp['Sex'], Smoker = temp['Smoker'], BMI = temp['BMI'], Insurance = temp['Insurance_cost'])\\n  print(release)\""
      ]
     },
     "execution_count": 1,
     "metadata": {},
     "output_type": "execute_result"
    }
   ],
   "source": [
    "# Example from CodeAcademy Project\n",
    "\"\"\"print_out = '{Name} is a {Age} year old {Sex} {Smoker} with a BMI of {BMI} and insurance cost of {Insurance}'\n",
    "for key in medical_records:\n",
    "  temp = medical_records[key]\n",
    "  release = print_out.format(Name = key, Age = temp['Age'], Sex = temp['Sex'], Smoker = temp['Smoker'], BMI = temp['BMI'], Insurance = temp['Insurance_cost'])\n",
    "  print(release)\"\"\""
   ]
  },
  {
   "cell_type": "markdown",
   "id": "eafeb9a0",
   "metadata": {},
   "source": [
    "### My Second Bonus Step - Create a function that takes name of hurricane and the associated data to update the Hurricane dictionary"
   ]
  },
  {
   "cell_type": "code",
   "execution_count": null,
   "id": "91680b71",
   "metadata": {},
   "outputs": [],
   "source": [
    "def hurricane_intake(Name, Month, Year, Areas_Affected, Damage, Deaths, Max_Sustained_Wind, Hurricane_dict):\n",
    "    \n",
    "    # we should make sure this function intakes and cleans data appropriately and ensures the correct format.\n",
    "    # call a function (needs to be written) for checking month, year are valid\n",
    "    # call a function to check areas_affected\n",
    "    # call the function to change the damage value into a float\n",
    "    # check death, wind data are in int\n",
    "    temp_dict = {}\n",
    "    temp_dict[Name] = {'Name': Name, 'Month': Month, 'Year': Year, 'Max Sustained Wind': Max_Sustained_Wind, 'Areas Affected': Areas_Affected, 'Damage': Damage, 'Deaths': Deaths}\n",
    "    Hurricane_dict[Name] = temp_dict[Name]\n",
    "    return Hurricane_dict"
   ]
  }
 ],
 "metadata": {
  "kernelspec": {
   "display_name": "Python 3 (ipykernel)",
   "language": "python",
   "name": "python3"
  },
  "language_info": {
   "codemirror_mode": {
    "name": "ipython",
    "version": 3
   },
   "file_extension": ".py",
   "mimetype": "text/x-python",
   "name": "python",
   "nbconvert_exporter": "python",
   "pygments_lexer": "ipython3",
   "version": "3.9.12"
  }
 },
 "nbformat": 4,
 "nbformat_minor": 5
}
