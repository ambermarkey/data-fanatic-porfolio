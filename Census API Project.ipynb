{
 "cells": [
  {
   "cell_type": "code",
   "execution_count": null,
   "id": "b272c5ee",
   "metadata": {},
   "outputs": [],
   "source": [
    "import requests\n",
    "import csv\n",
    "import pandas"
   ]
  },
  {
   "cell_type": "code",
   "execution_count": null,
   "id": "fc30ee5b",
   "metadata": {},
   "outputs": [],
   "source": [
    "#source of info: https://www.census.gov/content/dam/Census/data/developers/api-user-guide/api-guide.pdf\n",
    "#getting census data for New York (36), for each county for commuters with a commute of >90min\n",
    "r = requests.get('https://api.census.gov/data/2020/acs/acs5?get=NAME,B08303_001E,B08303_013E&for=county:*&in=state:36')\n",
    "r_text = r.text\n",
    "#print(r_text)\n",
    "r_json = r.json() #converts data into array\n",
    "#print(r_json)"
   ]
  },
  {
   "cell_type": "markdown",
   "id": "1c2549dc",
   "metadata": {},
   "source": [
    "### Creating a csv File for the commute data after converting to json"
   ]
  },
  {
   "cell_type": "code",
   "execution_count": null,
   "id": "5a96319e",
   "metadata": {},
   "outputs": [],
   "source": [
    "with open('commute_data.csv', mode='w', newline ='') as file:\n",
    "  writer = csv.writer(file)\n",
    "  writer.writerows(r.json())"
   ]
  },
  {
   "cell_type": "markdown",
   "id": "869eacbc",
   "metadata": {},
   "source": [
    "### Using Pandas to import the commute_data into a dataframe"
   ]
  },
  {
   "cell_type": "code",
   "execution_count": 1,
   "id": "d2a7fdb2",
   "metadata": {},
   "outputs": [
    {
     "ename": "NameError",
     "evalue": "name 'pandas' is not defined",
     "output_type": "error",
     "traceback": [
      "\u001b[1;31m---------------------------------------------------------------------------\u001b[0m",
      "\u001b[1;31mNameError\u001b[0m                                 Traceback (most recent call last)",
      "Input \u001b[1;32mIn [1]\u001b[0m, in \u001b[0;36m<cell line: 2>\u001b[1;34m()\u001b[0m\n\u001b[0;32m      1\u001b[0m \u001b[38;5;66;03m#import data into dataframe\u001b[39;00m\n\u001b[1;32m----> 2\u001b[0m commute_df \u001b[38;5;241m=\u001b[39m \u001b[43mpandas\u001b[49m\u001b[38;5;241m.\u001b[39mread_csv(\u001b[38;5;124m'\u001b[39m\u001b[38;5;124mcommute_data.csv\u001b[39m\u001b[38;5;124m'\u001b[39m)\n\u001b[0;32m      4\u001b[0m \u001b[38;5;66;03m# Preview first few rows using .head()\u001b[39;00m\n\u001b[0;32m      5\u001b[0m \u001b[38;5;28mprint\u001b[39m(commute_df\u001b[38;5;241m.\u001b[39mhead())\n",
      "\u001b[1;31mNameError\u001b[0m: name 'pandas' is not defined"
     ]
    }
   ],
   "source": [
    "#import data into dataframe\n",
    "commute_df = pandas.read_csv('commute_data.csv')\n",
    "\n",
    "# Preview first few rows using .head()\n",
    "print(commute_df.head())\n",
    "\n",
    "# changing the column names to be readable\n",
    "commute_df.columns = ['name', 'total_commuters', 'commuters_90min', 'state', 'county']\n",
    "\n",
    "#Check the change\n",
    "print(commute_df.head())"
   ]
  },
  {
   "cell_type": "markdown",
   "id": "e4f96f9b",
   "metadata": {},
   "source": []
  }
 ],
 "metadata": {
  "kernelspec": {
   "display_name": "Python 3 (ipykernel)",
   "language": "python",
   "name": "python3"
  },
  "language_info": {
   "codemirror_mode": {
    "name": "ipython",
    "version": 3
   },
   "file_extension": ".py",
   "mimetype": "text/x-python",
   "name": "python",
   "nbconvert_exporter": "python",
   "pygments_lexer": "ipython3",
   "version": "3.9.12"
  }
 },
 "nbformat": 4,
 "nbformat_minor": 5
}
